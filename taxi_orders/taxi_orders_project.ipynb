{
  "cells": [
    {
      "cell_type": "markdown",
      "metadata": {
        "id": "N6jR-Scw9uB3"
      },
      "source": [
        "## Этап 1. Подготовка"
      ]
    },
    {
      "cell_type": "code",
      "execution_count": null,
      "metadata": {
        "id": "J2u3tS0I9uB4"
      },
      "outputs": [],
      "source": [
        "# импортируем библиотеки\n",
        "import pandas as pd\n",
        "import numpy as np\n",
        "import matplotlib.pyplot as plt\n",
        "\n",
        "from statsmodels.tsa.seasonal import seasonal_decompose\n",
        "from statsmodels.graphics.tsaplots import (\n",
        "    plot_acf,\n",
        "    plot_pacf\n",
        ")\n",
        "\n",
        "from sklearn.linear_model import (\n",
        "    LinearRegression,\n",
        "    Ridge,\n",
        "    Lasso,\n",
        "    ElasticNet\n",
        ")\n",
        "from sklearn.dummy import DummyRegressor\n",
        "\n",
        "from sklearn.metrics import mean_squared_error\n",
        "from sklearn.model_selection import (\n",
        "    GridSearchCV,\n",
        "    TimeSeriesSplit,\n",
        "    train_test_split\n",
        ")\n",
        "from sklearn.pipeline import Pipeline\n",
        "\n",
        "# отключим предупреждения\n",
        "import warnings\n",
        "warnings.filterwarnings(\"ignore\")\n",
        "\n",
        "# зафиксируем значение random state\n",
        "RS = 12345"
      ]
    },
    {
      "cell_type": "code",
      "execution_count": null,
      "metadata": {
        "id": "hcTJRlWM9uB7"
      },
      "outputs": [],
      "source": [
        "# загрузим данные из локальной папки\n",
        "# сохраним даты в индексы\n",
        "df = pd.read_csv(\n",
        "    'taxi.csv',\n",
        "    index_col=[0],\n",
        "    parse_dates=[0]\n",
        "    )\n",
        "\n",
        "# напишем функцию для проверки датасета\n",
        "def check(df):\n",
        "    display(\n",
        "            # проверим общую информацию о датасете\n",
        "            df.info(),\n",
        "            df.head(),\n",
        "            df.describe()\n",
        "    )\n",
        "    # проверим монотонность временного ряда\n",
        "    print('Временная последовательность соблюдена:', df.index.is_monotonic)\n",
        "\n",
        "    # проверим временной ряд на повторы\n",
        "    print('Повторов нет:', df.index.is_unique)"
      ]
    },
    {
      "cell_type": "code",
      "execution_count": null,
      "metadata": {
        "id": "it8lxMR49uB7",
        "outputId": "51629100-60f6-4db4-b7c3-6bde10864f43"
      },
      "outputs": [
        {
          "name": "stdout",
          "output_type": "stream",
          "text": [
            "<class 'pandas.core.frame.DataFrame'>\n",
            "DatetimeIndex: 26496 entries, 2018-03-01 00:00:00 to 2018-08-31 23:50:00\n",
            "Data columns (total 1 columns):\n",
            " #   Column      Non-Null Count  Dtype\n",
            "---  ------      --------------  -----\n",
            " 0   num_orders  26496 non-null  int64\n",
            "dtypes: int64(1)\n",
            "memory usage: 414.0 KB\n"
          ]
        },
        {
          "data": {
            "text/plain": [
              "None"
            ]
          },
          "metadata": {},
          "output_type": "display_data"
        },
        {
          "data": {
            "text/html": [
              "<div>\n",
              "<style scoped>\n",
              "    .dataframe tbody tr th:only-of-type {\n",
              "        vertical-align: middle;\n",
              "    }\n",
              "\n",
              "    .dataframe tbody tr th {\n",
              "        vertical-align: top;\n",
              "    }\n",
              "\n",
              "    .dataframe thead th {\n",
              "        text-align: right;\n",
              "    }\n",
              "</style>\n",
              "<table border=\"1\" class=\"dataframe\">\n",
              "  <thead>\n",
              "    <tr style=\"text-align: right;\">\n",
              "      <th></th>\n",
              "      <th>num_orders</th>\n",
              "    </tr>\n",
              "    <tr>\n",
              "      <th>datetime</th>\n",
              "      <th></th>\n",
              "    </tr>\n",
              "  </thead>\n",
              "  <tbody>\n",
              "    <tr>\n",
              "      <th>2018-03-01 00:00:00</th>\n",
              "      <td>9</td>\n",
              "    </tr>\n",
              "    <tr>\n",
              "      <th>2018-03-01 00:10:00</th>\n",
              "      <td>14</td>\n",
              "    </tr>\n",
              "    <tr>\n",
              "      <th>2018-03-01 00:20:00</th>\n",
              "      <td>28</td>\n",
              "    </tr>\n",
              "    <tr>\n",
              "      <th>2018-03-01 00:30:00</th>\n",
              "      <td>20</td>\n",
              "    </tr>\n",
              "    <tr>\n",
              "      <th>2018-03-01 00:40:00</th>\n",
              "      <td>32</td>\n",
              "    </tr>\n",
              "  </tbody>\n",
              "</table>\n",
              "</div>"
            ],
            "text/plain": [
              "                     num_orders\n",
              "datetime                       \n",
              "2018-03-01 00:00:00           9\n",
              "2018-03-01 00:10:00          14\n",
              "2018-03-01 00:20:00          28\n",
              "2018-03-01 00:30:00          20\n",
              "2018-03-01 00:40:00          32"
            ]
          },
          "metadata": {},
          "output_type": "display_data"
        },
        {
          "data": {
            "text/html": [
              "<div>\n",
              "<style scoped>\n",
              "    .dataframe tbody tr th:only-of-type {\n",
              "        vertical-align: middle;\n",
              "    }\n",
              "\n",
              "    .dataframe tbody tr th {\n",
              "        vertical-align: top;\n",
              "    }\n",
              "\n",
              "    .dataframe thead th {\n",
              "        text-align: right;\n",
              "    }\n",
              "</style>\n",
              "<table border=\"1\" class=\"dataframe\">\n",
              "  <thead>\n",
              "    <tr style=\"text-align: right;\">\n",
              "      <th></th>\n",
              "      <th>num_orders</th>\n",
              "    </tr>\n",
              "  </thead>\n",
              "  <tbody>\n",
              "    <tr>\n",
              "      <th>count</th>\n",
              "      <td>26496.000000</td>\n",
              "    </tr>\n",
              "    <tr>\n",
              "      <th>mean</th>\n",
              "      <td>14.070463</td>\n",
              "    </tr>\n",
              "    <tr>\n",
              "      <th>std</th>\n",
              "      <td>9.211330</td>\n",
              "    </tr>\n",
              "    <tr>\n",
              "      <th>min</th>\n",
              "      <td>0.000000</td>\n",
              "    </tr>\n",
              "    <tr>\n",
              "      <th>25%</th>\n",
              "      <td>8.000000</td>\n",
              "    </tr>\n",
              "    <tr>\n",
              "      <th>50%</th>\n",
              "      <td>13.000000</td>\n",
              "    </tr>\n",
              "    <tr>\n",
              "      <th>75%</th>\n",
              "      <td>19.000000</td>\n",
              "    </tr>\n",
              "    <tr>\n",
              "      <th>max</th>\n",
              "      <td>119.000000</td>\n",
              "    </tr>\n",
              "  </tbody>\n",
              "</table>\n",
              "</div>"
            ],
            "text/plain": [
              "         num_orders\n",
              "count  26496.000000\n",
              "mean      14.070463\n",
              "std        9.211330\n",
              "min        0.000000\n",
              "25%        8.000000\n",
              "50%       13.000000\n",
              "75%       19.000000\n",
              "max      119.000000"
            ]
          },
          "metadata": {},
          "output_type": "display_data"
        },
        {
          "name": "stdout",
          "output_type": "stream",
          "text": [
            "Временная последовательность соблюдена: True\n",
            "Повторов нет: True\n"
          ]
        }
      ],
      "source": [
        "# проверим датасет\n",
        "check(df)"
      ]
    },
    {
      "cell_type": "markdown",
      "metadata": {
        "id": "U4lKmCn-9uB9"
      },
      "source": [
        "- Данные представлены за период с 01.03.2018 по 31.08.2018\n",
        "- В датасете нет пропусков\n",
        "- У данных корректный тип и адекватные значения\n",
        "- Данные распределены в интервалах по 10 минут\n",
        "- Временной ряд монотонный, без повторов"
      ]
    },
    {
      "cell_type": "code",
      "execution_count": null,
      "metadata": {
        "id": "g7fvK9vC9uB-",
        "outputId": "83ccfbde-fc5f-440e-c08f-e209e3d5d24e"
      },
      "outputs": [
        {
          "data": {
            "text/html": [
              "<div>\n",
              "<style scoped>\n",
              "    .dataframe tbody tr th:only-of-type {\n",
              "        vertical-align: middle;\n",
              "    }\n",
              "\n",
              "    .dataframe tbody tr th {\n",
              "        vertical-align: top;\n",
              "    }\n",
              "\n",
              "    .dataframe thead th {\n",
              "        text-align: right;\n",
              "    }\n",
              "</style>\n",
              "<table border=\"1\" class=\"dataframe\">\n",
              "  <thead>\n",
              "    <tr style=\"text-align: right;\">\n",
              "      <th></th>\n",
              "      <th>num_orders</th>\n",
              "    </tr>\n",
              "    <tr>\n",
              "      <th>datetime</th>\n",
              "      <th></th>\n",
              "    </tr>\n",
              "  </thead>\n",
              "  <tbody>\n",
              "    <tr>\n",
              "      <th>2018-03-01 00:00:00</th>\n",
              "      <td>124</td>\n",
              "    </tr>\n",
              "    <tr>\n",
              "      <th>2018-03-01 01:00:00</th>\n",
              "      <td>85</td>\n",
              "    </tr>\n",
              "    <tr>\n",
              "      <th>2018-03-01 02:00:00</th>\n",
              "      <td>71</td>\n",
              "    </tr>\n",
              "    <tr>\n",
              "      <th>2018-03-01 03:00:00</th>\n",
              "      <td>66</td>\n",
              "    </tr>\n",
              "    <tr>\n",
              "      <th>2018-03-01 04:00:00</th>\n",
              "      <td>43</td>\n",
              "    </tr>\n",
              "  </tbody>\n",
              "</table>\n",
              "</div>"
            ],
            "text/plain": [
              "                     num_orders\n",
              "datetime                       \n",
              "2018-03-01 00:00:00         124\n",
              "2018-03-01 01:00:00          85\n",
              "2018-03-01 02:00:00          71\n",
              "2018-03-01 03:00:00          66\n",
              "2018-03-01 04:00:00          43"
            ]
          },
          "execution_count": 4,
          "metadata": {},
          "output_type": "execute_result"
        }
      ],
      "source": [
        "# выполним ресеплинг по одному часу, суммируем значения в пределах часа\n",
        "df = df.resample('1H').sum()\n",
        "\n",
        "# проверим результат\n",
        "df.head()"
      ]
    },
    {
      "cell_type": "markdown",
      "metadata": {
        "id": "qB8otpVH9uB-"
      },
      "source": [
        "**Вывод:**\n",
        "\n",
        "Мы проверили датасет - данные качественные и корректные. Также мы успешно выполнили ресемплинг временного ряда по одному часу."
      ]
    },
    {
      "cell_type": "markdown",
      "metadata": {
        "id": "e1WUokY19uB_"
      },
      "source": [
        "## Этап 2. Анализ"
      ]
    },
    {
      "cell_type": "markdown",
      "metadata": {
        "id": "7_Z98kNx9uCA"
      },
      "source": [
        "### Этап 2.1. Анализ количества заказов"
      ]
    },
    {
      "cell_type": "code",
      "execution_count": null,
      "metadata": {
        "id": "JfMBvJRe9uCA",
        "outputId": "2a56e97d-03be-47fe-a077-d3f0ba78989a"
      },
      "outputs": [
        {
          "data": {
            "image/png": "[encoded data removed]",
            "text/plain": [
              "<Figure size 1080x720 with 1 Axes>"
            ]
          },
          "metadata": {
            "needs_background": "light"
          },
          "output_type": "display_data"
        }
      ],
      "source": [
        "# напишем функцию для расчета скользящего среднего и скользящего стандартного отклонения с построением графика\n",
        "def show_roll_data(df, window_size):\n",
        "    mean = df['num_orders'].rolling(window_size).mean()\n",
        "    std = df['num_orders'].rolling(window_size).std()\n",
        "\n",
        "    df.plot(figsize=(15, 10), grid=True)\n",
        "    mean.plot()\n",
        "    std.plot()\n",
        "    plt.title('Количество заказов в аэропортах')\n",
        "    plt.xlabel('Время')\n",
        "    plt.ylabel('Количество заказов')\n",
        "    plt.legend([\n",
        "        'заказы',\n",
        "        'скользящее среднее',\n",
        "        'скользящее стандартное отклонение'\n",
        "    ])\n",
        "    plt.show()\n",
        "\n",
        "# построим график со скользящими значеними\n",
        "# установим размер окна в 72 часа\n",
        "show_roll_data(df, 72)"
      ]
    },
    {
      "cell_type": "markdown",
      "metadata": {
        "id": "mgbrqd8Q9uCB"
      },
      "source": [
        "С течением времени среднее количество заказов растет. Среднее отклонение тоже увеличивается: эта тенденция особенно заметна в августе. Следовательно, временной ряд нестационарен. Также на графике хорошо видны всплески количества заказов - в августе они значительны, рассмотрим всплески ближе:"
      ]
    },
    {
      "cell_type": "code",
      "execution_count": null,
      "metadata": {
        "id": "UWixVE4K9uCB",
        "outputId": "87ae88e8-7bbe-4d0c-b758-f0a9fb05c4ab"
      },
      "outputs": [
        {
          "data": {
            "image/png": "[encoded data removed]",
            "text/plain": [
              "<Figure size 1080x720 with 1 Axes>"
            ]
          },
          "metadata": {
            "needs_background": "light"
          },
          "output_type": "display_data"
        }
      ],
      "source": [
        "# ограничим период на графике второй половиной августа\n",
        "# сузим размер окна до 24 часов\n",
        "show_roll_data(df['2018-08-12':'2018-08-31'], 24)"
      ]
    },
    {
      "cell_type": "markdown",
      "metadata": {
        "id": "8hkdD2rU9uCC"
      },
      "source": [
        "Количество заказов во второй половине августа резко растет по понедельникам: 13, 20, 27 августа. Также есть всплеск 30 августа. Увеличим масштаб графика: рассмотрим один из всплесков в разрезе суток:"
      ]
    },
    {
      "cell_type": "code",
      "execution_count": null,
      "metadata": {
        "id": "yqkz_XYc9uCC",
        "outputId": "6042c4cd-bcaa-4f99-c4e7-ac919fd28608"
      },
      "outputs": [
        {
          "data": {
            "image/png": "[encoded data removed]",
            "text/plain": [
              "<Figure size 1080x720 with 1 Axes>"
            ]
          },
          "metadata": {
            "needs_background": "light"
          },
          "output_type": "display_data"
        }
      ],
      "source": [
        "# ограничим период на графике 12-13 августа\n",
        "# сузим размер окна до 6 часов\n",
        "show_roll_data(df['2018-08-12':'2018-08-13'], 6)"
      ]
    },
    {
      "cell_type": "markdown",
      "metadata": {
        "id": "FYsq1ZCq9uCD"
      },
      "source": [
        "Количество заказов резко растет вскоре после полуночи, превышая число 400. В этот момент вместе с аномальным ростом резко увеличивается среднее значение и отклонение. После пика наступает стремительный провал в заказах, который достигает минимума около 6 утра.\n",
        "\n",
        "Далее проанализируем тренд и сезонность."
      ]
    },
    {
      "cell_type": "markdown",
      "metadata": {
        "id": "u65JbHDw9uCD"
      },
      "source": [
        "### Этап 2.2. Анализ тренда и сезонности"
      ]
    },
    {
      "cell_type": "code",
      "execution_count": null,
      "metadata": {
        "id": "5pfzGE-T9uCD",
        "outputId": "a0013359-6de8-4d93-8881-6e27f0776326"
      },
      "outputs": [
        {
          "data": {
            "image/png": "[encoded data removed]",
            "text/plain": [
              "<Figure size 720x1080 with 2 Axes>"
            ]
          },
          "metadata": {
            "needs_background": "light"
          },
          "output_type": "display_data"
        }
      ],
      "source": [
        "# напишем функцию для вывода тренда и сезонности\n",
        "def show_trend_seasonality(df, start, end):\n",
        "\n",
        "    # разделим временной ряд на тренд, сезонность и остаток\n",
        "    decomposed = seasonal_decompose(df)\n",
        "\n",
        "    plt.figure(figsize=(10, 15))\n",
        "    plt.subplot(211)\n",
        "\n",
        "    # через ax=plt.gca() получим текущие оси для корректного отображения\n",
        "    decomposed.trend.plot(ax=plt.gca())\n",
        "    plt.title('Тренд')\n",
        "    plt.xlabel('Время')\n",
        "\n",
        "    plt.subplot(212)\n",
        "    decomposed.seasonal[start:end].plot(ax=plt.gca())\n",
        "    plt.title('Сезонность')\n",
        "    plt.xlabel('Время')\n",
        "    plt.tight_layout()\n",
        "\n",
        "# выведем график сезонности за два дня августа, а также график тренда\n",
        "show_trend_seasonality(df, '2018-08-01', '2018-08-02')"
      ]
    },
    {
      "cell_type": "markdown",
      "metadata": {
        "id": "bi9uFrP69uCE"
      },
      "source": [
        "Во временном ряду прослеживается тренд на увеличение количества заказов, начиная с апреля. Особенно резко количество заказов растет в августе.\n",
        "\n",
        "На графике хорошо видна суточная сезонность:\n",
        "1. Пик заказов приходится на время около полуночи\n",
        "2. Далее следует резкий провал: количество заказов достигает минимума около 6 утра.\n",
        "3. Ближе к началу рабочего дня количество заказов вновь резко растет.\n",
        "4. Днем количество заказов меняется незначительно, заметно вырастая только после 18:00 и вновь достигая пика около полуночи."
      ]
    },
    {
      "cell_type": "markdown",
      "metadata": {
        "id": "Q4R7CYVq9uCF"
      },
      "source": [
        "### Этап 2.3. Анализ автокорреляции"
      ]
    },
    {
      "cell_type": "markdown",
      "metadata": {
        "id": "9Lifjzh-9uCF"
      },
      "source": [
        "Для нахождения оптимальных значений лага временного ряда и размера окна скользящего среднего, проанализируем графики автокорреляции. Мы выявили суточную сезонность в данных, а также в августе заметили еженедельные всплески и всплеск раз в три дня в конце месяца, поэтому возьмем количество лагов за сутки, неделю и для частичной автокорреляции за двое суток:"
      ]
    },
    {
      "cell_type": "code",
      "execution_count": null,
      "metadata": {
        "id": "ttgfQLqb9uCF",
        "outputId": "d6fb3eae-cc2b-4d74-d5ad-0727c4c4343b"
      },
      "outputs": [
        {
          "data": {
            "image/png": "[encoded data removed]",
            "text/plain": [
              "<Figure size 864x432 with 1 Axes>"
            ]
          },
          "metadata": {
            "needs_background": "light"
          },
          "output_type": "display_data"
        },
        {
          "data": {
            "image/png": "[encoded data removed]",
            "text/plain": [
              "<Figure size 864x432 with 1 Axes>"
            ]
          },
          "metadata": {
            "needs_background": "light"
          },
          "output_type": "display_data"
        },
        {
          "data": {
            "image/png": "[encoded data removed]",
            "text/plain": [
              "<Figure size 864x432 with 1 Axes>"
            ]
          },
          "metadata": {
            "needs_background": "light"
          },
          "output_type": "display_data"
        }
      ],
      "source": [
        "# построим график автокорреляции временного ряда по лагу\n",
        "fig, ax = plt.subplots(figsize=(12, 6))\n",
        "plot_acf(df, ax=ax, lags=28)\n",
        "plt.title('Автокорреляция по лагу')\n",
        "plt.xlabel('Лаг')\n",
        "plt.ylabel('Коэффициент корреляции')\n",
        "plt.ylim(-0.25, 1)\n",
        "plt.grid()\n",
        "plt.show()\n",
        "\n",
        "# построим график автокорреляции временного ряда по лагу\n",
        "fig, ax = plt.subplots(figsize=(12, 6))\n",
        "plot_acf(df, ax=ax, lags=170)\n",
        "plt.title('Автокорреляция по лагу')\n",
        "plt.xlabel('Лаг')\n",
        "plt.ylabel('Коэффициент корреляции')\n",
        "plt.ylim(-0.25, 1)\n",
        "plt.grid()\n",
        "plt.show()\n",
        "\n",
        "# построим график частичной автокорреляции временного ряда по лагу\n",
        "fig, ax = plt.subplots(figsize=(12, 6))\n",
        "plot_pacf(df, ax=ax, lags=53)\n",
        "plt.title('Частичная автокорреляция по лагу')\n",
        "plt.xlabel('Лаг')\n",
        "plt.ylabel('Коэффициент корреляции')\n",
        "plt.ylim(-0.25, 1)\n",
        "plt.grid()\n",
        "plt.show()"
      ]
    },
    {
      "cell_type": "markdown",
      "metadata": {
        "id": "SIyxfNyG9uCG"
      },
      "source": [
        "График показал максимальную корреляцию на лагах 1, 2, 3, 12, 22, 23, 25, 26, 48, 72, 168 часов. Это поможет нам спрогнозировать суточные, 3-дневные и недельные всплески, которые мы выявили в ходе анализа.\n",
        "\n",
        "Судя по графику, оптимальным размером окна скользящего среднего будет 3 - именно три значения временного ряда хорошо покажут направление тренда, которое пригодится модели для предсказания."
      ]
    },
    {
      "cell_type": "markdown",
      "metadata": {
        "id": "803rI_aE9uCG"
      },
      "source": [
        "**Вывод:**\n",
        "\n",
        "- Количество заказов растет от месяца к месяцу, начиная с апреля. В августе рост ускорился.\n",
        "- Среднее отклонение растет со временем. Временной ряд нестационарен.\n",
        "- В данных прослеживается суточная сезонность: пик заказов около полуночи, минимум около 6 утра.\n",
        "- В августе проявляется новая закономерность: еженедельные всплески по понедельникам, а также всплеск с периодичностью 3 дня в конце месяца.\n",
        "- У временного ряда максимальная корреляция на лагах 1, 2, 3, 12, 22, 23, 25, 26, 48, 72, 168.\n",
        "- Направление тренда оптимально подскажет окно скользящего среднего раземером 3."
      ]
    },
    {
      "cell_type": "markdown",
      "metadata": {
        "id": "pdUjOgZi9uCH"
      },
      "source": [
        "## Этап 3. Подготовка моделей"
      ]
    },
    {
      "cell_type": "markdown",
      "metadata": {
        "id": "6UaoFbW_9uCI"
      },
      "source": [
        "### Этап 3.1. Создание признаков"
      ]
    },
    {
      "cell_type": "code",
      "execution_count": null,
      "metadata": {
        "id": "uNPuptwI9uCI"
      },
      "outputs": [],
      "source": [
        "# напишем функцию для создания признаков\n",
        "def make_features(data, lags, rolling_mean_size):\n",
        "\n",
        "    # создадим копию датасета\n",
        "    df = data.copy()\n",
        "\n",
        "    # создадим календарные признаки\n",
        "    df['month'] = df.index.month\n",
        "    df['day'] = df.index.day\n",
        "    df['dayofweek'] = df.index.dayofweek\n",
        "\n",
        "    # создадим признаки с предыдущими значениями ряда\n",
        "    for lag in lags:\n",
        "        df['lag_{}'.format(lag)] = df['num_orders'].shift(lag)\n",
        "\n",
        "    # создадим признак со скользящим средним\n",
        "    df['rolling_mean'] = df['num_orders'].shift().rolling(rolling_mean_size).mean()\n",
        "\n",
        "    # удалим образовавшиеся пропуски\n",
        "    df.dropna(inplace=True)\n",
        "\n",
        "    return df"
      ]
    },
    {
      "cell_type": "markdown",
      "metadata": {
        "id": "dgGWsSUB9uCK"
      },
      "source": [
        "Возьмем для создания признаков оптимальные лаги, которые мы обнаружили в ходе анализа. Используем окно скользящего среднего размером 3, выявленное ранее:"
      ]
    },
    {
      "cell_type": "code",
      "execution_count": null,
      "metadata": {
        "scrolled": true,
        "id": "bHENcpQU9uCM",
        "outputId": "bb91b2aa-31e3-44d4-f5e5-b9de6d14e6a8"
      },
      "outputs": [
        {
          "name": "stdout",
          "output_type": "stream",
          "text": [
            "<class 'pandas.core.frame.DataFrame'>\n",
            "DatetimeIndex: 4248 entries, 2018-03-08 00:00:00 to 2018-08-31 23:00:00\n",
            "Freq: H\n",
            "Data columns (total 17 columns):\n",
            " #   Column        Non-Null Count  Dtype  \n",
            "---  ------        --------------  -----  \n",
            " 0   num_orders    4248 non-null   int64  \n",
            " 1   month         4248 non-null   int64  \n",
            " 2   day           4248 non-null   int64  \n",
            " 3   dayofweek     4248 non-null   int64  \n",
            " 4   lag_1         4248 non-null   float64\n",
            " 5   lag_2         4248 non-null   float64\n",
            " 6   lag_3         4248 non-null   float64\n",
            " 7   lag_12        4248 non-null   float64\n",
            " 8   lag_22        4248 non-null   float64\n",
            " 9   lag_23        4248 non-null   float64\n",
            " 10  lag_24        4248 non-null   float64\n",
            " 11  lag_25        4248 non-null   float64\n",
            " 12  lag_26        4248 non-null   float64\n",
            " 13  lag_48        4248 non-null   float64\n",
            " 14  lag_72        4248 non-null   float64\n",
            " 15  lag_168       4248 non-null   float64\n",
            " 16  rolling_mean  4248 non-null   float64\n",
            "dtypes: float64(13), int64(4)\n",
            "memory usage: 597.4 KB\n"
          ]
        },
        {
          "data": {
            "text/plain": [
              "None"
            ]
          },
          "metadata": {},
          "output_type": "display_data"
        },
        {
          "data": {
            "text/html": [
              "<div>\n",
              "<style scoped>\n",
              "    .dataframe tbody tr th:only-of-type {\n",
              "        vertical-align: middle;\n",
              "    }\n",
              "\n",
              "    .dataframe tbody tr th {\n",
              "        vertical-align: top;\n",
              "    }\n",
              "\n",
              "    .dataframe thead th {\n",
              "        text-align: right;\n",
              "    }\n",
              "</style>\n",
              "<table border=\"1\" class=\"dataframe\">\n",
              "  <thead>\n",
              "    <tr style=\"text-align: right;\">\n",
              "      <th></th>\n",
              "      <th>num_orders</th>\n",
              "      <th>month</th>\n",
              "      <th>day</th>\n",
              "      <th>dayofweek</th>\n",
              "      <th>lag_1</th>\n",
              "      <th>lag_2</th>\n",
              "      <th>lag_3</th>\n",
              "      <th>lag_12</th>\n",
              "      <th>lag_22</th>\n",
              "      <th>lag_23</th>\n",
              "      <th>lag_24</th>\n",
              "      <th>lag_25</th>\n",
              "      <th>lag_26</th>\n",
              "      <th>lag_48</th>\n",
              "      <th>lag_72</th>\n",
              "      <th>lag_168</th>\n",
              "      <th>rolling_mean</th>\n",
              "    </tr>\n",
              "    <tr>\n",
              "      <th>datetime</th>\n",
              "      <th></th>\n",
              "      <th></th>\n",
              "      <th></th>\n",
              "      <th></th>\n",
              "      <th></th>\n",
              "      <th></th>\n",
              "      <th></th>\n",
              "      <th></th>\n",
              "      <th></th>\n",
              "      <th></th>\n",
              "      <th></th>\n",
              "      <th></th>\n",
              "      <th></th>\n",
              "      <th></th>\n",
              "      <th></th>\n",
              "      <th></th>\n",
              "      <th></th>\n",
              "    </tr>\n",
              "  </thead>\n",
              "  <tbody>\n",
              "    <tr>\n",
              "      <th>2018-03-08 00:00:00</th>\n",
              "      <td>143</td>\n",
              "      <td>3</td>\n",
              "      <td>8</td>\n",
              "      <td>3</td>\n",
              "      <td>94.0</td>\n",
              "      <td>127.0</td>\n",
              "      <td>108.0</td>\n",
              "      <td>34.0</td>\n",
              "      <td>24.0</td>\n",
              "      <td>121.0</td>\n",
              "      <td>100.0</td>\n",
              "      <td>47.0</td>\n",
              "      <td>81.0</td>\n",
              "      <td>42.0</td>\n",
              "      <td>86.0</td>\n",
              "      <td>124.0</td>\n",
              "      <td>109.666667</td>\n",
              "    </tr>\n",
              "    <tr>\n",
              "      <th>2018-03-08 01:00:00</th>\n",
              "      <td>78</td>\n",
              "      <td>3</td>\n",
              "      <td>8</td>\n",
              "      <td>3</td>\n",
              "      <td>143.0</td>\n",
              "      <td>94.0</td>\n",
              "      <td>127.0</td>\n",
              "      <td>55.0</td>\n",
              "      <td>66.0</td>\n",
              "      <td>24.0</td>\n",
              "      <td>121.0</td>\n",
              "      <td>100.0</td>\n",
              "      <td>47.0</td>\n",
              "      <td>75.0</td>\n",
              "      <td>176.0</td>\n",
              "      <td>85.0</td>\n",
              "      <td>121.333333</td>\n",
              "    </tr>\n",
              "    <tr>\n",
              "      <th>2018-03-08 02:00:00</th>\n",
              "      <td>65</td>\n",
              "      <td>3</td>\n",
              "      <td>8</td>\n",
              "      <td>3</td>\n",
              "      <td>78.0</td>\n",
              "      <td>143.0</td>\n",
              "      <td>94.0</td>\n",
              "      <td>43.0</td>\n",
              "      <td>73.0</td>\n",
              "      <td>66.0</td>\n",
              "      <td>24.0</td>\n",
              "      <td>121.0</td>\n",
              "      <td>100.0</td>\n",
              "      <td>36.0</td>\n",
              "      <td>32.0</td>\n",
              "      <td>71.0</td>\n",
              "      <td>105.000000</td>\n",
              "    </tr>\n",
              "    <tr>\n",
              "      <th>2018-03-08 03:00:00</th>\n",
              "      <td>68</td>\n",
              "      <td>3</td>\n",
              "      <td>8</td>\n",
              "      <td>3</td>\n",
              "      <td>65.0</td>\n",
              "      <td>78.0</td>\n",
              "      <td>143.0</td>\n",
              "      <td>51.0</td>\n",
              "      <td>10.0</td>\n",
              "      <td>73.0</td>\n",
              "      <td>66.0</td>\n",
              "      <td>24.0</td>\n",
              "      <td>121.0</td>\n",
              "      <td>49.0</td>\n",
              "      <td>51.0</td>\n",
              "      <td>66.0</td>\n",
              "      <td>95.333333</td>\n",
              "    </tr>\n",
              "    <tr>\n",
              "      <th>2018-03-08 04:00:00</th>\n",
              "      <td>60</td>\n",
              "      <td>3</td>\n",
              "      <td>8</td>\n",
              "      <td>3</td>\n",
              "      <td>68.0</td>\n",
              "      <td>65.0</td>\n",
              "      <td>78.0</td>\n",
              "      <td>46.0</td>\n",
              "      <td>19.0</td>\n",
              "      <td>10.0</td>\n",
              "      <td>73.0</td>\n",
              "      <td>66.0</td>\n",
              "      <td>24.0</td>\n",
              "      <td>30.0</td>\n",
              "      <td>34.0</td>\n",
              "      <td>43.0</td>\n",
              "      <td>70.333333</td>\n",
              "    </tr>\n",
              "  </tbody>\n",
              "</table>\n",
              "</div>"
            ],
            "text/plain": [
              "                     num_orders  month  day  dayofweek  lag_1  lag_2  lag_3  \\\n",
              "datetime                                                                      \n",
              "2018-03-08 00:00:00         143      3    8          3   94.0  127.0  108.0   \n",
              "2018-03-08 01:00:00          78      3    8          3  143.0   94.0  127.0   \n",
              "2018-03-08 02:00:00          65      3    8          3   78.0  143.0   94.0   \n",
              "2018-03-08 03:00:00          68      3    8          3   65.0   78.0  143.0   \n",
              "2018-03-08 04:00:00          60      3    8          3   68.0   65.0   78.0   \n",
              "\n",
              "                     lag_12  lag_22  lag_23  lag_24  lag_25  lag_26  lag_48  \\\n",
              "datetime                                                                      \n",
              "2018-03-08 00:00:00    34.0    24.0   121.0   100.0    47.0    81.0    42.0   \n",
              "2018-03-08 01:00:00    55.0    66.0    24.0   121.0   100.0    47.0    75.0   \n",
              "2018-03-08 02:00:00    43.0    73.0    66.0    24.0   121.0   100.0    36.0   \n",
              "2018-03-08 03:00:00    51.0    10.0    73.0    66.0    24.0   121.0    49.0   \n",
              "2018-03-08 04:00:00    46.0    19.0    10.0    73.0    66.0    24.0    30.0   \n",
              "\n",
              "                     lag_72  lag_168  rolling_mean  \n",
              "datetime                                            \n",
              "2018-03-08 00:00:00    86.0    124.0    109.666667  \n",
              "2018-03-08 01:00:00   176.0     85.0    121.333333  \n",
              "2018-03-08 02:00:00    32.0     71.0    105.000000  \n",
              "2018-03-08 03:00:00    51.0     66.0     95.333333  \n",
              "2018-03-08 04:00:00    34.0     43.0     70.333333  "
            ]
          },
          "metadata": {},
          "output_type": "display_data"
        },
        {
          "data": {
            "text/html": [
              "<div>\n",
              "<style scoped>\n",
              "    .dataframe tbody tr th:only-of-type {\n",
              "        vertical-align: middle;\n",
              "    }\n",
              "\n",
              "    .dataframe tbody tr th {\n",
              "        vertical-align: top;\n",
              "    }\n",
              "\n",
              "    .dataframe thead th {\n",
              "        text-align: right;\n",
              "    }\n",
              "</style>\n",
              "<table border=\"1\" class=\"dataframe\">\n",
              "  <thead>\n",
              "    <tr style=\"text-align: right;\">\n",
              "      <th></th>\n",
              "      <th>num_orders</th>\n",
              "      <th>month</th>\n",
              "      <th>day</th>\n",
              "      <th>dayofweek</th>\n",
              "      <th>lag_1</th>\n",
              "      <th>lag_2</th>\n",
              "      <th>lag_3</th>\n",
              "      <th>lag_12</th>\n",
              "      <th>lag_22</th>\n",
              "      <th>lag_23</th>\n",
              "      <th>lag_24</th>\n",
              "      <th>lag_25</th>\n",
              "      <th>lag_26</th>\n",
              "      <th>lag_48</th>\n",
              "      <th>lag_72</th>\n",
              "      <th>lag_168</th>\n",
              "      <th>rolling_mean</th>\n",
              "    </tr>\n",
              "  </thead>\n",
              "  <tbody>\n",
              "    <tr>\n",
              "      <th>count</th>\n",
              "      <td>4248.000000</td>\n",
              "      <td>4248.000000</td>\n",
              "      <td>4248.000000</td>\n",
              "      <td>4248.000000</td>\n",
              "      <td>4248.000000</td>\n",
              "      <td>4248.000000</td>\n",
              "      <td>4248.000000</td>\n",
              "      <td>4248.000000</td>\n",
              "      <td>4248.000000</td>\n",
              "      <td>4248.000000</td>\n",
              "      <td>4248.000000</td>\n",
              "      <td>4248.000000</td>\n",
              "      <td>4248.000000</td>\n",
              "      <td>4248.000000</td>\n",
              "      <td>4248.000000</td>\n",
              "      <td>4248.000000</td>\n",
              "      <td>4248.000000</td>\n",
              "    </tr>\n",
              "    <tr>\n",
              "      <th>mean</th>\n",
              "      <td>85.616996</td>\n",
              "      <td>5.604520</td>\n",
              "      <td>16.305085</td>\n",
              "      <td>3.005650</td>\n",
              "      <td>85.590866</td>\n",
              "      <td>85.568267</td>\n",
              "      <td>85.556262</td>\n",
              "      <td>85.330273</td>\n",
              "      <td>85.068974</td>\n",
              "      <td>85.051789</td>\n",
              "      <td>85.010358</td>\n",
              "      <td>84.963512</td>\n",
              "      <td>84.945386</td>\n",
              "      <td>84.308616</td>\n",
              "      <td>83.719397</td>\n",
              "      <td>81.658427</td>\n",
              "      <td>85.571798</td>\n",
              "    </tr>\n",
              "    <tr>\n",
              "      <th>std</th>\n",
              "      <td>45.115366</td>\n",
              "      <td>1.671348</td>\n",
              "      <td>8.694656</td>\n",
              "      <td>1.990315</td>\n",
              "      <td>45.078335</td>\n",
              "      <td>45.033473</td>\n",
              "      <td>45.020688</td>\n",
              "      <td>44.881939</td>\n",
              "      <td>44.687315</td>\n",
              "      <td>44.659443</td>\n",
              "      <td>44.563793</td>\n",
              "      <td>44.499068</td>\n",
              "      <td>44.484990</td>\n",
              "      <td>43.860736</td>\n",
              "      <td>43.481657</td>\n",
              "      <td>41.846399</td>\n",
              "      <td>37.957837</td>\n",
              "    </tr>\n",
              "    <tr>\n",
              "      <th>min</th>\n",
              "      <td>0.000000</td>\n",
              "      <td>3.000000</td>\n",
              "      <td>1.000000</td>\n",
              "      <td>0.000000</td>\n",
              "      <td>0.000000</td>\n",
              "      <td>0.000000</td>\n",
              "      <td>0.000000</td>\n",
              "      <td>0.000000</td>\n",
              "      <td>0.000000</td>\n",
              "      <td>0.000000</td>\n",
              "      <td>0.000000</td>\n",
              "      <td>0.000000</td>\n",
              "      <td>0.000000</td>\n",
              "      <td>0.000000</td>\n",
              "      <td>0.000000</td>\n",
              "      <td>0.000000</td>\n",
              "      <td>3.333333</td>\n",
              "    </tr>\n",
              "    <tr>\n",
              "      <th>25%</th>\n",
              "      <td>55.750000</td>\n",
              "      <td>4.000000</td>\n",
              "      <td>9.000000</td>\n",
              "      <td>1.000000</td>\n",
              "      <td>55.750000</td>\n",
              "      <td>55.750000</td>\n",
              "      <td>55.750000</td>\n",
              "      <td>55.000000</td>\n",
              "      <td>55.000000</td>\n",
              "      <td>55.000000</td>\n",
              "      <td>55.000000</td>\n",
              "      <td>55.000000</td>\n",
              "      <td>55.000000</td>\n",
              "      <td>55.000000</td>\n",
              "      <td>54.000000</td>\n",
              "      <td>53.000000</td>\n",
              "      <td>60.666667</td>\n",
              "    </tr>\n",
              "    <tr>\n",
              "      <th>50%</th>\n",
              "      <td>80.000000</td>\n",
              "      <td>6.000000</td>\n",
              "      <td>16.000000</td>\n",
              "      <td>3.000000</td>\n",
              "      <td>80.000000</td>\n",
              "      <td>80.000000</td>\n",
              "      <td>80.000000</td>\n",
              "      <td>79.000000</td>\n",
              "      <td>79.000000</td>\n",
              "      <td>79.000000</td>\n",
              "      <td>79.000000</td>\n",
              "      <td>79.000000</td>\n",
              "      <td>79.000000</td>\n",
              "      <td>79.000000</td>\n",
              "      <td>78.000000</td>\n",
              "      <td>77.000000</td>\n",
              "      <td>80.333333</td>\n",
              "    </tr>\n",
              "    <tr>\n",
              "      <th>75%</th>\n",
              "      <td>109.000000</td>\n",
              "      <td>7.000000</td>\n",
              "      <td>24.000000</td>\n",
              "      <td>5.000000</td>\n",
              "      <td>109.000000</td>\n",
              "      <td>109.000000</td>\n",
              "      <td>109.000000</td>\n",
              "      <td>108.000000</td>\n",
              "      <td>108.000000</td>\n",
              "      <td>108.000000</td>\n",
              "      <td>108.000000</td>\n",
              "      <td>108.000000</td>\n",
              "      <td>108.000000</td>\n",
              "      <td>107.000000</td>\n",
              "      <td>107.000000</td>\n",
              "      <td>104.000000</td>\n",
              "      <td>105.333333</td>\n",
              "    </tr>\n",
              "    <tr>\n",
              "      <th>max</th>\n",
              "      <td>462.000000</td>\n",
              "      <td>8.000000</td>\n",
              "      <td>31.000000</td>\n",
              "      <td>6.000000</td>\n",
              "      <td>462.000000</td>\n",
              "      <td>462.000000</td>\n",
              "      <td>462.000000</td>\n",
              "      <td>462.000000</td>\n",
              "      <td>462.000000</td>\n",
              "      <td>462.000000</td>\n",
              "      <td>462.000000</td>\n",
              "      <td>462.000000</td>\n",
              "      <td>462.000000</td>\n",
              "      <td>462.000000</td>\n",
              "      <td>462.000000</td>\n",
              "      <td>462.000000</td>\n",
              "      <td>319.666667</td>\n",
              "    </tr>\n",
              "  </tbody>\n",
              "</table>\n",
              "</div>"
            ],
            "text/plain": [
              "        num_orders        month          day    dayofweek        lag_1  \\\n",
              "count  4248.000000  4248.000000  4248.000000  4248.000000  4248.000000   \n",
              "mean     85.616996     5.604520    16.305085     3.005650    85.590866   \n",
              "std      45.115366     1.671348     8.694656     1.990315    45.078335   \n",
              "min       0.000000     3.000000     1.000000     0.000000     0.000000   \n",
              "25%      55.750000     4.000000     9.000000     1.000000    55.750000   \n",
              "50%      80.000000     6.000000    16.000000     3.000000    80.000000   \n",
              "75%     109.000000     7.000000    24.000000     5.000000   109.000000   \n",
              "max     462.000000     8.000000    31.000000     6.000000   462.000000   \n",
              "\n",
              "             lag_2        lag_3       lag_12       lag_22       lag_23  \\\n",
              "count  4248.000000  4248.000000  4248.000000  4248.000000  4248.000000   \n",
              "mean     85.568267    85.556262    85.330273    85.068974    85.051789   \n",
              "std      45.033473    45.020688    44.881939    44.687315    44.659443   \n",
              "min       0.000000     0.000000     0.000000     0.000000     0.000000   \n",
              "25%      55.750000    55.750000    55.000000    55.000000    55.000000   \n",
              "50%      80.000000    80.000000    79.000000    79.000000    79.000000   \n",
              "75%     109.000000   109.000000   108.000000   108.000000   108.000000   \n",
              "max     462.000000   462.000000   462.000000   462.000000   462.000000   \n",
              "\n",
              "            lag_24       lag_25       lag_26       lag_48       lag_72  \\\n",
              "count  4248.000000  4248.000000  4248.000000  4248.000000  4248.000000   \n",
              "mean     85.010358    84.963512    84.945386    84.308616    83.719397   \n",
              "std      44.563793    44.499068    44.484990    43.860736    43.481657   \n",
              "min       0.000000     0.000000     0.000000     0.000000     0.000000   \n",
              "25%      55.000000    55.000000    55.000000    55.000000    54.000000   \n",
              "50%      79.000000    79.000000    79.000000    79.000000    78.000000   \n",
              "75%     108.000000   108.000000   108.000000   107.000000   107.000000   \n",
              "max     462.000000   462.000000   462.000000   462.000000   462.000000   \n",
              "\n",
              "           lag_168  rolling_mean  \n",
              "count  4248.000000   4248.000000  \n",
              "mean     81.658427     85.571798  \n",
              "std      41.846399     37.957837  \n",
              "min       0.000000      3.333333  \n",
              "25%      53.000000     60.666667  \n",
              "50%      77.000000     80.333333  \n",
              "75%     104.000000    105.333333  \n",
              "max     462.000000    319.666667  "
            ]
          },
          "metadata": {},
          "output_type": "display_data"
        },
        {
          "name": "stdout",
          "output_type": "stream",
          "text": [
            "Временная последовательность соблюдена: True\n",
            "Повторов нет: True\n"
          ]
        }
      ],
      "source": [
        "# создадим признаки\n",
        "data = make_features(df, [1, 2, 3, 12, 22, 23, 24, 25, 26, 48, 72, 168], 3)\n",
        "\n",
        "# проверим результат\n",
        "check(data)"
      ]
    },
    {
      "cell_type": "markdown",
      "metadata": {
        "id": "Lpx_Pi6W9uCM"
      },
      "source": [
        "Все признаки корректны. Далее подготовим выборки и обучим модели:"
      ]
    },
    {
      "cell_type": "markdown",
      "metadata": {
        "id": "DeZlef4c9uCN"
      },
      "source": [
        "### Этап 3.2. Обучение моделей"
      ]
    },
    {
      "cell_type": "code",
      "execution_count": null,
      "metadata": {
        "id": "WhI1vswv9uCN",
        "outputId": "e90783d6-04f2-46c7-82ae-2278791dd204"
      },
      "outputs": [
        {
          "data": {
            "text/plain": [
              "(3823, 16)"
            ]
          },
          "metadata": {},
          "output_type": "display_data"
        },
        {
          "data": {
            "text/plain": [
              "(425, 16)"
            ]
          },
          "metadata": {},
          "output_type": "display_data"
        },
        {
          "data": {
            "text/plain": [
              "(3823,)"
            ]
          },
          "metadata": {},
          "output_type": "display_data"
        },
        {
          "data": {
            "text/plain": [
              "(425,)"
            ]
          },
          "metadata": {},
          "output_type": "display_data"
        }
      ],
      "source": [
        "# разделим датасет на выборки\n",
        "X_train, X_test, y_train, y_test = train_test_split(\n",
        "    data.drop('num_orders', axis=1),\n",
        "    data['num_orders'],\n",
        "    shuffle=False,\n",
        "    test_size=.1\n",
        ")\n",
        "\n",
        "# проверим размер и размерность выборок\n",
        "display(\n",
        "    X_train.shape,\n",
        "    X_test.shape,\n",
        "    y_train.shape,\n",
        "    y_test.shape\n",
        ")"
      ]
    },
    {
      "cell_type": "markdown",
      "metadata": {
        "id": "lj0AnCGh9uCN"
      },
      "source": [
        "Используем пайплайн для подбора оптимальной модели с кросс-валидацией. Применим GridSearchCV с TimeSeriesSplit:"
      ]
    },
    {
      "cell_type": "code",
      "execution_count": null,
      "metadata": {
        "id": "WRy69cHM9uCO"
      },
      "outputs": [],
      "source": [
        "# зададим шаги пайплайна\n",
        "steps = [('regressor', LinearRegression(n_jobs=-1))]\n",
        "\n",
        "# зададим модели с гиперпараметрами\n",
        "params = [\n",
        "    {'regressor': [LinearRegression()]\n",
        "    },\n",
        "    {'regressor': [Ridge(random_state=RS)],\n",
        "     'regressor__alpha': [1, 5, 10] # default 1.0\n",
        "    },\n",
        "    {'regressor': [Lasso(random_state=RS)],\n",
        "     'regressor__alpha': [1, 5, 10] # default 1.0\n",
        "    },\n",
        "    {'regressor': [ElasticNet(random_state=RS)],\n",
        "     'regressor__alpha': [1, 5, 10], # default 1.0\n",
        "     'regressor__l1_ratio': [.0, 0.25, 0.5, 0.75, 1.0] # default 0.5\n",
        "    }\n",
        "]\n",
        "\n",
        "# напишем функцию для поиска оптимальных гиперпараметров\n",
        "def pipeline_gridsearchcv(X, y, steps, params, verbose):\n",
        "\n",
        "    # сформируем итоговый pipeline\n",
        "    pipe = Pipeline(steps)\n",
        "\n",
        "    # используем кросс-валидацию для временных рядов\n",
        "    cv = TimeSeriesSplit()\n",
        "\n",
        "    # собираем все вместе, используем RMSE в качестве метрики\n",
        "    grid = GridSearchCV(\n",
        "        pipe,\n",
        "        param_grid=params,\n",
        "        cv=cv,\n",
        "        n_jobs=-1,\n",
        "        scoring='neg_root_mean_squared_error',\n",
        "        verbose=verbose,\n",
        "        error_score='raise'\n",
        "    )\n",
        "    grid.fit(X, y)\n",
        "\n",
        "    # посмотрим лучшие гиперпараметры\n",
        "    print('')\n",
        "    print('Параметры лучшей модели:', grid.best_params_)\n",
        "    print('Значение лучшей метрики качества: {:.2f}'.format(-grid.best_score_))\n",
        "\n",
        "    return grid"
      ]
    },
    {
      "cell_type": "code",
      "execution_count": null,
      "metadata": {
        "id": "6ZwqRbIr9uCO",
        "outputId": "ab3528e4-1245-465b-e9eb-4c72ce9a3309"
      },
      "outputs": [
        {
          "name": "stdout",
          "output_type": "stream",
          "text": [
            "Fitting 5 folds for each of 22 candidates, totalling 110 fits\n",
            "\n",
            "Параметры лучшей модели: {'regressor': Lasso(alpha=10, random_state=12345), 'regressor__alpha': 10}\n",
            "Значение лучшей метрики качества: 22.21\n",
            "CPU times: user 10.8 s, sys: 16.9 s, total: 27.7 s\n",
            "Wall time: 27.7 s\n"
          ]
        }
      ],
      "source": [
        "%%time\n",
        "\n",
        "# определим лучшую модель\n",
        "best_model = pipeline_gridsearchcv(X_train, y_train, steps, params, 1)"
      ]
    },
    {
      "cell_type": "markdown",
      "metadata": {
        "id": "zpQlQONb9uCO"
      },
      "source": [
        "Лучшей оказалась Lasso с гиперпараметром alpha=10."
      ]
    },
    {
      "cell_type": "markdown",
      "metadata": {
        "id": "NOK2J1kJ9uCP"
      },
      "source": [
        "**Вывод:**\n",
        "\n",
        "- Мы успешно создали признаки, использовав оптимальные лаги и размер окна скользящего среднего, выявленные в ходе анализа.\n",
        "- Мы исключили лаг в 24 часа чтобы избежать утечки целевого признака.\n",
        "- Через подбор гиперпараметров с кросс-валидацией мы определили оптимальную модель среди нескольких: Lasso с гиперпараметром alpha=10."
      ]
    },
    {
      "cell_type": "markdown",
      "metadata": {
        "id": "g0hBuJoP9uCP"
      },
      "source": [
        "## Этап 4. Тестирование"
      ]
    },
    {
      "cell_type": "markdown",
      "metadata": {
        "id": "8wKszR8C9uCP"
      },
      "source": [
        "Для проверки нашей лучшей модели на адекватность, сверим ее RMSE с метрикой dummy-модели:"
      ]
    },
    {
      "cell_type": "code",
      "execution_count": null,
      "metadata": {
        "id": "1_bbxqUo9uCQ",
        "outputId": "3496eda4-69a3-453c-e19b-5d0ab96ea94d"
      },
      "outputs": [
        {
          "data": {
            "text/plain": [
              "84.45113423436631"
            ]
          },
          "execution_count": 15,
          "metadata": {},
          "output_type": "execute_result"
        }
      ],
      "source": [
        "# создадим dummy-модель\n",
        "model_dummy = DummyRegressor()\n",
        "\n",
        "# обучим dummy-модель и получим среднее значение\n",
        "model_dummy.fit(X_train, y_train)\n",
        "dummy_prediction = model_dummy.predict(X_test)\n",
        "\n",
        "# найдем RMSE dummy-модели\n",
        "dummy_score = mean_squared_error(y_test, dummy_prediction, squared=False)\n",
        "\n",
        "# проверим результат\n",
        "dummy_score"
      ]
    },
    {
      "cell_type": "code",
      "execution_count": null,
      "metadata": {
        "id": "1z0p_19F9uCQ",
        "outputId": "fa8a858e-2027-435c-91a9-d35226217304"
      },
      "outputs": [
        {
          "data": {
            "text/plain": [
              "34.74002624620338"
            ]
          },
          "execution_count": 16,
          "metadata": {},
          "output_type": "execute_result"
        }
      ],
      "source": [
        "# сделаем предсказания на тестовой выборке\n",
        "prediction = best_model.predict(X_test)\n",
        "\n",
        "# найдем RMSE на тестовой выборке\n",
        "mean_squared_error(y_test, prediction, squared=False)"
      ]
    },
    {
      "cell_type": "code",
      "execution_count": null,
      "metadata": {
        "id": "D8Mx-e2I9uCR",
        "outputId": "643a3a29-142d-4208-cdd1-3029fd83bfcd"
      },
      "outputs": [
        {
          "data": {
            "image/png": "[encoded data removed]",
            "text/plain": [
              "<Figure size 1440x1080 with 1 Axes>"
            ]
          },
          "metadata": {
            "needs_background": "light"
          },
          "output_type": "display_data"
        }
      ],
      "source": [
        "# выведем на графике целевой признак и предсказания\n",
        "y_test.plot(figsize=(20, 15), grid=True)\n",
        "pd.Series(prediction, index=y_test.index).plot()\n",
        "plt.title('Количество заказов в аэропортах')\n",
        "plt.xlabel('Время')\n",
        "plt.ylabel('Количество заказов')\n",
        "plt.legend([\n",
        "        'заказы',\n",
        "        'предсказанные заказы'\n",
        "    ])\n",
        "plt.show()"
      ]
    },
    {
      "cell_type": "markdown",
      "metadata": {
        "id": "jT47uHyW9uCR"
      },
      "source": [
        "**Вывод:**\n",
        "\n",
        "Наша модель показала свою адекватность по сравнению с dummy-моделью, показав отличный результат по RMSE. Нам также удалось пройти порог RMSE = 48 по условиям задачи."
      ]
    },
    {
      "cell_type": "markdown",
      "source": [
        "## Этап 5. Вывод"
      ],
      "metadata": {
        "id": "DttkHNm0_0VB"
      }
    },
    {
      "cell_type": "markdown",
      "metadata": {
        "id": "EvsAi14A9uCS"
      },
      "source": [
        "- Данные представлены за период с 01.03.2018 по 31.08.2018\n",
        "- Нет пропусков, у данных корректный тип и адекватные значения\n",
        "- Изначально данные были распределены в интервалах по 10 минут. Мы успешно выполнили ресемплинг временного ряда по одному часу.\n",
        "- Временной ряд монотонный, без повторов\n",
        "- Количество заказов растет от месяца к месяцу, начиная с апреля. В августе рост ускорился.\n",
        "- Среднее отклонение растет со временем. Временной ряд нестационарен.\n",
        "- В данных прослеживается суточная сезонность: пик заказов около полуночи, минимум около 6 утра.\n",
        "- В августе проявляется новая закономерность: еженедельные всплески по понедельникам, а также всплеск с периодичностью 3 дня в конце месяца.\n",
        "- У временного ряда максимальная корреляция на лагах 1, 2, 3, 12, 22, 23, 24, 25, 26, 48, 72, 168.\n",
        "- Направление тренда оптимально подскажет окно скользящего среднего размером 3.\n",
        "\n",
        "Используя информацию, полученную в ходе подготовки и анализа данных, мы:\n",
        "\n",
        "- Успешно создали признаки, использовав оптимальные лаги и размер окна скользящего среднего, выявленные в ходе анализа.\n",
        "- Через подбор гиперпараметров с кросс-валидацией определили оптимальную модель среди нескольких: Lasso с гиперпараметром alpha=10.\n",
        "- Выбранная модель показала свою адекватность по сравнению с dummy-моделью, показав отличный результат по RMSE. Нам также удалось пройти порог RMSE = 48 по условиям задачи."
      ]
    }
  ],
  "metadata": {
    "ExecuteTimeLog": [
      {
        "duration": 1209,
        "start_time": "2023-06-20T07:25:35.525Z"
      },
      {
        "duration": 98,
        "start_time": "2023-06-20T07:25:36.736Z"
      },
      {
        "duration": 0,
        "start_time": "2023-06-20T07:25:36.836Z"
      },
      {
        "duration": 182,
        "start_time": "2023-06-20T07:25:45.187Z"
      },
      {
        "duration": 17,
        "start_time": "2023-06-20T07:25:45.582Z"
      },
      {
        "duration": 59,
        "start_time": "2023-06-20T07:27:26.593Z"
      },
      {
        "duration": 11,
        "start_time": "2023-06-20T07:27:27.598Z"
      },
      {
        "duration": 163,
        "start_time": "2023-06-20T07:28:45.679Z"
      },
      {
        "duration": 48,
        "start_time": "2023-06-20T07:28:51.663Z"
      },
      {
        "duration": 15,
        "start_time": "2023-06-20T07:28:54.259Z"
      },
      {
        "duration": 48,
        "start_time": "2023-06-20T07:31:09.131Z"
      },
      {
        "duration": 32,
        "start_time": "2023-06-20T07:31:09.797Z"
      },
      {
        "duration": 41,
        "start_time": "2023-06-20T07:32:10.820Z"
      },
      {
        "duration": 50,
        "start_time": "2023-06-20T07:32:12.491Z"
      },
      {
        "duration": 61,
        "start_time": "2023-06-20T07:32:31.464Z"
      },
      {
        "duration": 22,
        "start_time": "2023-06-20T07:32:35.725Z"
      },
      {
        "duration": 74,
        "start_time": "2023-06-20T08:00:37.875Z"
      },
      {
        "duration": 20,
        "start_time": "2023-06-20T08:06:54.560Z"
      },
      {
        "duration": 48,
        "start_time": "2023-06-20T08:08:56.603Z"
      },
      {
        "duration": 22,
        "start_time": "2023-06-20T08:08:57.747Z"
      },
      {
        "duration": 17,
        "start_time": "2023-06-20T08:09:40.011Z"
      },
      {
        "duration": 1032,
        "start_time": "2023-06-20T08:10:58.100Z"
      },
      {
        "duration": 608,
        "start_time": "2023-06-20T08:14:44.676Z"
      },
      {
        "duration": 24,
        "start_time": "2023-06-20T08:15:22.283Z"
      },
      {
        "duration": 53,
        "start_time": "2023-06-20T08:15:27.555Z"
      },
      {
        "duration": 26,
        "start_time": "2023-06-20T08:15:27.954Z"
      },
      {
        "duration": 13,
        "start_time": "2023-06-20T08:15:29.977Z"
      },
      {
        "duration": 230,
        "start_time": "2023-06-20T08:15:32.812Z"
      },
      {
        "duration": 201,
        "start_time": "2023-06-20T08:15:39.623Z"
      },
      {
        "duration": 205,
        "start_time": "2023-06-20T08:15:45.237Z"
      },
      {
        "duration": 299,
        "start_time": "2023-06-20T08:15:51.893Z"
      },
      {
        "duration": 209,
        "start_time": "2023-06-20T08:16:02.587Z"
      },
      {
        "duration": 206,
        "start_time": "2023-06-20T08:16:11.767Z"
      },
      {
        "duration": 210,
        "start_time": "2023-06-20T08:18:02.517Z"
      },
      {
        "duration": 6,
        "start_time": "2023-06-20T08:35:51.829Z"
      },
      {
        "duration": 230,
        "start_time": "2023-06-20T08:35:54.054Z"
      },
      {
        "duration": 5,
        "start_time": "2023-06-20T08:36:06.177Z"
      },
      {
        "duration": 316,
        "start_time": "2023-06-20T08:36:06.773Z"
      },
      {
        "duration": 328,
        "start_time": "2023-06-20T08:40:24.488Z"
      },
      {
        "duration": 328,
        "start_time": "2023-06-20T08:42:01.153Z"
      },
      {
        "duration": 359,
        "start_time": "2023-06-20T08:42:26.080Z"
      },
      {
        "duration": 443,
        "start_time": "2023-06-20T08:43:30.532Z"
      },
      {
        "duration": 390,
        "start_time": "2023-06-20T08:43:36.278Z"
      },
      {
        "duration": 348,
        "start_time": "2023-06-20T08:43:42.603Z"
      },
      {
        "duration": 350,
        "start_time": "2023-06-20T08:56:58.806Z"
      },
      {
        "duration": 415,
        "start_time": "2023-06-20T08:57:54.388Z"
      },
      {
        "duration": 337,
        "start_time": "2023-06-20T08:59:32.203Z"
      },
      {
        "duration": 398,
        "start_time": "2023-06-20T09:10:20.884Z"
      },
      {
        "duration": 494,
        "start_time": "2023-06-20T09:17:16.002Z"
      },
      {
        "duration": 390,
        "start_time": "2023-06-20T09:17:22.957Z"
      },
      {
        "duration": 4,
        "start_time": "2023-06-20T09:17:31.399Z"
      },
      {
        "duration": 129,
        "start_time": "2023-06-20T09:17:31.406Z"
      },
      {
        "duration": 51,
        "start_time": "2023-06-20T09:17:31.538Z"
      },
      {
        "duration": 32,
        "start_time": "2023-06-20T09:17:31.591Z"
      },
      {
        "duration": 415,
        "start_time": "2023-06-20T09:17:31.626Z"
      },
      {
        "duration": 471,
        "start_time": "2023-06-20T09:19:20.256Z"
      },
      {
        "duration": 3,
        "start_time": "2023-06-20T09:19:34.013Z"
      },
      {
        "duration": 55,
        "start_time": "2023-06-20T09:19:34.018Z"
      },
      {
        "duration": 23,
        "start_time": "2023-06-20T09:19:34.075Z"
      },
      {
        "duration": 10,
        "start_time": "2023-06-20T09:19:34.100Z"
      },
      {
        "duration": 350,
        "start_time": "2023-06-20T09:19:34.112Z"
      },
      {
        "duration": 4,
        "start_time": "2023-06-20T09:22:50.942Z"
      },
      {
        "duration": 81,
        "start_time": "2023-06-20T09:22:50.948Z"
      },
      {
        "duration": 24,
        "start_time": "2023-06-20T09:22:51.031Z"
      },
      {
        "duration": 10,
        "start_time": "2023-06-20T09:22:51.057Z"
      },
      {
        "duration": 334,
        "start_time": "2023-06-20T09:22:51.069Z"
      },
      {
        "duration": 1411,
        "start_time": "2023-06-20T09:26:03.118Z"
      },
      {
        "duration": 51,
        "start_time": "2023-06-20T09:26:04.531Z"
      },
      {
        "duration": 26,
        "start_time": "2023-06-20T09:26:04.584Z"
      },
      {
        "duration": 11,
        "start_time": "2023-06-20T09:26:04.612Z"
      },
      {
        "duration": 447,
        "start_time": "2023-06-20T09:26:04.625Z"
      },
      {
        "duration": 404,
        "start_time": "2023-06-20T09:28:19.759Z"
      },
      {
        "duration": 1371,
        "start_time": "2023-06-20T09:28:27.633Z"
      },
      {
        "duration": 50,
        "start_time": "2023-06-20T09:28:29.006Z"
      },
      {
        "duration": 26,
        "start_time": "2023-06-20T09:28:29.057Z"
      },
      {
        "duration": 11,
        "start_time": "2023-06-20T09:28:29.085Z"
      },
      {
        "duration": 410,
        "start_time": "2023-06-20T09:28:29.098Z"
      },
      {
        "duration": 532,
        "start_time": "2023-06-20T09:30:18.369Z"
      },
      {
        "duration": 340,
        "start_time": "2023-06-20T09:30:30.324Z"
      },
      {
        "duration": 1414,
        "start_time": "2023-06-20T09:30:50.313Z"
      },
      {
        "duration": 49,
        "start_time": "2023-06-20T09:30:51.729Z"
      },
      {
        "duration": 26,
        "start_time": "2023-06-20T09:30:51.780Z"
      },
      {
        "duration": 11,
        "start_time": "2023-06-20T09:30:51.808Z"
      },
      {
        "duration": 403,
        "start_time": "2023-06-20T09:30:51.821Z"
      },
      {
        "duration": 9,
        "start_time": "2023-06-20T09:30:52.225Z"
      },
      {
        "duration": 488,
        "start_time": "2023-06-20T09:34:24.149Z"
      },
      {
        "duration": 1414,
        "start_time": "2023-06-20T09:34:43.536Z"
      },
      {
        "duration": 49,
        "start_time": "2023-06-20T09:34:44.952Z"
      },
      {
        "duration": 26,
        "start_time": "2023-06-20T09:34:45.002Z"
      },
      {
        "duration": 27,
        "start_time": "2023-06-20T09:34:45.030Z"
      },
      {
        "duration": 429,
        "start_time": "2023-06-20T09:34:45.059Z"
      },
      {
        "duration": 8,
        "start_time": "2023-06-20T09:34:45.490Z"
      },
      {
        "duration": 54,
        "start_time": "2023-06-20T12:19:04.684Z"
      },
      {
        "duration": 1782,
        "start_time": "2023-06-20T12:19:09.543Z"
      },
      {
        "duration": 119,
        "start_time": "2023-06-20T12:19:11.327Z"
      },
      {
        "duration": 29,
        "start_time": "2023-06-20T12:19:11.448Z"
      },
      {
        "duration": 18,
        "start_time": "2023-06-20T12:19:11.479Z"
      },
      {
        "duration": 461,
        "start_time": "2023-06-20T12:19:11.499Z"
      },
      {
        "duration": 84,
        "start_time": "2023-06-20T12:19:11.962Z"
      },
      {
        "duration": 858,
        "start_time": "2023-06-20T12:19:26.427Z"
      },
      {
        "duration": 844,
        "start_time": "2023-06-20T12:20:28.995Z"
      },
      {
        "duration": 697,
        "start_time": "2023-06-20T12:21:49.024Z"
      },
      {
        "duration": 794,
        "start_time": "2023-06-20T12:23:14.188Z"
      },
      {
        "duration": 550,
        "start_time": "2023-06-20T12:23:51.572Z"
      },
      {
        "duration": 535,
        "start_time": "2023-06-20T12:24:37.765Z"
      },
      {
        "duration": 1430,
        "start_time": "2023-06-20T12:40:38.219Z"
      },
      {
        "duration": 51,
        "start_time": "2023-06-20T12:40:39.651Z"
      },
      {
        "duration": 25,
        "start_time": "2023-06-20T12:40:39.704Z"
      },
      {
        "duration": 18,
        "start_time": "2023-06-20T12:40:39.731Z"
      },
      {
        "duration": 466,
        "start_time": "2023-06-20T12:40:39.750Z"
      },
      {
        "duration": 656,
        "start_time": "2023-06-20T12:40:40.217Z"
      },
      {
        "duration": 1496,
        "start_time": "2023-06-20T12:40:59.191Z"
      },
      {
        "duration": 55,
        "start_time": "2023-06-20T12:41:00.689Z"
      },
      {
        "duration": 120,
        "start_time": "2023-06-20T12:41:00.746Z"
      },
      {
        "duration": 57,
        "start_time": "2023-06-20T12:41:00.868Z"
      },
      {
        "duration": 497,
        "start_time": "2023-06-20T12:41:00.927Z"
      },
      {
        "duration": 701,
        "start_time": "2023-06-20T12:41:01.426Z"
      },
      {
        "duration": 581,
        "start_time": "2023-06-20T12:43:04.104Z"
      },
      {
        "duration": 563,
        "start_time": "2023-06-20T12:43:12.991Z"
      },
      {
        "duration": 557,
        "start_time": "2023-06-20T12:43:18.451Z"
      },
      {
        "duration": 543,
        "start_time": "2023-06-20T12:45:33.335Z"
      },
      {
        "duration": 1559,
        "start_time": "2023-06-20T13:10:34.798Z"
      },
      {
        "duration": 66,
        "start_time": "2023-06-20T13:10:36.360Z"
      },
      {
        "duration": 41,
        "start_time": "2023-06-20T13:10:36.428Z"
      },
      {
        "duration": 16,
        "start_time": "2023-06-20T13:10:36.472Z"
      },
      {
        "duration": 528,
        "start_time": "2023-06-20T13:10:36.492Z"
      },
      {
        "duration": 456,
        "start_time": "2023-06-20T13:10:37.022Z"
      },
      {
        "duration": 666,
        "start_time": "2023-06-20T13:10:37.480Z"
      },
      {
        "duration": 408,
        "start_time": "2023-06-20T13:12:28.602Z"
      },
      {
        "duration": 383,
        "start_time": "2023-06-20T13:15:10.303Z"
      },
      {
        "duration": 412,
        "start_time": "2023-06-20T13:28:05.799Z"
      },
      {
        "duration": 292,
        "start_time": "2023-06-20T13:33:28.252Z"
      },
      {
        "duration": 262,
        "start_time": "2023-06-20T13:34:02.743Z"
      },
      {
        "duration": 303,
        "start_time": "2023-06-20T13:34:18.817Z"
      },
      {
        "duration": 239,
        "start_time": "2023-06-20T15:05:10.891Z"
      },
      {
        "duration": 118,
        "start_time": "2023-06-20T15:05:52.420Z"
      },
      {
        "duration": 37,
        "start_time": "2023-06-20T15:05:55.203Z"
      },
      {
        "duration": 2010,
        "start_time": "2023-06-20T15:08:12.006Z"
      },
      {
        "duration": 93,
        "start_time": "2023-06-20T15:08:14.018Z"
      },
      {
        "duration": 59,
        "start_time": "2023-06-20T15:08:14.117Z"
      },
      {
        "duration": 20,
        "start_time": "2023-06-20T15:08:14.179Z"
      },
      {
        "duration": 751,
        "start_time": "2023-06-20T15:08:14.201Z"
      },
      {
        "duration": 511,
        "start_time": "2023-06-20T15:08:14.953Z"
      },
      {
        "duration": 539,
        "start_time": "2023-06-20T15:08:15.468Z"
      },
      {
        "duration": 806,
        "start_time": "2023-06-20T15:08:16.013Z"
      },
      {
        "duration": 6,
        "start_time": "2023-06-20T15:08:16.824Z"
      },
      {
        "duration": 221,
        "start_time": "2023-06-20T15:35:41.245Z"
      },
      {
        "duration": 706,
        "start_time": "2023-06-20T15:35:48.904Z"
      },
      {
        "duration": 708,
        "start_time": "2023-06-20T15:35:53.167Z"
      },
      {
        "duration": 813,
        "start_time": "2023-06-20T15:36:16.987Z"
      },
      {
        "duration": 1118,
        "start_time": "2023-06-20T15:38:32.201Z"
      },
      {
        "duration": 370,
        "start_time": "2023-06-20T16:15:25.454Z"
      },
      {
        "duration": 190,
        "start_time": "2023-06-20T16:15:58.626Z"
      },
      {
        "duration": 17,
        "start_time": "2023-06-20T16:16:05.703Z"
      },
      {
        "duration": 4,
        "start_time": "2023-06-20T16:16:17.633Z"
      },
      {
        "duration": 8,
        "start_time": "2023-06-20T16:19:18.003Z"
      },
      {
        "duration": 373,
        "start_time": "2023-06-20T16:19:58.019Z"
      },
      {
        "duration": 12861,
        "start_time": "2023-06-20T16:21:20.426Z"
      },
      {
        "duration": 287,
        "start_time": "2023-06-20T16:28:25.582Z"
      },
      {
        "duration": 239,
        "start_time": "2023-06-20T16:28:44.034Z"
      },
      {
        "duration": 247,
        "start_time": "2023-06-20T16:29:27.699Z"
      },
      {
        "duration": 308,
        "start_time": "2023-06-20T16:29:40.786Z"
      },
      {
        "duration": 496,
        "start_time": "2023-06-20T16:30:00.439Z"
      },
      {
        "duration": 322,
        "start_time": "2023-06-20T16:30:09.108Z"
      },
      {
        "duration": 292,
        "start_time": "2023-06-20T16:30:17.731Z"
      },
      {
        "duration": 139,
        "start_time": "2023-06-20T16:32:50.070Z"
      },
      {
        "duration": 48,
        "start_time": "2023-06-20T16:32:56.376Z"
      },
      {
        "duration": 284,
        "start_time": "2023-06-20T16:33:02.594Z"
      },
      {
        "duration": 311,
        "start_time": "2023-06-20T16:34:02.700Z"
      },
      {
        "duration": 344,
        "start_time": "2023-06-20T16:34:21.840Z"
      },
      {
        "duration": 427,
        "start_time": "2023-06-20T16:34:28.889Z"
      },
      {
        "duration": 13860,
        "start_time": "2023-06-20T16:35:02.727Z"
      },
      {
        "duration": 14756,
        "start_time": "2023-06-20T16:35:53.311Z"
      },
      {
        "duration": 24,
        "start_time": "2023-06-20T16:36:08.070Z"
      },
      {
        "duration": 13451,
        "start_time": "2023-06-20T16:36:38.589Z"
      },
      {
        "duration": 13070,
        "start_time": "2023-06-20T16:38:03.703Z"
      },
      {
        "duration": 13564,
        "start_time": "2023-06-20T16:38:32.140Z"
      },
      {
        "duration": 13127,
        "start_time": "2023-06-20T16:38:47.452Z"
      },
      {
        "duration": 12891,
        "start_time": "2023-06-20T16:40:52.582Z"
      },
      {
        "duration": 214,
        "start_time": "2023-06-20T16:42:17.725Z"
      },
      {
        "duration": 25,
        "start_time": "2023-06-20T16:42:33.885Z"
      },
      {
        "duration": 11749,
        "start_time": "2023-06-20T16:42:38.087Z"
      },
      {
        "duration": 11970,
        "start_time": "2023-06-20T16:43:18.807Z"
      },
      {
        "duration": 14474,
        "start_time": "2023-06-20T16:57:13.985Z"
      },
      {
        "duration": 13840,
        "start_time": "2023-06-20T17:03:01.906Z"
      },
      {
        "duration": 28533,
        "start_time": "2023-06-20T17:07:26.116Z"
      },
      {
        "duration": 7280,
        "start_time": "2023-06-20T17:08:05.879Z"
      },
      {
        "duration": 4924,
        "start_time": "2023-06-20T17:11:03.609Z"
      },
      {
        "duration": 5732,
        "start_time": "2023-06-20T17:11:14.294Z"
      },
      {
        "duration": 21,
        "start_time": "2023-06-20T17:17:04.309Z"
      },
      {
        "duration": 4,
        "start_time": "2023-06-20T17:17:17.717Z"
      },
      {
        "duration": 23,
        "start_time": "2023-06-20T17:17:20.321Z"
      },
      {
        "duration": 95,
        "start_time": "2023-06-20T17:18:34.189Z"
      },
      {
        "duration": 8,
        "start_time": "2023-06-20T17:26:03.973Z"
      },
      {
        "duration": 27,
        "start_time": "2023-06-20T17:26:08.512Z"
      },
      {
        "duration": 18,
        "start_time": "2023-06-20T17:27:34.052Z"
      },
      {
        "duration": 140,
        "start_time": "2023-06-20T17:27:37.451Z"
      },
      {
        "duration": 5,
        "start_time": "2023-06-20T17:28:35.296Z"
      },
      {
        "duration": 105,
        "start_time": "2023-06-20T17:28:37.218Z"
      },
      {
        "duration": 9,
        "start_time": "2023-06-20T17:29:45.696Z"
      },
      {
        "duration": 103,
        "start_time": "2023-06-20T17:29:48.203Z"
      },
      {
        "duration": 5,
        "start_time": "2023-06-20T17:30:17.233Z"
      },
      {
        "duration": 83,
        "start_time": "2023-06-20T17:30:19.354Z"
      },
      {
        "duration": 14,
        "start_time": "2023-06-20T17:35:53.529Z"
      },
      {
        "duration": 3113,
        "start_time": "2023-06-20T17:38:22.711Z"
      },
      {
        "duration": 98,
        "start_time": "2023-06-20T17:38:25.828Z"
      },
      {
        "duration": 45,
        "start_time": "2023-06-20T17:38:25.927Z"
      },
      {
        "duration": 36,
        "start_time": "2023-06-20T17:38:25.975Z"
      },
      {
        "duration": 674,
        "start_time": "2023-06-20T17:38:26.016Z"
      },
      {
        "duration": 215,
        "start_time": "2023-06-20T17:38:26.691Z"
      },
      {
        "duration": 0,
        "start_time": "2023-06-20T17:38:26.909Z"
      },
      {
        "duration": 0,
        "start_time": "2023-06-20T17:38:26.913Z"
      },
      {
        "duration": 0,
        "start_time": "2023-06-20T17:38:26.915Z"
      },
      {
        "duration": 0,
        "start_time": "2023-06-20T17:38:26.917Z"
      },
      {
        "duration": 0,
        "start_time": "2023-06-20T17:38:26.919Z"
      },
      {
        "duration": 0,
        "start_time": "2023-06-20T17:38:26.920Z"
      },
      {
        "duration": 2365,
        "start_time": "2023-06-20T17:39:12.984Z"
      },
      {
        "duration": 82,
        "start_time": "2023-06-20T17:39:15.352Z"
      },
      {
        "duration": 170,
        "start_time": "2023-06-20T17:39:15.435Z"
      },
      {
        "duration": 27,
        "start_time": "2023-06-20T17:39:15.609Z"
      },
      {
        "duration": 784,
        "start_time": "2023-06-20T17:39:15.638Z"
      },
      {
        "duration": 713,
        "start_time": "2023-06-20T17:39:16.431Z"
      },
      {
        "duration": 358,
        "start_time": "2023-06-20T17:39:17.146Z"
      },
      {
        "duration": 939,
        "start_time": "2023-06-20T17:39:17.506Z"
      },
      {
        "duration": 6236,
        "start_time": "2023-06-20T17:39:18.447Z"
      },
      {
        "duration": 13,
        "start_time": "2023-06-20T17:39:24.703Z"
      },
      {
        "duration": 259,
        "start_time": "2023-06-20T17:39:24.721Z"
      },
      {
        "duration": 22,
        "start_time": "2023-06-20T17:39:24.982Z"
      },
      {
        "duration": 8,
        "start_time": "2023-06-20T17:52:48.982Z"
      },
      {
        "duration": 8,
        "start_time": "2023-06-20T18:04:37.579Z"
      },
      {
        "duration": 203,
        "start_time": "2023-06-20T18:04:40.380Z"
      },
      {
        "duration": 8,
        "start_time": "2023-06-20T18:05:11.546Z"
      },
      {
        "duration": 8,
        "start_time": "2023-06-20T18:05:19.869Z"
      },
      {
        "duration": 10023,
        "start_time": "2023-06-20T18:05:21.940Z"
      },
      {
        "duration": 2056,
        "start_time": "2023-06-20T18:10:10.205Z"
      },
      {
        "duration": 74,
        "start_time": "2023-06-20T18:10:12.263Z"
      },
      {
        "duration": 37,
        "start_time": "2023-06-20T18:10:12.339Z"
      },
      {
        "duration": 64,
        "start_time": "2023-06-20T18:10:12.378Z"
      },
      {
        "duration": 707,
        "start_time": "2023-06-20T18:10:12.445Z"
      },
      {
        "duration": 595,
        "start_time": "2023-06-20T18:10:13.156Z"
      },
      {
        "duration": 348,
        "start_time": "2023-06-20T18:10:13.755Z"
      },
      {
        "duration": 727,
        "start_time": "2023-06-20T18:10:14.105Z"
      },
      {
        "duration": 4542,
        "start_time": "2023-06-20T18:10:14.834Z"
      },
      {
        "duration": 6,
        "start_time": "2023-06-20T18:10:19.382Z"
      },
      {
        "duration": 230,
        "start_time": "2023-06-20T18:10:19.394Z"
      },
      {
        "duration": 11,
        "start_time": "2023-06-20T18:10:19.626Z"
      },
      {
        "duration": 82,
        "start_time": "2023-06-20T18:10:19.639Z"
      },
      {
        "duration": 13157,
        "start_time": "2023-06-20T18:10:19.724Z"
      },
      {
        "duration": 267,
        "start_time": "2023-06-20T18:15:42.603Z"
      },
      {
        "duration": 15,
        "start_time": "2023-06-20T18:16:51.905Z"
      },
      {
        "duration": 40,
        "start_time": "2023-06-20T18:19:00.781Z"
      },
      {
        "duration": 31,
        "start_time": "2023-06-20T18:21:58.252Z"
      },
      {
        "duration": 93,
        "start_time": "2023-06-20T18:21:58.286Z"
      },
      {
        "duration": 32,
        "start_time": "2023-06-20T18:21:58.381Z"
      },
      {
        "duration": 12,
        "start_time": "2023-06-20T18:21:58.415Z"
      },
      {
        "duration": 513,
        "start_time": "2023-06-20T18:21:58.429Z"
      },
      {
        "duration": 447,
        "start_time": "2023-06-20T18:21:58.945Z"
      },
      {
        "duration": 493,
        "start_time": "2023-06-20T18:21:59.395Z"
      },
      {
        "duration": 1200,
        "start_time": "2023-06-20T18:21:59.890Z"
      },
      {
        "duration": 6328,
        "start_time": "2023-06-20T18:22:01.092Z"
      },
      {
        "duration": 5,
        "start_time": "2023-06-20T18:22:07.422Z"
      },
      {
        "duration": 278,
        "start_time": "2023-06-20T18:22:07.428Z"
      },
      {
        "duration": 12,
        "start_time": "2023-06-20T18:22:07.708Z"
      },
      {
        "duration": 85,
        "start_time": "2023-06-20T18:22:07.722Z"
      },
      {
        "duration": 8647,
        "start_time": "2023-06-20T18:22:07.809Z"
      },
      {
        "duration": 30,
        "start_time": "2023-06-20T18:22:16.460Z"
      },
      {
        "duration": 2972,
        "start_time": "2023-06-20T18:23:39.979Z"
      },
      {
        "duration": 93,
        "start_time": "2023-06-20T18:23:42.976Z"
      },
      {
        "duration": 50,
        "start_time": "2023-06-20T18:23:43.073Z"
      },
      {
        "duration": 65,
        "start_time": "2023-06-20T18:23:43.126Z"
      },
      {
        "duration": 684,
        "start_time": "2023-06-20T18:23:43.194Z"
      },
      {
        "duration": 598,
        "start_time": "2023-06-20T18:23:43.891Z"
      },
      {
        "duration": 424,
        "start_time": "2023-06-20T18:23:44.501Z"
      },
      {
        "duration": 684,
        "start_time": "2023-06-20T18:23:44.929Z"
      },
      {
        "duration": 4636,
        "start_time": "2023-06-20T18:23:45.615Z"
      },
      {
        "duration": 19,
        "start_time": "2023-06-20T18:23:50.253Z"
      },
      {
        "duration": 261,
        "start_time": "2023-06-20T18:23:50.278Z"
      },
      {
        "duration": 33,
        "start_time": "2023-06-20T18:23:50.541Z"
      },
      {
        "duration": 50,
        "start_time": "2023-06-20T18:23:50.578Z"
      },
      {
        "duration": 8930,
        "start_time": "2023-06-20T18:23:50.632Z"
      },
      {
        "duration": 30,
        "start_time": "2023-06-20T18:23:59.598Z"
      },
      {
        "duration": 8645,
        "start_time": "2023-06-20T18:24:24.678Z"
      },
      {
        "duration": 8859,
        "start_time": "2023-06-20T18:26:12.202Z"
      },
      {
        "duration": 8207,
        "start_time": "2023-06-20T18:26:28.146Z"
      },
      {
        "duration": 7,
        "start_time": "2023-06-20T18:29:59.312Z"
      },
      {
        "duration": 135,
        "start_time": "2023-06-20T18:30:02.856Z"
      },
      {
        "duration": 2130,
        "start_time": "2023-06-20T18:30:36.504Z"
      },
      {
        "duration": 84,
        "start_time": "2023-06-20T18:30:38.636Z"
      },
      {
        "duration": 29,
        "start_time": "2023-06-20T18:30:38.721Z"
      },
      {
        "duration": 43,
        "start_time": "2023-06-20T18:30:38.752Z"
      },
      {
        "duration": 602,
        "start_time": "2023-06-20T18:30:38.803Z"
      },
      {
        "duration": 503,
        "start_time": "2023-06-20T18:30:39.407Z"
      },
      {
        "duration": 342,
        "start_time": "2023-06-20T18:30:39.914Z"
      },
      {
        "duration": 748,
        "start_time": "2023-06-20T18:30:40.259Z"
      },
      {
        "duration": 5297,
        "start_time": "2023-06-20T18:30:41.013Z"
      },
      {
        "duration": 10,
        "start_time": "2023-06-20T18:30:46.312Z"
      },
      {
        "duration": 101,
        "start_time": "2023-06-20T18:30:46.324Z"
      },
      {
        "duration": 47,
        "start_time": "2023-06-20T18:30:46.427Z"
      },
      {
        "duration": 19,
        "start_time": "2023-06-20T18:30:46.488Z"
      },
      {
        "duration": 8173,
        "start_time": "2023-06-20T18:30:46.511Z"
      },
      {
        "duration": 19,
        "start_time": "2023-06-20T18:30:54.698Z"
      },
      {
        "duration": 18,
        "start_time": "2023-06-20T18:33:09.306Z"
      },
      {
        "duration": 115,
        "start_time": "2023-06-20T18:33:09.326Z"
      },
      {
        "duration": 62,
        "start_time": "2023-06-20T18:33:09.444Z"
      },
      {
        "duration": 22,
        "start_time": "2023-06-20T18:33:09.510Z"
      },
      {
        "duration": 553,
        "start_time": "2023-06-20T18:33:09.537Z"
      },
      {
        "duration": 529,
        "start_time": "2023-06-20T18:33:10.097Z"
      },
      {
        "duration": 371,
        "start_time": "2023-06-20T18:33:10.629Z"
      },
      {
        "duration": 864,
        "start_time": "2023-06-20T18:33:11.009Z"
      },
      {
        "duration": 5802,
        "start_time": "2023-06-20T18:33:11.876Z"
      },
      {
        "duration": 8,
        "start_time": "2023-06-20T18:33:17.680Z"
      },
      {
        "duration": 136,
        "start_time": "2023-06-20T18:33:17.693Z"
      },
      {
        "duration": 11,
        "start_time": "2023-06-20T18:33:17.830Z"
      },
      {
        "duration": 61,
        "start_time": "2023-06-20T18:33:17.842Z"
      },
      {
        "duration": 10278,
        "start_time": "2023-06-20T18:33:17.917Z"
      },
      {
        "duration": 62,
        "start_time": "2023-06-20T18:33:28.233Z"
      },
      {
        "duration": 5,
        "start_time": "2023-06-20T18:36:03.125Z"
      },
      {
        "duration": 889,
        "start_time": "2023-06-20T18:36:03.133Z"
      },
      {
        "duration": 127,
        "start_time": "2023-06-20T18:36:04.026Z"
      },
      {
        "duration": 19,
        "start_time": "2023-06-20T18:36:04.168Z"
      },
      {
        "duration": 865,
        "start_time": "2023-06-20T18:36:04.190Z"
      },
      {
        "duration": 550,
        "start_time": "2023-06-20T18:36:05.058Z"
      },
      {
        "duration": 464,
        "start_time": "2023-06-20T18:36:05.610Z"
      },
      {
        "duration": 827,
        "start_time": "2023-06-20T18:36:06.080Z"
      },
      {
        "duration": 6362,
        "start_time": "2023-06-20T18:36:06.913Z"
      },
      {
        "duration": 25,
        "start_time": "2023-06-20T18:36:13.285Z"
      },
      {
        "duration": 220,
        "start_time": "2023-06-20T18:36:13.323Z"
      },
      {
        "duration": 32,
        "start_time": "2023-06-20T18:36:13.549Z"
      },
      {
        "duration": 225,
        "start_time": "2023-06-20T18:36:13.585Z"
      },
      {
        "duration": 13468,
        "start_time": "2023-06-20T18:36:13.818Z"
      },
      {
        "duration": 96,
        "start_time": "2023-06-20T18:36:27.298Z"
      },
      {
        "duration": 6,
        "start_time": "2023-06-20T18:37:00.951Z"
      },
      {
        "duration": 292,
        "start_time": "2023-06-20T18:37:00.960Z"
      },
      {
        "duration": 103,
        "start_time": "2023-06-20T18:37:01.260Z"
      },
      {
        "duration": 148,
        "start_time": "2023-06-20T18:37:01.366Z"
      },
      {
        "duration": 993,
        "start_time": "2023-06-20T18:37:01.516Z"
      },
      {
        "duration": 533,
        "start_time": "2023-06-20T18:37:02.513Z"
      },
      {
        "duration": 487,
        "start_time": "2023-06-20T18:37:03.054Z"
      },
      {
        "duration": 792,
        "start_time": "2023-06-20T18:37:03.544Z"
      },
      {
        "duration": 4706,
        "start_time": "2023-06-20T18:37:04.341Z"
      },
      {
        "duration": 6,
        "start_time": "2023-06-20T18:37:09.049Z"
      },
      {
        "duration": 270,
        "start_time": "2023-06-20T18:37:09.060Z"
      },
      {
        "duration": 35,
        "start_time": "2023-06-20T18:37:09.332Z"
      },
      {
        "duration": 213,
        "start_time": "2023-06-20T18:37:09.369Z"
      },
      {
        "duration": 11523,
        "start_time": "2023-06-20T18:37:09.584Z"
      },
      {
        "duration": 18,
        "start_time": "2023-06-20T18:37:21.153Z"
      },
      {
        "duration": 6,
        "start_time": "2023-06-20T18:44:33.132Z"
      },
      {
        "duration": 118,
        "start_time": "2023-06-20T18:45:12.768Z"
      },
      {
        "duration": 2417,
        "start_time": "2023-06-20T18:48:47.900Z"
      },
      {
        "duration": 69,
        "start_time": "2023-06-20T18:48:50.319Z"
      },
      {
        "duration": 38,
        "start_time": "2023-06-20T18:48:50.394Z"
      },
      {
        "duration": 30,
        "start_time": "2023-06-20T18:48:50.434Z"
      },
      {
        "duration": 577,
        "start_time": "2023-06-20T18:48:50.471Z"
      },
      {
        "duration": 495,
        "start_time": "2023-06-20T18:48:51.050Z"
      },
      {
        "duration": 327,
        "start_time": "2023-06-20T18:48:51.546Z"
      },
      {
        "duration": 744,
        "start_time": "2023-06-20T18:48:51.879Z"
      },
      {
        "duration": 4574,
        "start_time": "2023-06-20T18:48:52.625Z"
      },
      {
        "duration": 7,
        "start_time": "2023-06-20T18:48:57.201Z"
      },
      {
        "duration": 158,
        "start_time": "2023-06-20T18:48:57.210Z"
      },
      {
        "duration": 32,
        "start_time": "2023-06-20T18:48:57.375Z"
      },
      {
        "duration": 15,
        "start_time": "2023-06-20T18:48:57.409Z"
      },
      {
        "duration": 11009,
        "start_time": "2023-06-20T18:48:57.429Z"
      },
      {
        "duration": 12,
        "start_time": "2023-06-20T18:49:08.440Z"
      },
      {
        "duration": 16,
        "start_time": "2023-06-20T18:50:11.283Z"
      },
      {
        "duration": 11306,
        "start_time": "2023-06-20T18:50:14.006Z"
      },
      {
        "duration": 11,
        "start_time": "2023-06-20T18:50:40.587Z"
      },
      {
        "duration": 9882,
        "start_time": "2023-06-20T18:50:41.602Z"
      },
      {
        "duration": 11,
        "start_time": "2023-06-20T18:51:09.495Z"
      },
      {
        "duration": 9308,
        "start_time": "2023-06-20T18:51:10.279Z"
      },
      {
        "duration": 12,
        "start_time": "2023-06-20T18:51:49.494Z"
      },
      {
        "duration": 9808,
        "start_time": "2023-06-20T18:51:50.407Z"
      },
      {
        "duration": 6,
        "start_time": "2023-06-20T18:52:34.034Z"
      },
      {
        "duration": 5311,
        "start_time": "2023-06-20T19:08:23.919Z"
      },
      {
        "duration": 141,
        "start_time": "2023-06-20T19:08:29.232Z"
      },
      {
        "duration": 34,
        "start_time": "2023-06-20T19:08:29.376Z"
      },
      {
        "duration": 18,
        "start_time": "2023-06-20T19:08:29.412Z"
      },
      {
        "duration": 507,
        "start_time": "2023-06-20T19:08:29.433Z"
      },
      {
        "duration": 447,
        "start_time": "2023-06-20T19:08:29.942Z"
      },
      {
        "duration": 302,
        "start_time": "2023-06-20T19:08:30.392Z"
      },
      {
        "duration": 642,
        "start_time": "2023-06-20T19:08:30.696Z"
      },
      {
        "duration": 3293,
        "start_time": "2023-06-20T19:08:31.340Z"
      },
      {
        "duration": 5,
        "start_time": "2023-06-20T19:08:34.634Z"
      },
      {
        "duration": 157,
        "start_time": "2023-06-20T19:08:34.640Z"
      },
      {
        "duration": 11,
        "start_time": "2023-06-20T19:08:34.799Z"
      },
      {
        "duration": 6,
        "start_time": "2023-06-20T19:08:34.812Z"
      },
      {
        "duration": 33807,
        "start_time": "2023-06-20T19:08:34.820Z"
      },
      {
        "duration": 4248,
        "start_time": "2023-06-20T19:09:08.629Z"
      },
      {
        "duration": 25,
        "start_time": "2023-06-20T19:10:11.980Z"
      },
      {
        "duration": 7,
        "start_time": "2023-06-20T19:21:05.220Z"
      },
      {
        "duration": 10239,
        "start_time": "2023-06-20T19:21:33.801Z"
      },
      {
        "duration": 17,
        "start_time": "2023-06-20T19:25:54.367Z"
      },
      {
        "duration": 757525,
        "start_time": "2023-06-20T19:25:55.221Z"
      },
      {
        "duration": 7629,
        "start_time": "2023-06-20T19:39:59.403Z"
      },
      {
        "duration": 172,
        "start_time": "2023-06-20T19:40:44.239Z"
      },
      {
        "duration": 18,
        "start_time": "2023-06-20T19:41:13.046Z"
      },
      {
        "duration": 166711,
        "start_time": "2023-06-20T19:41:16.122Z"
      },
      {
        "duration": 1797,
        "start_time": "2023-06-20T19:44:42.091Z"
      },
      {
        "duration": 10721,
        "start_time": "2023-06-20T19:45:01.223Z"
      },
      {
        "duration": 75607,
        "start_time": "2023-06-20T19:45:41.732Z"
      },
      {
        "duration": 27,
        "start_time": "2023-06-20T19:47:17.578Z"
      },
      {
        "duration": 23,
        "start_time": "2023-06-20T19:49:23.942Z"
      },
      {
        "duration": 10,
        "start_time": "2023-06-20T19:49:46.058Z"
      },
      {
        "duration": 31371,
        "start_time": "2023-06-20T19:49:48.695Z"
      },
      {
        "duration": 14,
        "start_time": "2023-06-20T19:53:18.296Z"
      },
      {
        "duration": 1856,
        "start_time": "2023-06-20T19:53:59.200Z"
      },
      {
        "duration": 71,
        "start_time": "2023-06-20T19:54:01.059Z"
      },
      {
        "duration": 111,
        "start_time": "2023-06-20T19:54:01.133Z"
      },
      {
        "duration": 33,
        "start_time": "2023-06-20T19:54:01.247Z"
      },
      {
        "duration": 615,
        "start_time": "2023-06-20T19:54:01.285Z"
      },
      {
        "duration": 404,
        "start_time": "2023-06-20T19:54:01.902Z"
      },
      {
        "duration": 481,
        "start_time": "2023-06-20T19:54:02.308Z"
      },
      {
        "duration": 638,
        "start_time": "2023-06-20T19:54:02.792Z"
      },
      {
        "duration": 5778,
        "start_time": "2023-06-20T19:54:03.433Z"
      },
      {
        "duration": 5,
        "start_time": "2023-06-20T19:54:09.216Z"
      },
      {
        "duration": 115,
        "start_time": "2023-06-20T19:54:09.223Z"
      },
      {
        "duration": 23,
        "start_time": "2023-06-20T19:54:09.340Z"
      },
      {
        "duration": 46,
        "start_time": "2023-06-20T19:54:09.365Z"
      },
      {
        "duration": 11551,
        "start_time": "2023-06-20T19:54:09.415Z"
      },
      {
        "duration": 21,
        "start_time": "2023-06-20T19:54:20.968Z"
      },
      {
        "duration": 10,
        "start_time": "2023-06-20T19:57:48.583Z"
      },
      {
        "duration": 12,
        "start_time": "2023-06-20T19:58:26.295Z"
      },
      {
        "duration": 1872,
        "start_time": "2023-06-20T20:02:36.075Z"
      },
      {
        "duration": 58,
        "start_time": "2023-06-20T20:02:37.950Z"
      },
      {
        "duration": 40,
        "start_time": "2023-06-20T20:02:38.010Z"
      },
      {
        "duration": 26,
        "start_time": "2023-06-20T20:02:38.052Z"
      },
      {
        "duration": 799,
        "start_time": "2023-06-20T20:02:38.081Z"
      },
      {
        "duration": 431,
        "start_time": "2023-06-20T20:02:38.882Z"
      },
      {
        "duration": 560,
        "start_time": "2023-06-20T20:02:39.316Z"
      },
      {
        "duration": 722,
        "start_time": "2023-06-20T20:02:39.879Z"
      },
      {
        "duration": 5433,
        "start_time": "2023-06-20T20:02:40.603Z"
      },
      {
        "duration": 6,
        "start_time": "2023-06-20T20:02:46.039Z"
      },
      {
        "duration": 147,
        "start_time": "2023-06-20T20:02:46.063Z"
      },
      {
        "duration": 15,
        "start_time": "2023-06-20T20:02:46.212Z"
      },
      {
        "duration": 36,
        "start_time": "2023-06-20T20:02:46.229Z"
      },
      {
        "duration": 10086,
        "start_time": "2023-06-20T20:02:46.269Z"
      },
      {
        "duration": 21,
        "start_time": "2023-06-20T20:02:56.359Z"
      },
      {
        "duration": 114,
        "start_time": "2023-06-20T20:02:56.384Z"
      },
      {
        "duration": 1681,
        "start_time": "2023-06-20T20:03:21.970Z"
      },
      {
        "duration": 58,
        "start_time": "2023-06-20T20:03:23.653Z"
      },
      {
        "duration": 87,
        "start_time": "2023-06-20T20:03:23.713Z"
      },
      {
        "duration": 46,
        "start_time": "2023-06-20T20:03:23.803Z"
      },
      {
        "duration": 598,
        "start_time": "2023-06-20T20:03:23.852Z"
      },
      {
        "duration": 371,
        "start_time": "2023-06-20T20:03:24.454Z"
      },
      {
        "duration": 418,
        "start_time": "2023-06-20T20:03:24.827Z"
      },
      {
        "duration": 755,
        "start_time": "2023-06-20T20:03:25.254Z"
      },
      {
        "duration": 5130,
        "start_time": "2023-06-20T20:03:26.012Z"
      },
      {
        "duration": 18,
        "start_time": "2023-06-20T20:03:31.146Z"
      },
      {
        "duration": 143,
        "start_time": "2023-06-20T20:03:31.171Z"
      },
      {
        "duration": 44,
        "start_time": "2023-06-20T20:03:31.316Z"
      },
      {
        "duration": 73,
        "start_time": "2023-06-20T20:03:31.367Z"
      },
      {
        "duration": 10436,
        "start_time": "2023-06-20T20:03:31.442Z"
      },
      {
        "duration": 78,
        "start_time": "2023-06-20T20:03:41.880Z"
      },
      {
        "duration": 97,
        "start_time": "2023-06-20T20:03:41.966Z"
      },
      {
        "duration": 1820,
        "start_time": "2023-06-20T20:05:42.955Z"
      },
      {
        "duration": 61,
        "start_time": "2023-06-20T20:05:44.780Z"
      },
      {
        "duration": 55,
        "start_time": "2023-06-20T20:05:44.844Z"
      },
      {
        "duration": 14,
        "start_time": "2023-06-20T20:05:44.901Z"
      },
      {
        "duration": 571,
        "start_time": "2023-06-20T20:05:44.917Z"
      },
      {
        "duration": 403,
        "start_time": "2023-06-20T20:05:45.491Z"
      },
      {
        "duration": 396,
        "start_time": "2023-06-20T20:05:45.896Z"
      },
      {
        "duration": 708,
        "start_time": "2023-06-20T20:05:46.295Z"
      },
      {
        "duration": 4476,
        "start_time": "2023-06-20T20:05:47.006Z"
      },
      {
        "duration": 5,
        "start_time": "2023-06-20T20:05:51.486Z"
      },
      {
        "duration": 126,
        "start_time": "2023-06-20T20:05:51.494Z"
      },
      {
        "duration": 38,
        "start_time": "2023-06-20T20:05:51.622Z"
      },
      {
        "duration": 39,
        "start_time": "2023-06-20T20:05:51.662Z"
      },
      {
        "duration": 12581,
        "start_time": "2023-06-20T20:05:51.704Z"
      },
      {
        "duration": 17,
        "start_time": "2023-06-20T20:06:04.359Z"
      },
      {
        "duration": 81,
        "start_time": "2023-06-20T20:06:04.386Z"
      },
      {
        "duration": 1855,
        "start_time": "2023-06-20T20:06:51.444Z"
      },
      {
        "duration": 74,
        "start_time": "2023-06-20T20:06:53.302Z"
      },
      {
        "duration": 36,
        "start_time": "2023-06-20T20:06:53.380Z"
      },
      {
        "duration": 53,
        "start_time": "2023-06-20T20:06:53.419Z"
      },
      {
        "duration": 576,
        "start_time": "2023-06-20T20:06:53.476Z"
      },
      {
        "duration": 457,
        "start_time": "2023-06-20T20:06:54.056Z"
      },
      {
        "duration": 404,
        "start_time": "2023-06-20T20:06:54.514Z"
      },
      {
        "duration": 663,
        "start_time": "2023-06-20T20:06:54.921Z"
      },
      {
        "duration": 5195,
        "start_time": "2023-06-20T20:06:55.587Z"
      },
      {
        "duration": 5,
        "start_time": "2023-06-20T20:07:00.785Z"
      },
      {
        "duration": 210,
        "start_time": "2023-06-20T20:07:00.792Z"
      },
      {
        "duration": 12,
        "start_time": "2023-06-20T20:07:01.005Z"
      },
      {
        "duration": 69,
        "start_time": "2023-06-20T20:07:01.019Z"
      },
      {
        "duration": 9775,
        "start_time": "2023-06-20T20:07:01.090Z"
      },
      {
        "duration": 8,
        "start_time": "2023-06-20T20:07:10.878Z"
      },
      {
        "duration": 76,
        "start_time": "2023-06-20T20:07:10.888Z"
      },
      {
        "duration": 283,
        "start_time": "2023-06-20T20:07:23.617Z"
      },
      {
        "duration": 2480,
        "start_time": "2023-06-20T20:07:38.973Z"
      },
      {
        "duration": 78,
        "start_time": "2023-06-20T20:07:41.458Z"
      },
      {
        "duration": 42,
        "start_time": "2023-06-20T20:07:41.539Z"
      },
      {
        "duration": 26,
        "start_time": "2023-06-20T20:07:41.587Z"
      },
      {
        "duration": 704,
        "start_time": "2023-06-20T20:07:41.616Z"
      },
      {
        "duration": 503,
        "start_time": "2023-06-20T20:07:42.323Z"
      },
      {
        "duration": 420,
        "start_time": "2023-06-20T20:07:42.829Z"
      },
      {
        "duration": 698,
        "start_time": "2023-06-20T20:07:43.251Z"
      },
      {
        "duration": 5246,
        "start_time": "2023-06-20T20:07:43.951Z"
      },
      {
        "duration": 7,
        "start_time": "2023-06-20T20:07:49.200Z"
      },
      {
        "duration": 134,
        "start_time": "2023-06-20T20:07:49.209Z"
      },
      {
        "duration": 19,
        "start_time": "2023-06-20T20:07:49.357Z"
      },
      {
        "duration": 20,
        "start_time": "2023-06-20T20:07:49.380Z"
      },
      {
        "duration": 11161,
        "start_time": "2023-06-20T20:07:49.404Z"
      },
      {
        "duration": 11,
        "start_time": "2023-06-20T20:08:00.571Z"
      },
      {
        "duration": 171,
        "start_time": "2023-06-20T20:08:00.585Z"
      },
      {
        "duration": 1653,
        "start_time": "2023-06-20T20:10:06.795Z"
      },
      {
        "duration": 64,
        "start_time": "2023-06-20T20:10:08.451Z"
      },
      {
        "duration": 46,
        "start_time": "2023-06-20T20:10:08.517Z"
      },
      {
        "duration": 28,
        "start_time": "2023-06-20T20:10:08.565Z"
      },
      {
        "duration": 505,
        "start_time": "2023-06-20T20:10:08.595Z"
      },
      {
        "duration": 423,
        "start_time": "2023-06-20T20:10:09.103Z"
      },
      {
        "duration": 401,
        "start_time": "2023-06-20T20:10:09.528Z"
      },
      {
        "duration": 693,
        "start_time": "2023-06-20T20:10:09.932Z"
      },
      {
        "duration": 5668,
        "start_time": "2023-06-20T20:10:10.628Z"
      },
      {
        "duration": 5,
        "start_time": "2023-06-20T20:10:16.299Z"
      },
      {
        "duration": 169,
        "start_time": "2023-06-20T20:10:16.307Z"
      },
      {
        "duration": 17,
        "start_time": "2023-06-20T20:10:16.478Z"
      },
      {
        "duration": 7,
        "start_time": "2023-06-20T20:10:16.498Z"
      },
      {
        "duration": 12974,
        "start_time": "2023-06-20T20:10:16.508Z"
      },
      {
        "duration": 8,
        "start_time": "2023-06-20T20:10:29.555Z"
      },
      {
        "duration": 43,
        "start_time": "2023-06-20T20:10:29.567Z"
      },
      {
        "duration": 1911,
        "start_time": "2023-06-20T20:12:15.697Z"
      },
      {
        "duration": 68,
        "start_time": "2023-06-20T20:12:17.611Z"
      },
      {
        "duration": 47,
        "start_time": "2023-06-20T20:12:17.685Z"
      },
      {
        "duration": 26,
        "start_time": "2023-06-20T20:12:17.754Z"
      },
      {
        "duration": 832,
        "start_time": "2023-06-20T20:12:17.784Z"
      },
      {
        "duration": 545,
        "start_time": "2023-06-20T20:12:18.619Z"
      },
      {
        "duration": 644,
        "start_time": "2023-06-20T20:12:19.168Z"
      },
      {
        "duration": 965,
        "start_time": "2023-06-20T20:12:19.816Z"
      },
      {
        "duration": 6585,
        "start_time": "2023-06-20T20:12:20.784Z"
      },
      {
        "duration": 11,
        "start_time": "2023-06-20T20:12:27.372Z"
      },
      {
        "duration": 200,
        "start_time": "2023-06-20T20:12:27.390Z"
      },
      {
        "duration": 34,
        "start_time": "2023-06-20T20:12:27.595Z"
      },
      {
        "duration": 11,
        "start_time": "2023-06-20T20:12:27.632Z"
      },
      {
        "duration": 14418,
        "start_time": "2023-06-20T20:12:27.647Z"
      },
      {
        "duration": 27,
        "start_time": "2023-06-20T20:12:42.073Z"
      },
      {
        "duration": 57,
        "start_time": "2023-06-20T20:12:42.104Z"
      },
      {
        "duration": 17,
        "start_time": "2023-06-20T20:16:18.598Z"
      },
      {
        "duration": 40,
        "start_time": "2023-06-20T20:16:43.754Z"
      },
      {
        "duration": 62,
        "start_time": "2023-06-20T20:16:51.542Z"
      },
      {
        "duration": 14,
        "start_time": "2023-06-20T20:17:04.635Z"
      },
      {
        "duration": 10,
        "start_time": "2023-06-20T20:17:19.316Z"
      },
      {
        "duration": 1660,
        "start_time": "2023-06-21T04:21:22.890Z"
      },
      {
        "duration": 182,
        "start_time": "2023-06-21T04:21:24.552Z"
      },
      {
        "duration": 26,
        "start_time": "2023-06-21T04:21:24.736Z"
      },
      {
        "duration": 11,
        "start_time": "2023-06-21T04:21:24.764Z"
      },
      {
        "duration": 391,
        "start_time": "2023-06-21T04:21:24.777Z"
      },
      {
        "duration": 307,
        "start_time": "2023-06-21T04:21:25.170Z"
      },
      {
        "duration": 308,
        "start_time": "2023-06-21T04:21:25.479Z"
      },
      {
        "duration": 633,
        "start_time": "2023-06-21T04:21:25.789Z"
      },
      {
        "duration": 909,
        "start_time": "2023-06-21T04:21:26.476Z"
      },
      {
        "duration": 4,
        "start_time": "2023-06-21T04:21:27.388Z"
      },
      {
        "duration": 203,
        "start_time": "2023-06-21T04:21:27.393Z"
      },
      {
        "duration": 12,
        "start_time": "2023-06-21T04:21:27.598Z"
      },
      {
        "duration": 66,
        "start_time": "2023-06-21T04:21:27.612Z"
      },
      {
        "duration": 10097,
        "start_time": "2023-06-21T04:21:27.680Z"
      },
      {
        "duration": 7,
        "start_time": "2023-06-21T04:21:37.780Z"
      },
      {
        "duration": 99,
        "start_time": "2023-06-21T04:21:37.790Z"
      },
      {
        "duration": 338,
        "start_time": "2023-06-21T06:28:31.412Z"
      },
      {
        "duration": 1693,
        "start_time": "2023-06-21T06:28:46.166Z"
      },
      {
        "duration": 78,
        "start_time": "2023-06-21T06:28:47.860Z"
      },
      {
        "duration": 30,
        "start_time": "2023-06-21T06:28:47.939Z"
      },
      {
        "duration": 33,
        "start_time": "2023-06-21T06:28:47.972Z"
      },
      {
        "duration": 537,
        "start_time": "2023-06-21T06:28:48.011Z"
      },
      {
        "duration": 389,
        "start_time": "2023-06-21T06:28:48.551Z"
      },
      {
        "duration": 448,
        "start_time": "2023-06-21T06:28:48.942Z"
      },
      {
        "duration": 579,
        "start_time": "2023-06-21T06:28:49.403Z"
      },
      {
        "duration": 25487,
        "start_time": "2023-06-21T06:28:49.986Z"
      },
      {
        "duration": 9,
        "start_time": "2023-06-21T06:29:15.480Z"
      },
      {
        "duration": 117,
        "start_time": "2023-06-21T06:29:15.498Z"
      },
      {
        "duration": 14,
        "start_time": "2023-06-21T06:29:15.617Z"
      },
      {
        "duration": 11,
        "start_time": "2023-06-21T06:29:15.633Z"
      },
      {
        "duration": 14876,
        "start_time": "2023-06-21T06:29:15.646Z"
      },
      {
        "duration": 76,
        "start_time": "2023-06-21T06:29:30.525Z"
      },
      {
        "duration": 82,
        "start_time": "2023-06-21T06:29:30.608Z"
      },
      {
        "duration": 108,
        "start_time": "2023-06-21T06:30:23.719Z"
      },
      {
        "duration": 13,
        "start_time": "2023-06-21T06:30:39.399Z"
      },
      {
        "duration": 9,
        "start_time": "2023-06-21T06:30:47.426Z"
      },
      {
        "duration": 28160,
        "start_time": "2023-06-21T06:30:55.950Z"
      },
      {
        "duration": 10,
        "start_time": "2023-06-21T06:31:32.933Z"
      },
      {
        "duration": 12,
        "start_time": "2023-06-21T06:31:36.302Z"
      },
      {
        "duration": 149,
        "start_time": "2023-06-21T06:32:48.970Z"
      },
      {
        "duration": 14,
        "start_time": "2023-06-21T06:32:56.705Z"
      },
      {
        "duration": 35515,
        "start_time": "2023-06-21T06:33:05.793Z"
      },
      {
        "duration": 7,
        "start_time": "2023-06-21T06:33:57.230Z"
      },
      {
        "duration": 8,
        "start_time": "2023-06-21T06:34:01.533Z"
      },
      {
        "duration": 1618,
        "start_time": "2023-06-21T06:35:18.406Z"
      },
      {
        "duration": 65,
        "start_time": "2023-06-21T06:35:20.027Z"
      },
      {
        "duration": 41,
        "start_time": "2023-06-21T06:35:20.094Z"
      },
      {
        "duration": 13,
        "start_time": "2023-06-21T06:35:20.137Z"
      },
      {
        "duration": 578,
        "start_time": "2023-06-21T06:35:20.154Z"
      },
      {
        "duration": 393,
        "start_time": "2023-06-21T06:35:20.734Z"
      },
      {
        "duration": 391,
        "start_time": "2023-06-21T06:35:21.132Z"
      },
      {
        "duration": 664,
        "start_time": "2023-06-21T06:35:21.526Z"
      },
      {
        "duration": 33202,
        "start_time": "2023-06-21T06:35:22.192Z"
      },
      {
        "duration": 7,
        "start_time": "2023-06-21T06:35:55.396Z"
      },
      {
        "duration": 143,
        "start_time": "2023-06-21T06:35:55.410Z"
      },
      {
        "duration": 40,
        "start_time": "2023-06-21T06:35:55.555Z"
      },
      {
        "duration": 20,
        "start_time": "2023-06-21T06:35:55.601Z"
      },
      {
        "duration": 28654,
        "start_time": "2023-06-21T06:35:55.625Z"
      },
      {
        "duration": 7,
        "start_time": "2023-06-21T06:36:24.282Z"
      },
      {
        "duration": 90,
        "start_time": "2023-06-21T06:36:24.292Z"
      },
      {
        "duration": 5,
        "start_time": "2023-06-21T06:48:28.268Z"
      },
      {
        "duration": 127,
        "start_time": "2023-06-21T06:48:28.275Z"
      },
      {
        "duration": 35,
        "start_time": "2023-06-21T06:48:28.404Z"
      },
      {
        "duration": 14,
        "start_time": "2023-06-21T06:48:28.442Z"
      },
      {
        "duration": 536,
        "start_time": "2023-06-21T06:48:28.458Z"
      },
      {
        "duration": 390,
        "start_time": "2023-06-21T06:48:28.998Z"
      },
      {
        "duration": 307,
        "start_time": "2023-06-21T06:48:29.391Z"
      },
      {
        "duration": 778,
        "start_time": "2023-06-21T06:48:29.708Z"
      },
      {
        "duration": 23830,
        "start_time": "2023-06-21T06:48:30.489Z"
      },
      {
        "duration": 5,
        "start_time": "2023-06-21T06:48:54.321Z"
      },
      {
        "duration": 159,
        "start_time": "2023-06-21T06:48:54.329Z"
      },
      {
        "duration": 13,
        "start_time": "2023-06-21T06:48:54.489Z"
      },
      {
        "duration": 18,
        "start_time": "2023-06-21T06:48:54.508Z"
      },
      {
        "duration": 38249,
        "start_time": "2023-06-21T06:48:54.528Z"
      },
      {
        "duration": 16,
        "start_time": "2023-06-21T06:49:32.784Z"
      },
      {
        "duration": 124,
        "start_time": "2023-06-21T06:49:32.809Z"
      },
      {
        "duration": 124,
        "start_time": "2023-06-21T06:49:55.807Z"
      },
      {
        "duration": 13,
        "start_time": "2023-06-21T06:50:00.540Z"
      },
      {
        "duration": 32770,
        "start_time": "2023-06-21T06:50:09.852Z"
      },
      {
        "duration": 12,
        "start_time": "2023-06-21T06:50:50.270Z"
      },
      {
        "duration": 106,
        "start_time": "2023-06-21T06:52:05.815Z"
      },
      {
        "duration": 6,
        "start_time": "2023-06-21T06:52:13.546Z"
      },
      {
        "duration": 99,
        "start_time": "2023-06-21T06:52:13.555Z"
      },
      {
        "duration": 38,
        "start_time": "2023-06-21T06:52:13.656Z"
      },
      {
        "duration": 29,
        "start_time": "2023-06-21T06:52:13.697Z"
      },
      {
        "duration": 465,
        "start_time": "2023-06-21T06:52:13.729Z"
      },
      {
        "duration": 352,
        "start_time": "2023-06-21T06:52:14.196Z"
      },
      {
        "duration": 289,
        "start_time": "2023-06-21T06:52:14.550Z"
      },
      {
        "duration": 685,
        "start_time": "2023-06-21T06:52:14.841Z"
      },
      {
        "duration": 17275,
        "start_time": "2023-06-21T06:52:15.528Z"
      },
      {
        "duration": 5,
        "start_time": "2023-06-21T06:52:32.805Z"
      },
      {
        "duration": 120,
        "start_time": "2023-06-21T06:52:32.811Z"
      },
      {
        "duration": 10,
        "start_time": "2023-06-21T06:52:32.933Z"
      },
      {
        "duration": 41,
        "start_time": "2023-06-21T06:52:32.945Z"
      },
      {
        "duration": 23932,
        "start_time": "2023-06-21T06:52:32.987Z"
      },
      {
        "duration": 63,
        "start_time": "2023-06-21T06:52:56.922Z"
      },
      {
        "duration": 94,
        "start_time": "2023-06-21T06:52:56.988Z"
      },
      {
        "duration": 143,
        "start_time": "2023-06-21T06:55:00.978Z"
      },
      {
        "duration": 25648,
        "start_time": "2023-06-21T06:55:09.247Z"
      },
      {
        "duration": 10,
        "start_time": "2023-06-21T06:55:41.957Z"
      },
      {
        "duration": 20,
        "start_time": "2023-06-21T06:56:02.310Z"
      },
      {
        "duration": 35209,
        "start_time": "2023-06-21T06:56:06.839Z"
      },
      {
        "duration": 9,
        "start_time": "2023-06-21T06:56:48.377Z"
      },
      {
        "duration": 21,
        "start_time": "2023-06-21T06:57:46.687Z"
      },
      {
        "duration": 97,
        "start_time": "2023-06-21T06:57:46.710Z"
      },
      {
        "duration": 32,
        "start_time": "2023-06-21T06:57:46.809Z"
      },
      {
        "duration": 35,
        "start_time": "2023-06-21T06:57:46.844Z"
      },
      {
        "duration": 547,
        "start_time": "2023-06-21T06:57:46.883Z"
      },
      {
        "duration": 400,
        "start_time": "2023-06-21T06:57:47.431Z"
      },
      {
        "duration": 323,
        "start_time": "2023-06-21T06:57:47.834Z"
      },
      {
        "duration": 599,
        "start_time": "2023-06-21T06:57:48.160Z"
      },
      {
        "duration": 23088,
        "start_time": "2023-06-21T06:57:48.761Z"
      },
      {
        "duration": 4,
        "start_time": "2023-06-21T06:58:11.852Z"
      },
      {
        "duration": 152,
        "start_time": "2023-06-21T06:58:11.858Z"
      },
      {
        "duration": 13,
        "start_time": "2023-06-21T06:58:12.012Z"
      },
      {
        "duration": 7,
        "start_time": "2023-06-21T06:58:12.028Z"
      },
      {
        "duration": 32378,
        "start_time": "2023-06-21T06:58:12.039Z"
      },
      {
        "duration": 18,
        "start_time": "2023-06-21T06:58:44.481Z"
      },
      {
        "duration": 81,
        "start_time": "2023-06-21T06:58:44.509Z"
      },
      {
        "duration": 141,
        "start_time": "2023-06-21T06:59:49.747Z"
      },
      {
        "duration": 7,
        "start_time": "2023-06-21T07:00:02.859Z"
      },
      {
        "duration": 187,
        "start_time": "2023-06-21T07:00:02.869Z"
      },
      {
        "duration": 274,
        "start_time": "2023-06-21T07:00:03.059Z"
      },
      {
        "duration": 127,
        "start_time": "2023-06-21T07:00:03.336Z"
      },
      {
        "duration": 601,
        "start_time": "2023-06-21T07:00:03.465Z"
      },
      {
        "duration": 428,
        "start_time": "2023-06-21T07:00:04.068Z"
      },
      {
        "duration": 364,
        "start_time": "2023-06-21T07:00:04.502Z"
      },
      {
        "duration": 662,
        "start_time": "2023-06-21T07:00:04.868Z"
      },
      {
        "duration": 31801,
        "start_time": "2023-06-21T07:00:05.533Z"
      },
      {
        "duration": 6,
        "start_time": "2023-06-21T07:00:37.337Z"
      },
      {
        "duration": 171,
        "start_time": "2023-06-21T07:00:37.346Z"
      },
      {
        "duration": 12,
        "start_time": "2023-06-21T07:00:37.519Z"
      },
      {
        "duration": 22,
        "start_time": "2023-06-21T07:00:37.533Z"
      },
      {
        "duration": 28953,
        "start_time": "2023-06-21T07:00:37.556Z"
      },
      {
        "duration": 19,
        "start_time": "2023-06-21T07:01:06.512Z"
      },
      {
        "duration": 87,
        "start_time": "2023-06-21T07:01:06.533Z"
      },
      {
        "duration": 132,
        "start_time": "2023-06-21T07:01:32.045Z"
      },
      {
        "duration": 26,
        "start_time": "2023-06-21T07:01:37.207Z"
      },
      {
        "duration": 39412,
        "start_time": "2023-06-21T07:01:41.925Z"
      },
      {
        "duration": 12,
        "start_time": "2023-06-21T07:02:32.339Z"
      },
      {
        "duration": 7,
        "start_time": "2023-06-21T07:02:57.348Z"
      },
      {
        "duration": 141,
        "start_time": "2023-06-21T07:02:57.357Z"
      },
      {
        "duration": 37,
        "start_time": "2023-06-21T07:02:57.504Z"
      },
      {
        "duration": 13,
        "start_time": "2023-06-21T07:02:57.543Z"
      },
      {
        "duration": 539,
        "start_time": "2023-06-21T07:02:57.558Z"
      },
      {
        "duration": 423,
        "start_time": "2023-06-21T07:02:58.109Z"
      },
      {
        "duration": 379,
        "start_time": "2023-06-21T07:02:58.534Z"
      },
      {
        "duration": 702,
        "start_time": "2023-06-21T07:02:58.915Z"
      },
      {
        "duration": 31036,
        "start_time": "2023-06-21T07:02:59.622Z"
      },
      {
        "duration": 5,
        "start_time": "2023-06-21T07:03:30.661Z"
      },
      {
        "duration": 258,
        "start_time": "2023-06-21T07:03:30.707Z"
      },
      {
        "duration": 28,
        "start_time": "2023-06-21T07:03:30.968Z"
      },
      {
        "duration": 99,
        "start_time": "2023-06-21T07:03:30.998Z"
      },
      {
        "duration": 29195,
        "start_time": "2023-06-21T07:03:31.109Z"
      },
      {
        "duration": 21,
        "start_time": "2023-06-21T07:04:00.309Z"
      },
      {
        "duration": 187,
        "start_time": "2023-06-21T07:04:00.399Z"
      },
      {
        "duration": 1867,
        "start_time": "2023-06-21T07:04:36.151Z"
      },
      {
        "duration": 68,
        "start_time": "2023-06-21T07:04:38.020Z"
      },
      {
        "duration": 42,
        "start_time": "2023-06-21T07:04:38.095Z"
      },
      {
        "duration": 19,
        "start_time": "2023-06-21T07:04:38.139Z"
      },
      {
        "duration": 532,
        "start_time": "2023-06-21T07:04:38.161Z"
      },
      {
        "duration": 463,
        "start_time": "2023-06-21T07:04:38.694Z"
      },
      {
        "duration": 564,
        "start_time": "2023-06-21T07:04:39.160Z"
      },
      {
        "duration": 768,
        "start_time": "2023-06-21T07:04:39.730Z"
      },
      {
        "duration": 30785,
        "start_time": "2023-06-21T07:04:40.505Z"
      },
      {
        "duration": 5,
        "start_time": "2023-06-21T07:05:11.292Z"
      },
      {
        "duration": 191,
        "start_time": "2023-06-21T07:05:11.299Z"
      },
      {
        "duration": 13,
        "start_time": "2023-06-21T07:05:11.492Z"
      },
      {
        "duration": 13,
        "start_time": "2023-06-21T07:05:11.507Z"
      },
      {
        "duration": 32152,
        "start_time": "2023-06-21T07:05:11.524Z"
      },
      {
        "duration": 13,
        "start_time": "2023-06-21T07:05:43.678Z"
      },
      {
        "duration": 143,
        "start_time": "2023-06-21T07:05:43.697Z"
      },
      {
        "duration": 7,
        "start_time": "2023-06-21T07:35:13.302Z"
      },
      {
        "duration": 67,
        "start_time": "2023-06-21T07:35:13.335Z"
      },
      {
        "duration": 49,
        "start_time": "2023-06-21T07:35:13.404Z"
      },
      {
        "duration": 33,
        "start_time": "2023-06-21T07:35:13.456Z"
      },
      {
        "duration": 621,
        "start_time": "2023-06-21T07:35:13.491Z"
      },
      {
        "duration": 452,
        "start_time": "2023-06-21T07:35:14.116Z"
      },
      {
        "duration": 451,
        "start_time": "2023-06-21T07:35:14.581Z"
      },
      {
        "duration": 924,
        "start_time": "2023-06-21T07:35:15.039Z"
      },
      {
        "duration": 36439,
        "start_time": "2023-06-21T07:35:15.965Z"
      },
      {
        "duration": 12,
        "start_time": "2023-06-21T07:35:52.408Z"
      },
      {
        "duration": 201,
        "start_time": "2023-06-21T07:35:52.433Z"
      },
      {
        "duration": 18,
        "start_time": "2023-06-21T07:35:52.636Z"
      },
      {
        "duration": 32,
        "start_time": "2023-06-21T07:35:52.657Z"
      },
      {
        "duration": 30402,
        "start_time": "2023-06-21T07:35:52.694Z"
      },
      {
        "duration": 18,
        "start_time": "2023-06-21T07:36:23.116Z"
      },
      {
        "duration": 98,
        "start_time": "2023-06-21T07:36:23.149Z"
      },
      {
        "duration": 7,
        "start_time": "2023-06-21T07:36:44.369Z"
      },
      {
        "duration": 212,
        "start_time": "2023-06-21T07:36:44.381Z"
      },
      {
        "duration": 108,
        "start_time": "2023-06-21T07:36:44.596Z"
      },
      {
        "duration": 96,
        "start_time": "2023-06-21T07:36:44.706Z"
      },
      {
        "duration": 698,
        "start_time": "2023-06-21T07:36:44.811Z"
      },
      {
        "duration": 493,
        "start_time": "2023-06-21T07:36:45.517Z"
      },
      {
        "duration": 353,
        "start_time": "2023-06-21T07:36:46.017Z"
      },
      {
        "duration": 989,
        "start_time": "2023-06-21T07:36:46.383Z"
      },
      {
        "duration": 35080,
        "start_time": "2023-06-21T07:36:47.375Z"
      },
      {
        "duration": 7,
        "start_time": "2023-06-21T07:37:22.458Z"
      },
      {
        "duration": 231,
        "start_time": "2023-06-21T07:37:22.467Z"
      },
      {
        "duration": 16,
        "start_time": "2023-06-21T07:37:22.700Z"
      },
      {
        "duration": 58,
        "start_time": "2023-06-21T07:37:22.718Z"
      },
      {
        "duration": 28436,
        "start_time": "2023-06-21T07:37:22.782Z"
      },
      {
        "duration": 30,
        "start_time": "2023-06-21T07:37:51.232Z"
      },
      {
        "duration": 177,
        "start_time": "2023-06-21T07:37:51.264Z"
      },
      {
        "duration": 2622,
        "start_time": "2023-06-21T07:54:44.739Z"
      },
      {
        "duration": 104,
        "start_time": "2023-06-21T07:54:47.364Z"
      },
      {
        "duration": 145,
        "start_time": "2023-06-21T07:54:47.472Z"
      },
      {
        "duration": 113,
        "start_time": "2023-06-21T07:54:47.619Z"
      },
      {
        "duration": 786,
        "start_time": "2023-06-21T07:54:47.734Z"
      },
      {
        "duration": 565,
        "start_time": "2023-06-21T07:54:48.525Z"
      },
      {
        "duration": 632,
        "start_time": "2023-06-21T07:54:49.093Z"
      },
      {
        "duration": 870,
        "start_time": "2023-06-21T07:54:49.734Z"
      },
      {
        "duration": 34955,
        "start_time": "2023-06-21T07:54:50.619Z"
      },
      {
        "duration": 12,
        "start_time": "2023-06-21T07:55:25.578Z"
      },
      {
        "duration": 234,
        "start_time": "2023-06-21T07:55:25.594Z"
      },
      {
        "duration": 31,
        "start_time": "2023-06-21T07:55:25.837Z"
      },
      {
        "duration": 72,
        "start_time": "2023-06-21T07:55:25.872Z"
      },
      {
        "duration": 28461,
        "start_time": "2023-06-21T07:55:25.949Z"
      },
      {
        "duration": 13,
        "start_time": "2023-06-21T07:55:54.426Z"
      },
      {
        "duration": 121,
        "start_time": "2023-06-21T07:55:54.446Z"
      },
      {
        "duration": 1651,
        "start_time": "2023-06-22T04:14:56.714Z"
      },
      {
        "duration": 145,
        "start_time": "2023-06-22T04:14:58.368Z"
      },
      {
        "duration": 27,
        "start_time": "2023-06-22T04:14:58.515Z"
      },
      {
        "duration": 11,
        "start_time": "2023-06-22T04:14:58.544Z"
      },
      {
        "duration": 421,
        "start_time": "2023-06-22T04:14:58.557Z"
      },
      {
        "duration": 324,
        "start_time": "2023-06-22T04:14:58.980Z"
      },
      {
        "duration": 315,
        "start_time": "2023-06-22T04:14:59.306Z"
      },
      {
        "duration": 566,
        "start_time": "2023-06-22T04:14:59.625Z"
      },
      {
        "duration": 4761,
        "start_time": "2023-06-22T04:15:00.193Z"
      },
      {
        "duration": 4,
        "start_time": "2023-06-22T04:15:04.955Z"
      },
      {
        "duration": 104,
        "start_time": "2023-06-22T04:15:04.961Z"
      },
      {
        "duration": 8,
        "start_time": "2023-06-22T04:15:05.067Z"
      },
      {
        "duration": 53,
        "start_time": "2023-06-22T04:15:05.076Z"
      },
      {
        "duration": 21874,
        "start_time": "2023-06-22T04:15:05.131Z"
      },
      {
        "duration": 24,
        "start_time": "2023-06-22T04:15:27.006Z"
      },
      {
        "duration": 44,
        "start_time": "2023-06-22T04:15:27.104Z"
      },
      {
        "duration": 4,
        "start_time": "2023-06-22T04:17:07.590Z"
      },
      {
        "duration": 77,
        "start_time": "2023-06-22T04:17:07.595Z"
      },
      {
        "duration": 20,
        "start_time": "2023-06-22T04:17:07.674Z"
      },
      {
        "duration": 33,
        "start_time": "2023-06-22T04:17:07.696Z"
      },
      {
        "duration": 354,
        "start_time": "2023-06-22T04:17:07.730Z"
      },
      {
        "duration": 335,
        "start_time": "2023-06-22T04:17:08.085Z"
      },
      {
        "duration": 249,
        "start_time": "2023-06-22T04:17:08.422Z"
      },
      {
        "duration": 563,
        "start_time": "2023-06-22T04:17:08.673Z"
      },
      {
        "duration": 3656,
        "start_time": "2023-06-22T04:17:09.238Z"
      },
      {
        "duration": 15,
        "start_time": "2023-06-22T04:17:12.895Z"
      },
      {
        "duration": 97,
        "start_time": "2023-06-22T04:17:12.914Z"
      },
      {
        "duration": 9,
        "start_time": "2023-06-22T04:17:13.013Z"
      },
      {
        "duration": 6,
        "start_time": "2023-06-22T04:17:13.023Z"
      },
      {
        "duration": 24387,
        "start_time": "2023-06-22T04:17:13.030Z"
      },
      {
        "duration": 94,
        "start_time": "2023-06-22T04:17:37.420Z"
      },
      {
        "duration": 16,
        "start_time": "2023-06-22T04:17:37.515Z"
      },
      {
        "duration": 4,
        "start_time": "2023-06-22T04:18:06.724Z"
      },
      {
        "duration": 68,
        "start_time": "2023-06-22T04:18:06.730Z"
      },
      {
        "duration": 22,
        "start_time": "2023-06-22T04:18:06.810Z"
      },
      {
        "duration": 8,
        "start_time": "2023-06-22T04:18:06.834Z"
      },
      {
        "duration": 353,
        "start_time": "2023-06-22T04:18:06.844Z"
      },
      {
        "duration": 314,
        "start_time": "2023-06-22T04:18:07.199Z"
      },
      {
        "duration": 239,
        "start_time": "2023-06-22T04:18:07.515Z"
      },
      {
        "duration": 592,
        "start_time": "2023-06-22T04:18:07.755Z"
      },
      {
        "duration": 4235,
        "start_time": "2023-06-22T04:18:08.351Z"
      },
      {
        "duration": 4,
        "start_time": "2023-06-22T04:18:12.587Z"
      },
      {
        "duration": 81,
        "start_time": "2023-06-22T04:18:12.602Z"
      },
      {
        "duration": 27,
        "start_time": "2023-06-22T04:18:12.684Z"
      },
      {
        "duration": 7,
        "start_time": "2023-06-22T04:18:12.712Z"
      },
      {
        "duration": 21389,
        "start_time": "2023-06-22T04:18:12.721Z"
      },
      {
        "duration": 9,
        "start_time": "2023-06-22T04:18:34.113Z"
      },
      {
        "duration": 103,
        "start_time": "2023-06-22T04:18:34.124Z"
      },
      {
        "duration": 4,
        "start_time": "2023-06-22T04:19:09.737Z"
      },
      {
        "duration": 45,
        "start_time": "2023-06-22T04:19:09.743Z"
      },
      {
        "duration": 26,
        "start_time": "2023-06-22T04:19:09.789Z"
      },
      {
        "duration": 9,
        "start_time": "2023-06-22T04:19:09.819Z"
      },
      {
        "duration": 352,
        "start_time": "2023-06-22T04:19:09.829Z"
      },
      {
        "duration": 309,
        "start_time": "2023-06-22T04:19:10.183Z"
      },
      {
        "duration": 255,
        "start_time": "2023-06-22T04:19:10.494Z"
      },
      {
        "duration": 475,
        "start_time": "2023-06-22T04:19:10.751Z"
      },
      {
        "duration": 6325,
        "start_time": "2023-06-22T04:19:11.227Z"
      },
      {
        "duration": 4,
        "start_time": "2023-06-22T04:19:17.553Z"
      },
      {
        "duration": 95,
        "start_time": "2023-06-22T04:19:17.559Z"
      },
      {
        "duration": 9,
        "start_time": "2023-06-22T04:19:17.655Z"
      },
      {
        "duration": 6,
        "start_time": "2023-06-22T04:19:17.665Z"
      },
      {
        "duration": 23364,
        "start_time": "2023-06-22T04:19:17.673Z"
      },
      {
        "duration": 26,
        "start_time": "2023-06-22T04:19:41.107Z"
      },
      {
        "duration": 13,
        "start_time": "2023-06-22T04:19:41.134Z"
      },
      {
        "duration": 1606,
        "start_time": "2023-06-22T04:29:05.120Z"
      },
      {
        "duration": 47,
        "start_time": "2023-06-22T04:29:06.728Z"
      },
      {
        "duration": 40,
        "start_time": "2023-06-22T04:29:06.777Z"
      },
      {
        "duration": 17,
        "start_time": "2023-06-22T04:29:06.818Z"
      },
      {
        "duration": 409,
        "start_time": "2023-06-22T04:29:06.837Z"
      },
      {
        "duration": 309,
        "start_time": "2023-06-22T04:29:07.247Z"
      },
      {
        "duration": 309,
        "start_time": "2023-06-22T04:29:07.557Z"
      },
      {
        "duration": 517,
        "start_time": "2023-06-22T04:29:07.867Z"
      },
      {
        "duration": 7128,
        "start_time": "2023-06-22T04:29:08.386Z"
      },
      {
        "duration": 5,
        "start_time": "2023-06-22T04:29:15.519Z"
      },
      {
        "duration": 124,
        "start_time": "2023-06-22T04:29:15.526Z"
      },
      {
        "duration": 9,
        "start_time": "2023-06-22T04:29:15.652Z"
      },
      {
        "duration": 6,
        "start_time": "2023-06-22T04:29:15.662Z"
      },
      {
        "duration": 20649,
        "start_time": "2023-06-22T04:29:15.670Z"
      },
      {
        "duration": 88,
        "start_time": "2023-06-22T04:29:36.325Z"
      },
      {
        "duration": 49,
        "start_time": "2023-06-22T04:29:36.415Z"
      },
      {
        "duration": 369,
        "start_time": "2023-06-22T04:29:36.465Z"
      },
      {
        "duration": 400,
        "start_time": "2023-06-22T04:32:57.187Z"
      },
      {
        "duration": 8,
        "start_time": "2023-06-22T04:33:35.881Z"
      },
      {
        "duration": 15,
        "start_time": "2023-06-22T04:33:45.598Z"
      },
      {
        "duration": 5,
        "start_time": "2023-06-22T04:33:54.875Z"
      },
      {
        "duration": 398,
        "start_time": "2023-06-22T04:34:23.214Z"
      },
      {
        "duration": 8,
        "start_time": "2023-06-22T04:34:46.243Z"
      },
      {
        "duration": 5,
        "start_time": "2023-06-22T04:35:20.145Z"
      },
      {
        "duration": 347,
        "start_time": "2023-06-22T04:35:34.144Z"
      },
      {
        "duration": 295,
        "start_time": "2023-06-22T04:36:48.034Z"
      },
      {
        "duration": 364,
        "start_time": "2023-06-22T04:37:01.726Z"
      },
      {
        "duration": 1466,
        "start_time": "2023-06-22T04:39:46.444Z"
      },
      {
        "duration": 47,
        "start_time": "2023-06-22T04:39:47.912Z"
      },
      {
        "duration": 24,
        "start_time": "2023-06-22T04:39:47.961Z"
      },
      {
        "duration": 10,
        "start_time": "2023-06-22T04:39:47.986Z"
      },
      {
        "duration": 414,
        "start_time": "2023-06-22T04:39:47.997Z"
      },
      {
        "duration": 596,
        "start_time": "2023-06-22T04:39:48.413Z"
      },
      {
        "duration": 623,
        "start_time": "2023-06-22T04:39:49.016Z"
      },
      {
        "duration": 873,
        "start_time": "2023-06-22T04:39:49.641Z"
      },
      {
        "duration": 4537,
        "start_time": "2023-06-22T04:39:50.516Z"
      },
      {
        "duration": 4,
        "start_time": "2023-06-22T04:39:55.056Z"
      },
      {
        "duration": 110,
        "start_time": "2023-06-22T04:39:55.062Z"
      },
      {
        "duration": 9,
        "start_time": "2023-06-22T04:39:55.174Z"
      },
      {
        "duration": 35,
        "start_time": "2023-06-22T04:39:55.184Z"
      },
      {
        "duration": 21290,
        "start_time": "2023-06-22T04:39:55.221Z"
      },
      {
        "duration": 97,
        "start_time": "2023-06-22T04:40:16.512Z"
      },
      {
        "duration": 88,
        "start_time": "2023-06-22T04:40:16.615Z"
      },
      {
        "duration": 352,
        "start_time": "2023-06-22T04:40:16.710Z"
      },
      {
        "duration": 1911,
        "start_time": "2023-07-25T11:27:09.504Z"
      },
      {
        "duration": 208,
        "start_time": "2023-07-25T11:27:11.417Z"
      },
      {
        "duration": 34,
        "start_time": "2023-07-25T11:27:11.627Z"
      },
      {
        "duration": 23,
        "start_time": "2023-07-25T11:27:11.663Z"
      },
      {
        "duration": 525,
        "start_time": "2023-07-25T11:27:11.688Z"
      },
      {
        "duration": 391,
        "start_time": "2023-07-25T11:27:12.216Z"
      },
      {
        "duration": 383,
        "start_time": "2023-07-25T11:27:12.610Z"
      },
      {
        "duration": 999,
        "start_time": "2023-07-25T11:27:12.995Z"
      },
      {
        "duration": 12691,
        "start_time": "2023-07-25T11:27:13.996Z"
      },
      {
        "duration": 6,
        "start_time": "2023-07-25T11:27:26.690Z"
      },
      {
        "duration": 161,
        "start_time": "2023-07-25T11:27:26.698Z"
      },
      {
        "duration": 19,
        "start_time": "2023-07-25T11:27:26.861Z"
      },
      {
        "duration": 23,
        "start_time": "2023-07-25T11:27:26.882Z"
      },
      {
        "duration": 24070,
        "start_time": "2023-07-25T11:27:26.909Z"
      },
      {
        "duration": 90,
        "start_time": "2023-07-25T11:27:50.983Z"
      },
      {
        "duration": 17,
        "start_time": "2023-07-25T11:27:51.076Z"
      },
      {
        "duration": 479,
        "start_time": "2023-07-25T11:27:51.095Z"
      },
      {
        "duration": 702,
        "start_time": "2023-07-25T12:06:59.614Z"
      },
      {
        "duration": 9484,
        "start_time": "2023-07-25T12:08:50.960Z"
      },
      {
        "duration": 456,
        "start_time": "2023-07-25T12:09:44.900Z"
      },
      {
        "duration": 1738,
        "start_time": "2023-07-25T12:10:21.407Z"
      },
      {
        "duration": 59,
        "start_time": "2023-07-25T12:10:23.147Z"
      },
      {
        "duration": 31,
        "start_time": "2023-07-25T12:10:23.208Z"
      },
      {
        "duration": 37,
        "start_time": "2023-07-25T12:10:23.240Z"
      },
      {
        "duration": 503,
        "start_time": "2023-07-25T12:10:23.285Z"
      },
      {
        "duration": 435,
        "start_time": "2023-07-25T12:10:23.791Z"
      },
      {
        "duration": 440,
        "start_time": "2023-07-25T12:10:24.228Z"
      },
      {
        "duration": 733,
        "start_time": "2023-07-25T12:10:24.671Z"
      },
      {
        "duration": 11232,
        "start_time": "2023-07-25T12:10:25.406Z"
      },
      {
        "duration": 8,
        "start_time": "2023-07-25T12:10:36.643Z"
      },
      {
        "duration": 229,
        "start_time": "2023-07-25T12:10:36.653Z"
      },
      {
        "duration": 16,
        "start_time": "2023-07-25T12:10:36.884Z"
      },
      {
        "duration": 27,
        "start_time": "2023-07-25T12:10:36.903Z"
      },
      {
        "duration": 27772,
        "start_time": "2023-07-25T12:10:36.934Z"
      },
      {
        "duration": 74,
        "start_time": "2023-07-25T12:11:04.709Z"
      },
      {
        "duration": 106,
        "start_time": "2023-07-25T12:11:04.793Z"
      },
      {
        "duration": 479,
        "start_time": "2023-07-25T12:11:04.903Z"
      }
    ],
    "kernelspec": {
      "display_name": "Python 3 (ipykernel)",
      "language": "python",
      "name": "python3"
    },
    "language_info": {
      "codemirror_mode": {
        "name": "ipython",
        "version": 3
      },
      "file_extension": ".py",
      "mimetype": "text/x-python",
      "name": "python",
      "nbconvert_exporter": "python",
      "pygments_lexer": "ipython3",
      "version": "3.9.5"
    },
    "toc": {
      "base_numbering": 1,
      "nav_menu": {},
      "number_sections": true,
      "sideBar": true,
      "skip_h1_title": true,
      "title_cell": "Содержание",
      "title_sidebar": "Contents",
      "toc_cell": true,
      "toc_position": {},
      "toc_section_display": true,
      "toc_window_display": true
    },
    "colab": {
      "provenance": []
    }
  },
  "nbformat": 4,
  "nbformat_minor": 0
}