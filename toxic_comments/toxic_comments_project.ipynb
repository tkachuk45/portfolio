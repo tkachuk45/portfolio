{
  "cells": [
    {
      "cell_type": "markdown",
      "metadata": {
        "id": "sgWFeYV0rhZU"
      },
      "source": [
        "### Этап 1. Подготовка"
      ]
    },
    {
      "cell_type": "code",
      "execution_count": null,
      "metadata": {
        "id": "MhwkFKgWrhZV"
      },
      "outputs": [],
      "source": [
        "# импортируем библиотеки\n",
        "import pandas as pd\n",
        "import numpy as np\n",
        "import re\n",
        "import spacy\n",
        "import nltk\n",
        "\n",
        "from nltk.corpus import stopwords as nltk_stopwords\n",
        "from sklearn.feature_extraction.text import TfidfVectorizer\n",
        "from sklearn.metrics import f1_score\n",
        "from sklearn.model_selection import (\n",
        "    GridSearchCV,\n",
        "    train_test_split\n",
        ")\n",
        "from sklearn.linear_model import LogisticRegression\n",
        "from sklearn.svm import LinearSVC\n",
        "from sklearn.dummy import DummyClassifier\n",
        "from sklearn.pipeline import Pipeline\n",
        "\n",
        "# зафиксируем значение random state\n",
        "RS = 12345\n",
        "\n",
        "# зафиксируем размер выборки\n",
        "sample_size = 30000"
      ]
    },
    {
      "cell_type": "code",
      "execution_count": null,
      "metadata": {
        "id": "Sg-V0sKGrhZW"
      },
      "outputs": [],
      "source": [
        "# загрузим данные из локальной папки\n",
        "data = pd.read_csv('toxic_comments.csv')\n",
        "\n",
        "# напишем функцию для проверки датасета\n",
        "def check_data(df):\n",
        "    display(\n",
        "        df.info(),\n",
        "        df.describe(),\n",
        "        df.head()\n",
        "    )\n",
        "    print('Дубликатов строк:', df.duplicated().sum())"
      ]
    },
    {
      "cell_type": "markdown",
      "metadata": {
        "id": "ipbVVc-srhZW"
      },
      "source": [
        "### Этап 2. Обзор данных"
      ]
    },
    {
      "cell_type": "code",
      "execution_count": null,
      "metadata": {
        "id": "SL1tnIB1rhZX",
        "outputId": "0b3b3ff3-5624-4d4c-e25d-a3c6e98da164"
      },
      "outputs": [
        {
          "name": "stdout",
          "output_type": "stream",
          "text": [
            "<class 'pandas.core.frame.DataFrame'>\n",
            "RangeIndex: 159292 entries, 0 to 159291\n",
            "Data columns (total 3 columns):\n",
            " #   Column      Non-Null Count   Dtype \n",
            "---  ------      --------------   ----- \n",
            " 0   Unnamed: 0  159292 non-null  int64 \n",
            " 1   text        159292 non-null  object\n",
            " 2   toxic       159292 non-null  int64 \n",
            "dtypes: int64(2), object(1)\n",
            "memory usage: 3.6+ MB\n"
          ]
        },
        {
          "data": {
            "text/plain": [
              "None"
            ]
          },
          "metadata": {},
          "output_type": "display_data"
        },
        {
          "data": {
            "text/html": [
              "<div>\n",
              "<style scoped>\n",
              "    .dataframe tbody tr th:only-of-type {\n",
              "        vertical-align: middle;\n",
              "    }\n",
              "\n",
              "    .dataframe tbody tr th {\n",
              "        vertical-align: top;\n",
              "    }\n",
              "\n",
              "    .dataframe thead th {\n",
              "        text-align: right;\n",
              "    }\n",
              "</style>\n",
              "<table border=\"1\" class=\"dataframe\">\n",
              "  <thead>\n",
              "    <tr style=\"text-align: right;\">\n",
              "      <th></th>\n",
              "      <th>Unnamed: 0</th>\n",
              "      <th>toxic</th>\n",
              "    </tr>\n",
              "  </thead>\n",
              "  <tbody>\n",
              "    <tr>\n",
              "      <th>count</th>\n",
              "      <td>159292.000000</td>\n",
              "      <td>159292.000000</td>\n",
              "    </tr>\n",
              "    <tr>\n",
              "      <th>mean</th>\n",
              "      <td>79725.697242</td>\n",
              "      <td>0.101612</td>\n",
              "    </tr>\n",
              "    <tr>\n",
              "      <th>std</th>\n",
              "      <td>46028.837471</td>\n",
              "      <td>0.302139</td>\n",
              "    </tr>\n",
              "    <tr>\n",
              "      <th>min</th>\n",
              "      <td>0.000000</td>\n",
              "      <td>0.000000</td>\n",
              "    </tr>\n",
              "    <tr>\n",
              "      <th>25%</th>\n",
              "      <td>39872.750000</td>\n",
              "      <td>0.000000</td>\n",
              "    </tr>\n",
              "    <tr>\n",
              "      <th>50%</th>\n",
              "      <td>79721.500000</td>\n",
              "      <td>0.000000</td>\n",
              "    </tr>\n",
              "    <tr>\n",
              "      <th>75%</th>\n",
              "      <td>119573.250000</td>\n",
              "      <td>0.000000</td>\n",
              "    </tr>\n",
              "    <tr>\n",
              "      <th>max</th>\n",
              "      <td>159450.000000</td>\n",
              "      <td>1.000000</td>\n",
              "    </tr>\n",
              "  </tbody>\n",
              "</table>\n",
              "</div>"
            ],
            "text/plain": [
              "          Unnamed: 0          toxic\n",
              "count  159292.000000  159292.000000\n",
              "mean    79725.697242       0.101612\n",
              "std     46028.837471       0.302139\n",
              "min         0.000000       0.000000\n",
              "25%     39872.750000       0.000000\n",
              "50%     79721.500000       0.000000\n",
              "75%    119573.250000       0.000000\n",
              "max    159450.000000       1.000000"
            ]
          },
          "metadata": {},
          "output_type": "display_data"
        },
        {
          "data": {
            "text/html": [
              "<div>\n",
              "<style scoped>\n",
              "    .dataframe tbody tr th:only-of-type {\n",
              "        vertical-align: middle;\n",
              "    }\n",
              "\n",
              "    .dataframe tbody tr th {\n",
              "        vertical-align: top;\n",
              "    }\n",
              "\n",
              "    .dataframe thead th {\n",
              "        text-align: right;\n",
              "    }\n",
              "</style>\n",
              "<table border=\"1\" class=\"dataframe\">\n",
              "  <thead>\n",
              "    <tr style=\"text-align: right;\">\n",
              "      <th></th>\n",
              "      <th>Unnamed: 0</th>\n",
              "      <th>text</th>\n",
              "      <th>toxic</th>\n",
              "    </tr>\n",
              "  </thead>\n",
              "  <tbody>\n",
              "    <tr>\n",
              "      <th>0</th>\n",
              "      <td>0</td>\n",
              "      <td>Explanation\\nWhy the edits made under my usern...</td>\n",
              "      <td>0</td>\n",
              "    </tr>\n",
              "    <tr>\n",
              "      <th>1</th>\n",
              "      <td>1</td>\n",
              "      <td>D'aww! He matches this background colour I'm s...</td>\n",
              "      <td>0</td>\n",
              "    </tr>\n",
              "    <tr>\n",
              "      <th>2</th>\n",
              "      <td>2</td>\n",
              "      <td>Hey man, I'm really not trying to edit war. It...</td>\n",
              "      <td>0</td>\n",
              "    </tr>\n",
              "    <tr>\n",
              "      <th>3</th>\n",
              "      <td>3</td>\n",
              "      <td>\"\\nMore\\nI can't make any real suggestions on ...</td>\n",
              "      <td>0</td>\n",
              "    </tr>\n",
              "    <tr>\n",
              "      <th>4</th>\n",
              "      <td>4</td>\n",
              "      <td>You, sir, are my hero. Any chance you remember...</td>\n",
              "      <td>0</td>\n",
              "    </tr>\n",
              "  </tbody>\n",
              "</table>\n",
              "</div>"
            ],
            "text/plain": [
              "   Unnamed: 0                                               text  toxic\n",
              "0           0  Explanation\\nWhy the edits made under my usern...      0\n",
              "1           1  D'aww! He matches this background colour I'm s...      0\n",
              "2           2  Hey man, I'm really not trying to edit war. It...      0\n",
              "3           3  \"\\nMore\\nI can't make any real suggestions on ...      0\n",
              "4           4  You, sir, are my hero. Any chance you remember...      0"
            ]
          },
          "metadata": {},
          "output_type": "display_data"
        },
        {
          "name": "stdout",
          "output_type": "stream",
          "text": [
            "Дубликатов строк: 0\n"
          ]
        }
      ],
      "source": [
        "# проверим датасет\n",
        "check_data(data)"
      ]
    },
    {
      "cell_type": "markdown",
      "metadata": {
        "id": "qnRHx7OvrhZX"
      },
      "source": [
        "В данных:\n",
        "- нет пропусков\n",
        "- корректные типы\n",
        "- нет дубликатов\n",
        "- есть символы переноса строки \\n, которые могут помешать обработке\n",
        "- дисбаланс классов: токсичных комментариев около 10%\n",
        "- есть неинформативный столбец Unnamed: 0"
      ]
    },
    {
      "cell_type": "markdown",
      "metadata": {
        "id": "6OU8RisBrhZY"
      },
      "source": [
        "### Этап 3. Обработка данных"
      ]
    },
    {
      "cell_type": "code",
      "execution_count": null,
      "metadata": {
        "id": "7OvF9_iNrhZY",
        "outputId": "a6a38d23-5e7a-420d-c4e3-d704055bd219"
      },
      "outputs": [
        {
          "data": {
            "text/plain": [
              "(30000, 2)"
            ]
          },
          "execution_count": 8,
          "metadata": {},
          "output_type": "execute_result"
        }
      ],
      "source": [
        "# удалим неинформативный столбец\n",
        "data = data.drop('Unnamed: 0', axis=1)\n",
        "\n",
        "# для дальнейшей работы возьмем выборку из датасета\n",
        "df = data.sample(sample_size, random_state=RS)\n",
        "\n",
        "# проверим результат\n",
        "df.shape"
      ]
    },
    {
      "cell_type": "code",
      "execution_count": null,
      "metadata": {
        "id": "XVvSd4cvrhZY",
        "outputId": "ef0dc2e2-1c4f-409c-ecdf-4efd95b71cb5"
      },
      "outputs": [
        {
          "data": {
            "text/plain": [
              "array(['Expert Categorizers  \\n\\nWhy is there no mention of the fact that Nazis were particularly great categorizers? They excelled in identifying various things and writing about them and putting them in their proper places.',\n",
              "       '\"\\n\\n Noise \\n\\nfart*  talk. \"',\n",
              "       'An indefinite block is appropriate, even for a minor infraction, if you show know signs of discontinuing.  —   (talk)',\n",
              "       \"I don't understand why we have a screenshot of AP's GUI but not UB. Can someone remedy this?\",\n",
              "       \"Hello! Some of the people, places or things you have written about in the article Nikolas Tryfonos may not be sufficiently well-known to merit articles of their own. The Wikipedia community welcomes newcomers, and encourages them to become Wikipedians. On Wikipedia, each user is entitled to a user page in which they can describe themselves, and this article's content may be incorporated into that page. However, to merit inclusion in the encyclopedia proper, a subject must be notable. We encourage you to write or improve articles on notable subjects.    tock\",\n",
              "       '\"::::::::::::::If you read carefully, my comment was overall a debate of the issues. It simply ended with a request about not \"\"beating a dead horse\"\". Although it may have been rude, this can hardly be interpreted as a personal attack. You are blowing things out of proportion because you obviously have nothing else to do than be a bully.    \\n\"',\n",
              "       '\"\\nDid you make it at WP:AE? ofShalott \"',\n",
              "       'know as much as he thinks.',\n",
              "       \"Thank you for your comment and willingness to help. We all do make mistakes. I believe that it is possible to request an oversight of log entries. I'll send in an e-mail and see if they can do that. I'll provide information and some links, including to this post for their information. If they cannot, I can request a 0-second block to add a note to the log. I'll get back to you later. Thank you. 69.155.128.40\",\n",
              "       'UPDATE 3-12-06\\n\\nHEY YALL IM GOING TO BE GONE 4 A WEEK SO DONT EXPECT ANY MORE EDITS FROM ME 4 AWHILE BUT DONT WORRY ILL BE BACK LIKE JORDAN OR JAYZ\\n\\nKEEP IT PEACE YALL\\n\\n-USER 66'],\n",
              "      dtype=object)"
            ]
          },
          "execution_count": 9,
          "metadata": {},
          "output_type": "execute_result"
        }
      ],
      "source": [
        "# рассмотрим ближе тексты\n",
        "df['text'].head(10).values"
      ]
    },
    {
      "cell_type": "code",
      "execution_count": null,
      "metadata": {
        "id": "qCXQW9nXrhZY"
      },
      "outputs": [],
      "source": [
        "# напишем функцию для приведения слов к нижнему регистру и очистки от лишних символов\n",
        "def clean(text):\n",
        "    return \" \".join(re.sub(r'[^a-zA-Z]\\n', ' ', text.lower()).split())\n",
        "\n",
        "# загрузим словарь spacy\n",
        "nlp = spacy.load('en_core_web_sm')\n",
        "\n",
        "# напишем функцию лемматизации\n",
        "def lemmatize(text):\n",
        "    global nlp\n",
        "    doc = nlp(text)\n",
        "    return \" \".join([token.lemma_ for token in doc])"
      ]
    },
    {
      "cell_type": "code",
      "execution_count": null,
      "metadata": {
        "id": "gz13leN8rhZZ",
        "outputId": "3ca951d6-11c9-4c90-f3e6-b38599444606"
      },
      "outputs": [
        {
          "data": {
            "text/plain": [
              "array(['Expert Categorizers  \\n\\nWhy is there no mention of the fact that Nazis were particularly great categorizers? They excelled in identifying various things and writing about them and putting them in their proper places.',\n",
              "       '\"\\n\\n Noise \\n\\nfart*  talk. \"',\n",
              "       'An indefinite block is appropriate, even for a minor infraction, if you show know signs of discontinuing.  —   (talk)',\n",
              "       \"I don't understand why we have a screenshot of AP's GUI but not UB. Can someone remedy this?\",\n",
              "       \"Hello! Some of the people, places or things you have written about in the article Nikolas Tryfonos may not be sufficiently well-known to merit articles of their own. The Wikipedia community welcomes newcomers, and encourages them to become Wikipedians. On Wikipedia, each user is entitled to a user page in which they can describe themselves, and this article's content may be incorporated into that page. However, to merit inclusion in the encyclopedia proper, a subject must be notable. We encourage you to write or improve articles on notable subjects.    tock\"],\n",
              "      dtype=object)"
            ]
          },
          "metadata": {},
          "output_type": "display_data"
        },
        {
          "data": {
            "text/plain": [
              "array(['expert categorizers why is there no mention of the fact that nazis were particularly great categorizers? they excelled in identifying various things and writing about them and putting them in their proper places.',\n",
              "       'noise fart* talk. \"',\n",
              "       'an indefinite block is appropriate, even for a minor infraction, if you show know signs of discontinuing. — (talk)',\n",
              "       \"i don't understand why we have a screenshot of ap's gui but not ub. can someone remedy this?\",\n",
              "       \"hello! some of the people, places or things you have written about in the article nikolas tryfonos may not be sufficiently well-known to merit articles of their own. the wikipedia community welcomes newcomers, and encourages them to become wikipedians. on wikipedia, each user is entitled to a user page in which they can describe themselves, and this article's content may be incorporated into that page. however, to merit inclusion in the encyclopedia proper, a subject must be notable. we encourage you to write or improve articles on notable subjects. tock\"],\n",
              "      dtype=object)"
            ]
          },
          "metadata": {},
          "output_type": "display_data"
        },
        {
          "data": {
            "text/plain": [
              "array(['expert categorizer why be there no mention of the fact that nazi be particularly great categorizer ? they excel in identify various thing and write about they and put they in their proper place .',\n",
              "       'noise fart * talk . \"',\n",
              "       'an indefinite block be appropriate , even for a minor infraction , if you show know sign of discontinuing . — ( talk )',\n",
              "       \"I do not understand why we have a screenshot of ap 's gui but not ub . can someone remedy this ?\",\n",
              "       \"hello ! some of the people , place or thing you have write about in the article nikolas tryfono may not be sufficiently well - know to merit article of their own . the wikipedia community welcome newcomer , and encourage they to become wikipedian . on wikipedia , each user be entitle to a user page in which they can describe themselves , and this article 's content may be incorporate into that page . however , to merit inclusion in the encyclopedia proper , a subject must be notable . we encourage you to write or improve article on notable subject . tock\"],\n",
              "      dtype=object)"
            ]
          },
          "metadata": {},
          "output_type": "display_data"
        },
        {
          "name": "stdout",
          "output_type": "stream",
          "text": [
            "CPU times: user 8min 29s, sys: 3.12 s, total: 8min 32s\n",
            "Wall time: 8min 33s\n"
          ]
        }
      ],
      "source": [
        "%%time\n",
        "\n",
        "# очистим и лемматизируем данные\n",
        "df['clean_text'] = df['text'].apply(clean)\n",
        "df['lemmatized_text'] = df['clean_text'].apply(lemmatize)\n",
        "\n",
        "# проверим результат в сравнении\n",
        "display(\n",
        "    df['text'].head().values,\n",
        "    df['clean_text'].head().values,\n",
        "    df['lemmatized_text'].head().values\n",
        ")"
      ]
    },
    {
      "cell_type": "code",
      "execution_count": null,
      "metadata": {
        "id": "Cf7OjI8mrhZZ",
        "outputId": "3bb46571-c5c1-4020-ea70-2ebb84df4578"
      },
      "outputs": [
        {
          "data": {
            "text/plain": [
              "(24000,)"
            ]
          },
          "metadata": {},
          "output_type": "display_data"
        },
        {
          "data": {
            "text/plain": [
              "(6000,)"
            ]
          },
          "metadata": {},
          "output_type": "display_data"
        },
        {
          "data": {
            "text/plain": [
              "(24000,)"
            ]
          },
          "metadata": {},
          "output_type": "display_data"
        },
        {
          "data": {
            "text/plain": [
              "(6000,)"
            ]
          },
          "metadata": {},
          "output_type": "display_data"
        }
      ],
      "source": [
        "# разделим данные на выборки\n",
        "X_train, X_test, y_train, y_test = train_test_split(\n",
        "    df['lemmatized_text'],\n",
        "    df['toxic'],\n",
        "    test_size=.2,\n",
        "    random_state=RS\n",
        ")\n",
        "display(\n",
        "    X_train.shape,\n",
        "    X_test.shape,\n",
        "    y_train.shape,\n",
        "    y_test.shape\n",
        ")"
      ]
    },
    {
      "cell_type": "markdown",
      "metadata": {
        "id": "BQKa_riIrhZa"
      },
      "source": [
        "Векторизируем данные:"
      ]
    },
    {
      "cell_type": "code",
      "execution_count": null,
      "metadata": {
        "id": "4tpEqS2crhZa",
        "outputId": "9a637e27-d834-450b-f971-dd59aa28b850"
      },
      "outputs": [
        {
          "name": "stderr",
          "output_type": "stream",
          "text": [
            "[nltk_data] Downloading package stopwords to /home/jovyan/nltk_data...\n",
            "[nltk_data]   Package stopwords is already up-to-date!\n"
          ]
        }
      ],
      "source": [
        "# загрузим словарь стоп-слов\n",
        "nltk.download('stopwords')\n",
        "\n",
        "# загрузим английские стоп-слова\n",
        "stopwords = set(nltk_stopwords.words('english'))\n",
        "\n",
        "# создадим векторизатор, добавим стоп-слова\n",
        "tf_idf_vectorizer = TfidfVectorizer(\n",
        "    stop_words=stopwords\n",
        ")"
      ]
    },
    {
      "cell_type": "code",
      "execution_count": null,
      "metadata": {
        "id": "hbtXOYz9rhZa",
        "outputId": "8689a9cb-2ccf-421e-a7ce-dc620ef95218"
      },
      "outputs": [
        {
          "data": {
            "text/plain": [
              "(24000, 53369)"
            ]
          },
          "metadata": {},
          "output_type": "display_data"
        },
        {
          "data": {
            "text/plain": [
              "(6000, 53369)"
            ]
          },
          "metadata": {},
          "output_type": "display_data"
        },
        {
          "name": "stdout",
          "output_type": "stream",
          "text": [
            "CPU times: user 1.61 s, sys: 16 ms, total: 1.63 s\n",
            "Wall time: 1.63 s\n"
          ]
        }
      ],
      "source": [
        "%%time\n",
        "\n",
        "# векторизируем выборки\n",
        "features_train_tfidf = tf_idf_vectorizer.fit_transform(X_train)\n",
        "features_test_tfidf = tf_idf_vectorizer.transform(X_test)\n",
        "\n",
        "# проверим результат\n",
        "display(\n",
        "    features_train_tfidf.shape,\n",
        "    features_test_tfidf.shape\n",
        ")"
      ]
    },
    {
      "cell_type": "markdown",
      "metadata": {
        "id": "JHwCYCg1rhZa"
      },
      "source": [
        "**Вывод**\n",
        "\n",
        "Мы успешно обработали данные. Выяснили, что в данных:\n",
        "\n",
        "- нет пропусков\n",
        "- корректные типы\n",
        "- нет дубликатов\n",
        "- дисбаланс классов: токсичных комментариев около 10%\n",
        "\n",
        "Далее мы:\n",
        "- удалили неинформативный столбец Unnamed: 0\n",
        "- привели слова к нижнему регистру и очистили от лишних символов\n",
        "- лемматизировали данные\n",
        "- разделили данные на выборки\n",
        "- очистили тексты от стоп-слов и векторизировали данные"
      ]
    },
    {
      "cell_type": "markdown",
      "metadata": {
        "id": "RkS5_6KNrhZb"
      },
      "source": [
        "### Этап 4. Обучение моделей"
      ]
    },
    {
      "cell_type": "markdown",
      "metadata": {
        "id": "d5QBfMTjrhZb"
      },
      "source": [
        "Обучим модели LogisticRegression и LinearSVC через GridSearchCV. Для борьбы с несбалансированными классами применим гиперпараметр class_weight='balanced':"
      ]
    },
    {
      "cell_type": "code",
      "execution_count": null,
      "metadata": {
        "id": "l44ZROLFrhZb"
      },
      "outputs": [],
      "source": [
        "# зададим шаги пайплайна\n",
        "steps = [('vectorizer', tf_idf_vectorizer) , ('classifier', LogisticRegression())]\n",
        "\n",
        "# зададим модели с гиперпараметрами\n",
        "params = [\n",
        "    {'classifier': [LogisticRegression(\n",
        "        max_iter=1000,\n",
        "        class_weight='balanced',\n",
        "        n_jobs=-1\n",
        "    )],\n",
        "     'classifier__C': [1, 10, 12, 15]\n",
        "    },\n",
        "    {'classifier': [LinearSVC(\n",
        "         random_state=RS,\n",
        "         class_weight='balanced',\n",
        "         max_iter=3000\n",
        "     )],\n",
        "      'classifier__C': [1, 10, 12, 15]\n",
        "     }\n",
        "]\n",
        "\n",
        "# напишем функцию для поиска оптимальных гиперпараметров\n",
        "def pipeline_gridsearchcv(X, y, steps, params):\n",
        "\n",
        "    # сформируем итоговый pipeline\n",
        "    pipe = Pipeline(steps)\n",
        "\n",
        "    # собираем все вместе, используем F1 в качестве метрики\n",
        "    grid = GridSearchCV(\n",
        "        pipe,\n",
        "        param_grid=params,\n",
        "        cv=5,\n",
        "        n_jobs=-1,\n",
        "        scoring='f1',\n",
        "        verbose=100,\n",
        "        error_score='raise'\n",
        "    )\n",
        "    grid.fit(X, y)\n",
        "\n",
        "    # посмотрим лучшие гиперпараметры\n",
        "    print('')\n",
        "    print('Параметры лучшей модели:', grid.best_params_)\n",
        "    print('Значение лучшей метрики качества: {:.2f}'.format(grid.best_score_))\n",
        "\n",
        "    return grid"
      ]
    },
    {
      "cell_type": "code",
      "execution_count": null,
      "metadata": {
        "id": "E73o_kkyrhZc",
        "outputId": "af39d23a-4f4d-4a5a-b126-d83818a827b6"
      },
      "outputs": [
        {
          "name": "stdout",
          "output_type": "stream",
          "text": [
            "Fitting 5 folds for each of 8 candidates, totalling 40 fits\n",
            "[CV 1/5; 1/8] START classifier=LogisticRegression(class_weight='balanced', max_iter=1000, n_jobs=-1), classifier__C=1\n",
            "[CV 1/5; 1/8] END classifier=LogisticRegression(class_weight='balanced', max_iter=1000, n_jobs=-1), classifier__C=1; total time=  15.3s\n",
            "[CV 2/5; 1/8] START classifier=LogisticRegression(class_weight='balanced', max_iter=1000, n_jobs=-1), classifier__C=1\n",
            "[CV 2/5; 1/8] END classifier=LogisticRegression(class_weight='balanced', max_iter=1000, n_jobs=-1), classifier__C=1; total time=  27.0s\n",
            "[CV 3/5; 1/8] START classifier=LogisticRegression(class_weight='balanced', max_iter=1000, n_jobs=-1), classifier__C=1\n",
            "[CV 3/5; 1/8] END classifier=LogisticRegression(class_weight='balanced', max_iter=1000, n_jobs=-1), classifier__C=1; total time=  17.5s\n",
            "[CV 4/5; 1/8] START classifier=LogisticRegression(class_weight='balanced', max_iter=1000, n_jobs=-1), classifier__C=1\n",
            "[CV 4/5; 1/8] END classifier=LogisticRegression(class_weight='balanced', max_iter=1000, n_jobs=-1), classifier__C=1; total time=  15.4s\n",
            "[CV 5/5; 1/8] START classifier=LogisticRegression(class_weight='balanced', max_iter=1000, n_jobs=-1), classifier__C=1\n",
            "[CV 5/5; 1/8] END classifier=LogisticRegression(class_weight='balanced', max_iter=1000, n_jobs=-1), classifier__C=1; total time=  20.4s\n",
            "[CV 1/5; 2/8] START classifier=LogisticRegression(class_weight='balanced', max_iter=1000, n_jobs=-1), classifier__C=10\n",
            "[CV 1/5; 2/8] END classifier=LogisticRegression(class_weight='balanced', max_iter=1000, n_jobs=-1), classifier__C=10; total time=  30.0s\n",
            "[CV 2/5; 2/8] START classifier=LogisticRegression(class_weight='balanced', max_iter=1000, n_jobs=-1), classifier__C=10\n",
            "[CV 2/5; 2/8] END classifier=LogisticRegression(class_weight='balanced', max_iter=1000, n_jobs=-1), classifier__C=10; total time=  33.4s\n",
            "[CV 3/5; 2/8] START classifier=LogisticRegression(class_weight='balanced', max_iter=1000, n_jobs=-1), classifier__C=10\n",
            "[CV 3/5; 2/8] END classifier=LogisticRegression(class_weight='balanced', max_iter=1000, n_jobs=-1), classifier__C=10; total time=  37.8s\n",
            "[CV 4/5; 2/8] START classifier=LogisticRegression(class_weight='balanced', max_iter=1000, n_jobs=-1), classifier__C=10\n",
            "[CV 4/5; 2/8] END classifier=LogisticRegression(class_weight='balanced', max_iter=1000, n_jobs=-1), classifier__C=10; total time=  30.8s\n",
            "[CV 5/5; 2/8] START classifier=LogisticRegression(class_weight='balanced', max_iter=1000, n_jobs=-1), classifier__C=10\n",
            "[CV 5/5; 2/8] END classifier=LogisticRegression(class_weight='balanced', max_iter=1000, n_jobs=-1), classifier__C=10; total time=  37.5s\n",
            "[CV 1/5; 3/8] START classifier=LogisticRegression(class_weight='balanced', max_iter=1000, n_jobs=-1), classifier__C=12\n",
            "[CV 1/5; 3/8] END classifier=LogisticRegression(class_weight='balanced', max_iter=1000, n_jobs=-1), classifier__C=12; total time=  37.0s\n",
            "[CV 2/5; 3/8] START classifier=LogisticRegression(class_weight='balanced', max_iter=1000, n_jobs=-1), classifier__C=12\n",
            "[CV 2/5; 3/8] END classifier=LogisticRegression(class_weight='balanced', max_iter=1000, n_jobs=-1), classifier__C=12; total time=  43.9s\n",
            "[CV 3/5; 3/8] START classifier=LogisticRegression(class_weight='balanced', max_iter=1000, n_jobs=-1), classifier__C=12\n",
            "[CV 3/5; 3/8] END classifier=LogisticRegression(class_weight='balanced', max_iter=1000, n_jobs=-1), classifier__C=12; total time=  22.0s\n",
            "[CV 4/5; 3/8] START classifier=LogisticRegression(class_weight='balanced', max_iter=1000, n_jobs=-1), classifier__C=12\n",
            "[CV 4/5; 3/8] END classifier=LogisticRegression(class_weight='balanced', max_iter=1000, n_jobs=-1), classifier__C=12; total time=  33.3s\n",
            "[CV 5/5; 3/8] START classifier=LogisticRegression(class_weight='balanced', max_iter=1000, n_jobs=-1), classifier__C=12\n",
            "[CV 5/5; 3/8] END classifier=LogisticRegression(class_weight='balanced', max_iter=1000, n_jobs=-1), classifier__C=12; total time=  33.4s\n",
            "[CV 1/5; 4/8] START classifier=LogisticRegression(class_weight='balanced', max_iter=1000, n_jobs=-1), classifier__C=15\n",
            "[CV 1/5; 4/8] END classifier=LogisticRegression(class_weight='balanced', max_iter=1000, n_jobs=-1), classifier__C=15; total time=  31.3s\n",
            "[CV 2/5; 4/8] START classifier=LogisticRegression(class_weight='balanced', max_iter=1000, n_jobs=-1), classifier__C=15\n",
            "[CV 2/5; 4/8] END classifier=LogisticRegression(class_weight='balanced', max_iter=1000, n_jobs=-1), classifier__C=15; total time=  31.3s\n",
            "[CV 3/5; 4/8] START classifier=LogisticRegression(class_weight='balanced', max_iter=1000, n_jobs=-1), classifier__C=15\n",
            "[CV 3/5; 4/8] END classifier=LogisticRegression(class_weight='balanced', max_iter=1000, n_jobs=-1), classifier__C=15; total time=  25.0s\n",
            "[CV 4/5; 4/8] START classifier=LogisticRegression(class_weight='balanced', max_iter=1000, n_jobs=-1), classifier__C=15\n",
            "[CV 4/5; 4/8] END classifier=LogisticRegression(class_weight='balanced', max_iter=1000, n_jobs=-1), classifier__C=15; total time=  34.6s\n",
            "[CV 5/5; 4/8] START classifier=LogisticRegression(class_weight='balanced', max_iter=1000, n_jobs=-1), classifier__C=15\n",
            "[CV 5/5; 4/8] END classifier=LogisticRegression(class_weight='balanced', max_iter=1000, n_jobs=-1), classifier__C=15; total time=  19.7s\n",
            "[CV 1/5; 5/8] START classifier=LinearSVC(class_weight='balanced', max_iter=3000, random_state=12345), classifier__C=1\n",
            "[CV 1/5; 5/8] END classifier=LinearSVC(class_weight='balanced', max_iter=3000, random_state=12345), classifier__C=1; total time=   1.8s\n",
            "[CV 2/5; 5/8] START classifier=LinearSVC(class_weight='balanced', max_iter=3000, random_state=12345), classifier__C=1\n",
            "[CV 2/5; 5/8] END classifier=LinearSVC(class_weight='balanced', max_iter=3000, random_state=12345), classifier__C=1; total time=   1.7s\n",
            "[CV 3/5; 5/8] START classifier=LinearSVC(class_weight='balanced', max_iter=3000, random_state=12345), classifier__C=1\n",
            "[CV 3/5; 5/8] END classifier=LinearSVC(class_weight='balanced', max_iter=3000, random_state=12345), classifier__C=1; total time=   1.7s\n",
            "[CV 4/5; 5/8] START classifier=LinearSVC(class_weight='balanced', max_iter=3000, random_state=12345), classifier__C=1\n",
            "[CV 4/5; 5/8] END classifier=LinearSVC(class_weight='balanced', max_iter=3000, random_state=12345), classifier__C=1; total time=   1.7s\n",
            "[CV 5/5; 5/8] START classifier=LinearSVC(class_weight='balanced', max_iter=3000, random_state=12345), classifier__C=1\n",
            "[CV 5/5; 5/8] END classifier=LinearSVC(class_weight='balanced', max_iter=3000, random_state=12345), classifier__C=1; total time=   1.7s\n",
            "[CV 1/5; 6/8] START classifier=LinearSVC(class_weight='balanced', max_iter=3000, random_state=12345), classifier__C=10\n",
            "[CV 1/5; 6/8] END classifier=LinearSVC(class_weight='balanced', max_iter=3000, random_state=12345), classifier__C=10; total time=   2.5s\n",
            "[CV 2/5; 6/8] START classifier=LinearSVC(class_weight='balanced', max_iter=3000, random_state=12345), classifier__C=10\n",
            "[CV 2/5; 6/8] END classifier=LinearSVC(class_weight='balanced', max_iter=3000, random_state=12345), classifier__C=10; total time=   2.5s\n",
            "[CV 3/5; 6/8] START classifier=LinearSVC(class_weight='balanced', max_iter=3000, random_state=12345), classifier__C=10\n",
            "[CV 3/5; 6/8] END classifier=LinearSVC(class_weight='balanced', max_iter=3000, random_state=12345), classifier__C=10; total time=   2.5s\n",
            "[CV 4/5; 6/8] START classifier=LinearSVC(class_weight='balanced', max_iter=3000, random_state=12345), classifier__C=10\n",
            "[CV 4/5; 6/8] END classifier=LinearSVC(class_weight='balanced', max_iter=3000, random_state=12345), classifier__C=10; total time=   2.2s\n",
            "[CV 5/5; 6/8] START classifier=LinearSVC(class_weight='balanced', max_iter=3000, random_state=12345), classifier__C=10\n",
            "[CV 5/5; 6/8] END classifier=LinearSVC(class_weight='balanced', max_iter=3000, random_state=12345), classifier__C=10; total time=   2.4s\n",
            "[CV 1/5; 7/8] START classifier=LinearSVC(class_weight='balanced', max_iter=3000, random_state=12345), classifier__C=12\n",
            "[CV 1/5; 7/8] END classifier=LinearSVC(class_weight='balanced', max_iter=3000, random_state=12345), classifier__C=12; total time=   2.3s\n",
            "[CV 2/5; 7/8] START classifier=LinearSVC(class_weight='balanced', max_iter=3000, random_state=12345), classifier__C=12\n",
            "[CV 2/5; 7/8] END classifier=LinearSVC(class_weight='balanced', max_iter=3000, random_state=12345), classifier__C=12; total time=   2.3s\n",
            "[CV 3/5; 7/8] START classifier=LinearSVC(class_weight='balanced', max_iter=3000, random_state=12345), classifier__C=12\n",
            "[CV 3/5; 7/8] END classifier=LinearSVC(class_weight='balanced', max_iter=3000, random_state=12345), classifier__C=12; total time=   2.5s\n",
            "[CV 4/5; 7/8] START classifier=LinearSVC(class_weight='balanced', max_iter=3000, random_state=12345), classifier__C=12\n",
            "[CV 4/5; 7/8] END classifier=LinearSVC(class_weight='balanced', max_iter=3000, random_state=12345), classifier__C=12; total time=   2.4s\n",
            "[CV 5/5; 7/8] START classifier=LinearSVC(class_weight='balanced', max_iter=3000, random_state=12345), classifier__C=12\n",
            "[CV 5/5; 7/8] END classifier=LinearSVC(class_weight='balanced', max_iter=3000, random_state=12345), classifier__C=12; total time=   2.4s\n",
            "[CV 1/5; 8/8] START classifier=LinearSVC(class_weight='balanced', max_iter=3000, random_state=12345), classifier__C=15\n",
            "[CV 1/5; 8/8] END classifier=LinearSVC(class_weight='balanced', max_iter=3000, random_state=12345), classifier__C=15; total time=   2.6s\n",
            "[CV 2/5; 8/8] START classifier=LinearSVC(class_weight='balanced', max_iter=3000, random_state=12345), classifier__C=15\n",
            "[CV 2/5; 8/8] END classifier=LinearSVC(class_weight='balanced', max_iter=3000, random_state=12345), classifier__C=15; total time=   2.6s\n",
            "[CV 3/5; 8/8] START classifier=LinearSVC(class_weight='balanced', max_iter=3000, random_state=12345), classifier__C=15\n",
            "[CV 3/5; 8/8] END classifier=LinearSVC(class_weight='balanced', max_iter=3000, random_state=12345), classifier__C=15; total time=   2.8s\n",
            "[CV 4/5; 8/8] START classifier=LinearSVC(class_weight='balanced', max_iter=3000, random_state=12345), classifier__C=15\n",
            "[CV 4/5; 8/8] END classifier=LinearSVC(class_weight='balanced', max_iter=3000, random_state=12345), classifier__C=15; total time=   2.3s\n",
            "[CV 5/5; 8/8] START classifier=LinearSVC(class_weight='balanced', max_iter=3000, random_state=12345), classifier__C=15\n",
            "[CV 5/5; 8/8] END classifier=LinearSVC(class_weight='balanced', max_iter=3000, random_state=12345), classifier__C=15; total time=   2.8s\n",
            "\n",
            "Параметры лучшей модели: {'classifier': LogisticRegression(C=15, class_weight='balanced', max_iter=1000, n_jobs=-1), 'classifier__C': 15}\n",
            "Значение лучшей метрики качества: 0.74\n",
            "CPU times: user 4min 56s, sys: 6min 12s, total: 11min 8s\n",
            "Wall time: 11min 10s\n"
          ]
        }
      ],
      "source": [
        "%%time\n",
        "\n",
        "best_model = pipeline_gridsearchcv(X_train, y_train, steps, params)"
      ]
    },
    {
      "cell_type": "code",
      "execution_count": null,
      "metadata": {
        "scrolled": true,
        "id": "_tFCqBdLrhZd",
        "outputId": "48ce7777-83cd-47c5-cfda-d0aaaab353aa"
      },
      "outputs": [
        {
          "data": {
            "text/plain": [
              "0.7769423558897243"
            ]
          },
          "execution_count": 28,
          "metadata": {},
          "output_type": "execute_result"
        }
      ],
      "source": [
        "# проверим модель на тестовой выборке\n",
        "prediction = best_model.predict(X_test)\n",
        "f1_score(y_test, prediction)"
      ]
    },
    {
      "cell_type": "markdown",
      "metadata": {
        "id": "QAP_5z7PrhZd"
      },
      "source": [
        "Модель показала хороший результат на тестовой выборке. Нам удалось превысить целевой порог 0.75 F1-меры."
      ]
    },
    {
      "cell_type": "code",
      "execution_count": null,
      "metadata": {
        "id": "atz-f0zNrhZd",
        "outputId": "9e268013-413a-4afc-eba1-726e657e5499"
      },
      "outputs": [
        {
          "data": {
            "text/plain": [
              "0.18401937046004843"
            ]
          },
          "execution_count": 16,
          "metadata": {},
          "output_type": "execute_result"
        }
      ],
      "source": [
        "# обучим DummyClassifier для проверки адекватности нашей модели\n",
        "dummy = DummyClassifier(\n",
        "    random_state=RS,\n",
        "    strategy='constant',\n",
        "    constant=1\n",
        ")\n",
        "dummy.fit(features_train_tfidf, y_train)\n",
        "dummy_pred = dummy.predict(features_test_tfidf)\n",
        "\n",
        "# найдем метрику DummyClassifier\n",
        "f1_score(y_test, dummy_pred)"
      ]
    },
    {
      "cell_type": "markdown",
      "metadata": {
        "id": "9i3tiTk5rhZp"
      },
      "source": [
        "Наша модель показала свою адекватность по сравнению с dummy-моделью: метрика F1 значительно превысила показатель DummyClassifier.\n",
        "\n",
        "**Вывод**\n",
        "\n",
        "1. Мы обучили две модели: LogisticRegression и LinearSVC. Для борьбы с дисбалансом классов в данных мы применили гиперпараметр class_weight='balanced'\n",
        "2. Через GridSearchCV мы выявили лучшую модель и гиперпараметры, используя метрику F1: LogisticRegression с регуляризацией C=10\n",
        "3. Наша модель показала хороший результат на тестовой выборке: F1-мера около 0.78. Это превысило необходимый порог в 0.75\n",
        "4. Модель показала свою адекватность по сравнению с dummy-моделью: метрика F1 значительно превысила показатель DummyClassifier."
      ]
    },
    {
      "cell_type": "markdown",
      "metadata": {
        "id": "RbSbPabmrhZq"
      },
      "source": [
        "###  Этап 5. Выводы"
      ]
    },
    {
      "cell_type": "markdown",
      "metadata": {
        "id": "CqxLni6SrhZq"
      },
      "source": [
        "Мы успешно обработали данные. Выяснили, что в данных:\n",
        "\n",
        "- нет пропусков\n",
        "- корректные типы\n",
        "- нет дубликатов\n",
        "- дисбаланс классов: токсичных комментариев около 10%\n",
        "\n",
        "Далее мы:\n",
        "\n",
        "- удалили неинформативный столбец Unnamed: 0\n",
        "- привели слова к нижнему регистру и очистили от лишних символов\n",
        "- лемматизировали данные\n",
        "- разделили данные на выборки\n",
        "- очистили тексты от стоп-слов и векторизировали данные\n",
        "\n",
        "Затем мы обучили модели:\n",
        "\n",
        "1. Обучили LogisticRegression и LinearSVC. Для борьбы с дисбалансом классов в данных применили гиперпараметр class_weight='balanced'\n",
        "2. Через GridSearchCV мы выявили лучшую модель и гиперпараметры, используя метрику F1: LogisticRegression с регуляризацией C=10\n",
        "3. Наша модель показала хороший результат на тестовой выборке: F1-мера около 0.78. Это превысило необходимый порог в 0.75\n",
        "4. Модель показала свою адекватность по сравнению с dummy-моделью: метрика F1 значительно превысила показатель DummyClassifier.\n",
        "\n",
        "**В итоге нам удалось достичь поставленной цели и создать качественную модель, которая поможет определять негативные комментарии.**"
      ]
    }
  ],
  "metadata": {
    "ExecuteTimeLog": [
      {
        "duration": 43,
        "start_time": "2023-06-27T07:24:47.386Z"
      },
      {
        "duration": 2935,
        "start_time": "2023-06-27T07:25:04.537Z"
      },
      {
        "duration": 2188,
        "start_time": "2023-06-27T07:25:10.541Z"
      },
      {
        "duration": 15,
        "start_time": "2023-06-27T07:25:20.570Z"
      },
      {
        "duration": 15292,
        "start_time": "2023-06-28T13:37:59.030Z"
      },
      {
        "duration": 0,
        "start_time": "2023-06-28T13:38:14.330Z"
      },
      {
        "duration": 0,
        "start_time": "2023-06-28T13:38:14.335Z"
      },
      {
        "duration": 16864,
        "start_time": "2023-06-28T13:43:25.735Z"
      },
      {
        "duration": 2431,
        "start_time": "2023-06-28T13:43:42.601Z"
      },
      {
        "duration": 38,
        "start_time": "2023-06-28T13:43:55.730Z"
      },
      {
        "duration": 26,
        "start_time": "2023-06-28T13:48:20.366Z"
      },
      {
        "duration": 17,
        "start_time": "2023-06-28T13:48:34.994Z"
      },
      {
        "duration": 2193,
        "start_time": "2023-06-28T13:48:54.650Z"
      },
      {
        "duration": 8818,
        "start_time": "2023-06-28T13:49:27.545Z"
      },
      {
        "duration": 33830,
        "start_time": "2023-06-28T13:49:40.252Z"
      },
      {
        "duration": 26603,
        "start_time": "2023-06-28T13:51:06.222Z"
      },
      {
        "duration": 10693,
        "start_time": "2023-06-28T13:52:44.070Z"
      },
      {
        "duration": 5,
        "start_time": "2023-06-29T06:28:26.278Z"
      },
      {
        "duration": 4,
        "start_time": "2023-06-29T07:07:06.141Z"
      },
      {
        "duration": 1766,
        "start_time": "2023-06-29T07:07:06.147Z"
      },
      {
        "duration": 9,
        "start_time": "2023-06-29T07:07:07.914Z"
      },
      {
        "duration": 21,
        "start_time": "2023-06-29T07:07:07.926Z"
      },
      {
        "duration": 33,
        "start_time": "2023-06-29T07:07:07.949Z"
      },
      {
        "duration": 3796,
        "start_time": "2023-06-29T07:07:07.984Z"
      },
      {
        "duration": 10,
        "start_time": "2023-06-29T07:07:21.887Z"
      },
      {
        "duration": 10,
        "start_time": "2023-06-29T07:08:03.644Z"
      },
      {
        "duration": 4,
        "start_time": "2023-06-29T07:08:31.991Z"
      },
      {
        "duration": 2038,
        "start_time": "2023-06-29T07:08:31.997Z"
      },
      {
        "duration": 8,
        "start_time": "2023-06-29T07:08:34.037Z"
      },
      {
        "duration": 20,
        "start_time": "2023-06-29T07:08:34.046Z"
      },
      {
        "duration": 10,
        "start_time": "2023-06-29T07:08:34.068Z"
      },
      {
        "duration": 5089,
        "start_time": "2023-06-29T07:08:34.079Z"
      },
      {
        "duration": 5,
        "start_time": "2023-06-29T07:14:57.094Z"
      },
      {
        "duration": 2030,
        "start_time": "2023-06-29T07:14:57.101Z"
      },
      {
        "duration": 7,
        "start_time": "2023-06-29T07:14:59.133Z"
      },
      {
        "duration": 56,
        "start_time": "2023-06-29T07:14:59.142Z"
      },
      {
        "duration": 3883,
        "start_time": "2023-06-29T07:14:59.201Z"
      },
      {
        "duration": 852,
        "start_time": "2023-06-29T07:15:03.087Z"
      },
      {
        "duration": 4,
        "start_time": "2023-06-29T07:15:03.941Z"
      },
      {
        "duration": 99,
        "start_time": "2023-06-29T07:15:03.946Z"
      },
      {
        "duration": 9,
        "start_time": "2023-06-29T07:15:04.047Z"
      },
      {
        "duration": 10453,
        "start_time": "2023-06-29T07:15:04.058Z"
      },
      {
        "duration": 22,
        "start_time": "2023-06-29T13:47:20.798Z"
      },
      {
        "duration": 0,
        "start_time": "2023-06-29T13:47:20.823Z"
      },
      {
        "duration": 61,
        "start_time": "2023-06-29T13:47:23.977Z"
      },
      {
        "duration": 4,
        "start_time": "2023-06-29T13:47:43.440Z"
      },
      {
        "duration": 0,
        "start_time": "2023-06-29T13:47:43.446Z"
      },
      {
        "duration": 0,
        "start_time": "2023-06-29T13:47:43.447Z"
      },
      {
        "duration": 1815,
        "start_time": "2023-06-29T13:48:12.340Z"
      },
      {
        "duration": 772,
        "start_time": "2023-06-29T13:48:14.158Z"
      },
      {
        "duration": 1,
        "start_time": "2023-06-29T13:48:14.932Z"
      },
      {
        "duration": 507,
        "start_time": "2023-06-29T13:48:59.275Z"
      },
      {
        "duration": 3107,
        "start_time": "2023-06-29T13:49:21.949Z"
      },
      {
        "duration": 341,
        "start_time": "2023-06-29T13:49:30.884Z"
      },
      {
        "duration": 140,
        "start_time": "2023-06-29T13:55:23.242Z"
      },
      {
        "duration": 19,
        "start_time": "2023-06-29T13:56:46.515Z"
      },
      {
        "duration": 6,
        "start_time": "2023-06-29T13:57:14.074Z"
      },
      {
        "duration": 3781,
        "start_time": "2023-06-29T13:57:14.082Z"
      },
      {
        "duration": 341,
        "start_time": "2023-06-29T13:57:17.865Z"
      },
      {
        "duration": 129,
        "start_time": "2023-06-29T13:57:47.777Z"
      },
      {
        "duration": 8,
        "start_time": "2023-06-29T13:58:34.354Z"
      },
      {
        "duration": 5,
        "start_time": "2023-06-29T13:58:42.481Z"
      },
      {
        "duration": 6,
        "start_time": "2023-06-29T14:00:09.002Z"
      },
      {
        "duration": 3633,
        "start_time": "2023-06-29T14:16:31.519Z"
      },
      {
        "duration": 1361,
        "start_time": "2023-06-29T14:16:35.154Z"
      },
      {
        "duration": 315,
        "start_time": "2023-06-29T14:16:36.519Z"
      },
      {
        "duration": 255,
        "start_time": "2023-06-29T14:16:36.836Z"
      },
      {
        "duration": 0,
        "start_time": "2023-06-29T14:16:37.092Z"
      },
      {
        "duration": 0,
        "start_time": "2023-06-29T14:16:37.094Z"
      },
      {
        "duration": 23,
        "start_time": "2023-06-29T14:19:00.952Z"
      },
      {
        "duration": 4,
        "start_time": "2023-06-29T14:19:10.055Z"
      },
      {
        "duration": 992,
        "start_time": "2023-06-29T14:19:10.061Z"
      },
      {
        "duration": 320,
        "start_time": "2023-06-29T14:19:11.055Z"
      },
      {
        "duration": 42,
        "start_time": "2023-06-29T14:19:11.377Z"
      },
      {
        "duration": 6,
        "start_time": "2023-06-29T14:19:11.422Z"
      },
      {
        "duration": 782,
        "start_time": "2023-06-29T14:19:11.429Z"
      },
      {
        "duration": 477,
        "start_time": "2023-06-29T14:23:51.785Z"
      },
      {
        "duration": 535831,
        "start_time": "2023-06-29T14:23:54.062Z"
      },
      {
        "duration": 526,
        "start_time": "2023-06-29T14:41:14.891Z"
      },
      {
        "duration": 9,
        "start_time": "2023-06-29T14:41:23.945Z"
      },
      {
        "duration": 11,
        "start_time": "2023-06-29T14:41:57.303Z"
      },
      {
        "duration": 12,
        "start_time": "2023-06-29T14:42:18.444Z"
      },
      {
        "duration": 12,
        "start_time": "2023-06-29T14:42:34.204Z"
      },
      {
        "duration": 12,
        "start_time": "2023-06-29T14:42:42.144Z"
      },
      {
        "duration": 6,
        "start_time": "2023-06-29T14:43:51.086Z"
      },
      {
        "duration": 20,
        "start_time": "2023-06-29T14:46:00.915Z"
      },
      {
        "duration": 8,
        "start_time": "2023-06-29T14:46:08.447Z"
      },
      {
        "duration": 455,
        "start_time": "2023-06-29T14:47:20.577Z"
      },
      {
        "duration": 214,
        "start_time": "2023-06-29T14:55:35.440Z"
      },
      {
        "duration": 222,
        "start_time": "2023-06-29T15:07:12.407Z"
      },
      {
        "duration": 1439,
        "start_time": "2023-06-29T15:07:24.784Z"
      },
      {
        "duration": 1404,
        "start_time": "2023-06-29T15:07:36.403Z"
      },
      {
        "duration": 1430,
        "start_time": "2023-06-29T15:12:22.696Z"
      },
      {
        "duration": 6,
        "start_time": "2023-06-29T15:15:03.625Z"
      },
      {
        "duration": 4,
        "start_time": "2023-06-29T15:22:08.403Z"
      },
      {
        "duration": 804,
        "start_time": "2023-06-29T15:22:08.411Z"
      },
      {
        "duration": 306,
        "start_time": "2023-06-29T15:22:09.219Z"
      },
      {
        "duration": 31,
        "start_time": "2023-06-29T15:22:09.526Z"
      },
      {
        "duration": 5,
        "start_time": "2023-06-29T15:22:09.559Z"
      },
      {
        "duration": 487,
        "start_time": "2023-06-29T15:22:09.566Z"
      },
      {
        "duration": 519,
        "start_time": "2023-06-29T15:22:10.055Z"
      },
      {
        "duration": 1705,
        "start_time": "2023-06-29T15:22:10.576Z"
      },
      {
        "duration": 0,
        "start_time": "2023-06-29T15:22:12.283Z"
      },
      {
        "duration": 0,
        "start_time": "2023-06-29T15:22:12.284Z"
      },
      {
        "duration": 0,
        "start_time": "2023-06-29T15:22:12.286Z"
      },
      {
        "duration": 0,
        "start_time": "2023-06-29T15:22:12.288Z"
      },
      {
        "duration": 5,
        "start_time": "2023-06-29T15:23:04.207Z"
      },
      {
        "duration": 833,
        "start_time": "2023-06-29T15:23:04.214Z"
      },
      {
        "duration": 326,
        "start_time": "2023-06-29T15:23:05.049Z"
      },
      {
        "duration": 36,
        "start_time": "2023-06-29T15:23:05.377Z"
      },
      {
        "duration": 5,
        "start_time": "2023-06-29T15:23:05.416Z"
      },
      {
        "duration": 469,
        "start_time": "2023-06-29T15:23:05.423Z"
      },
      {
        "duration": 475,
        "start_time": "2023-06-29T15:23:05.895Z"
      },
      {
        "duration": 1324,
        "start_time": "2023-06-29T15:23:06.372Z"
      },
      {
        "duration": 0,
        "start_time": "2023-06-29T15:23:07.697Z"
      },
      {
        "duration": 0,
        "start_time": "2023-06-29T15:23:07.699Z"
      },
      {
        "duration": 0,
        "start_time": "2023-06-29T15:23:07.700Z"
      },
      {
        "duration": 0,
        "start_time": "2023-06-29T15:23:07.701Z"
      },
      {
        "duration": 465,
        "start_time": "2023-06-29T15:23:32.020Z"
      },
      {
        "duration": 478,
        "start_time": "2023-06-29T15:23:35.496Z"
      },
      {
        "duration": 440,
        "start_time": "2023-06-29T15:24:11.387Z"
      },
      {
        "duration": 468,
        "start_time": "2023-06-29T15:24:12.416Z"
      },
      {
        "duration": 638,
        "start_time": "2023-06-29T15:24:17.830Z"
      },
      {
        "duration": 738,
        "start_time": "2023-06-29T15:24:46.403Z"
      },
      {
        "duration": 545651,
        "start_time": "2023-06-29T15:24:47.155Z"
      },
      {
        "duration": 11,
        "start_time": "2023-06-29T15:33:52.808Z"
      },
      {
        "duration": 33,
        "start_time": "2023-06-29T15:33:52.821Z"
      },
      {
        "duration": 11,
        "start_time": "2023-06-29T15:38:17.429Z"
      },
      {
        "duration": 1704,
        "start_time": "2023-06-29T15:38:19.736Z"
      },
      {
        "duration": 3,
        "start_time": "2023-06-29T15:38:34.288Z"
      },
      {
        "duration": 8470,
        "start_time": "2023-06-29T15:40:07.543Z"
      },
      {
        "duration": 30,
        "start_time": "2023-06-29T15:52:30.870Z"
      },
      {
        "duration": 29,
        "start_time": "2023-06-29T15:52:34.108Z"
      },
      {
        "duration": 26,
        "start_time": "2023-06-29T15:52:37.723Z"
      },
      {
        "duration": 4,
        "start_time": "2023-06-29T15:52:48.452Z"
      },
      {
        "duration": 853,
        "start_time": "2023-06-29T15:52:48.459Z"
      },
      {
        "duration": 313,
        "start_time": "2023-06-29T15:52:49.314Z"
      },
      {
        "duration": 39,
        "start_time": "2023-06-29T15:52:49.629Z"
      },
      {
        "duration": 0,
        "start_time": "2023-06-29T15:52:49.670Z"
      },
      {
        "duration": 0,
        "start_time": "2023-06-29T15:52:49.671Z"
      },
      {
        "duration": 0,
        "start_time": "2023-06-29T15:52:49.672Z"
      },
      {
        "duration": 0,
        "start_time": "2023-06-29T15:52:49.673Z"
      },
      {
        "duration": 0,
        "start_time": "2023-06-29T15:52:49.675Z"
      },
      {
        "duration": 0,
        "start_time": "2023-06-29T15:52:49.676Z"
      },
      {
        "duration": 0,
        "start_time": "2023-06-29T15:52:49.702Z"
      },
      {
        "duration": 0,
        "start_time": "2023-06-29T15:52:49.703Z"
      },
      {
        "duration": 0,
        "start_time": "2023-06-29T15:52:49.705Z"
      },
      {
        "duration": 5,
        "start_time": "2023-06-29T15:53:11.447Z"
      },
      {
        "duration": 843,
        "start_time": "2023-06-29T15:53:11.454Z"
      },
      {
        "duration": 323,
        "start_time": "2023-06-29T15:53:12.299Z"
      },
      {
        "duration": 40,
        "start_time": "2023-06-29T15:53:12.624Z"
      },
      {
        "duration": 27,
        "start_time": "2023-06-29T15:53:12.667Z"
      },
      {
        "duration": 548,
        "start_time": "2023-06-29T15:53:12.703Z"
      },
      {
        "duration": 2834087,
        "start_time": "2023-06-29T15:53:13.253Z"
      },
      {
        "duration": 12,
        "start_time": "2023-06-29T16:40:27.343Z"
      },
      {
        "duration": 125,
        "start_time": "2023-06-29T16:40:27.357Z"
      },
      {
        "duration": 215,
        "start_time": "2023-06-29T16:40:27.487Z"
      },
      {
        "duration": 9321,
        "start_time": "2023-06-29T16:40:27.704Z"
      },
      {
        "duration": 3,
        "start_time": "2023-06-29T16:40:37.028Z"
      },
      {
        "duration": 79596,
        "start_time": "2023-06-29T16:40:37.033Z"
      },
      {
        "duration": 339,
        "start_time": "2023-06-29T16:41:56.631Z"
      },
      {
        "duration": 9,
        "start_time": "2023-06-29T16:41:56.972Z"
      },
      {
        "duration": 5051,
        "start_time": "2023-06-30T02:57:05.058Z"
      },
      {
        "duration": 0,
        "start_time": "2023-06-30T02:57:10.112Z"
      },
      {
        "duration": 0,
        "start_time": "2023-06-30T02:57:10.113Z"
      },
      {
        "duration": 0,
        "start_time": "2023-06-30T02:57:10.114Z"
      },
      {
        "duration": 0,
        "start_time": "2023-06-30T02:57:10.115Z"
      },
      {
        "duration": 0,
        "start_time": "2023-06-30T02:57:10.116Z"
      },
      {
        "duration": 0,
        "start_time": "2023-06-30T02:57:10.117Z"
      },
      {
        "duration": 0,
        "start_time": "2023-06-30T02:57:10.131Z"
      },
      {
        "duration": 0,
        "start_time": "2023-06-30T02:57:10.132Z"
      },
      {
        "duration": 0,
        "start_time": "2023-06-30T02:57:10.133Z"
      },
      {
        "duration": 0,
        "start_time": "2023-06-30T02:57:10.134Z"
      },
      {
        "duration": 0,
        "start_time": "2023-06-30T02:57:10.135Z"
      },
      {
        "duration": 0,
        "start_time": "2023-06-30T02:57:10.136Z"
      },
      {
        "duration": 6,
        "start_time": "2023-06-30T03:18:39.932Z"
      },
      {
        "duration": 2456,
        "start_time": "2023-06-30T03:18:39.940Z"
      },
      {
        "duration": 263,
        "start_time": "2023-06-30T03:18:42.398Z"
      },
      {
        "duration": 20,
        "start_time": "2023-06-30T03:18:42.663Z"
      },
      {
        "duration": 5,
        "start_time": "2023-06-30T03:18:42.685Z"
      },
      {
        "duration": 611,
        "start_time": "2023-06-30T03:18:42.691Z"
      },
      {
        "duration": 415107,
        "start_time": "2023-06-30T03:18:43.303Z"
      },
      {
        "duration": 6,
        "start_time": "2023-06-30T03:25:38.413Z"
      },
      {
        "duration": 12,
        "start_time": "2023-06-30T03:25:38.431Z"
      },
      {
        "duration": 156,
        "start_time": "2023-06-30T03:25:38.444Z"
      },
      {
        "duration": 8210,
        "start_time": "2023-06-30T03:25:38.602Z"
      },
      {
        "duration": 3,
        "start_time": "2023-06-30T03:25:46.813Z"
      },
      {
        "duration": 53379,
        "start_time": "2023-06-30T03:25:46.818Z"
      },
      {
        "duration": 5,
        "start_time": "2023-06-30T03:26:40.200Z"
      },
      {
        "duration": 3670,
        "start_time": "2023-06-30T03:43:51.459Z"
      },
      {
        "duration": 941,
        "start_time": "2023-06-30T03:43:55.130Z"
      },
      {
        "duration": 260,
        "start_time": "2023-06-30T03:43:56.072Z"
      },
      {
        "duration": 19,
        "start_time": "2023-06-30T03:43:56.333Z"
      },
      {
        "duration": 4,
        "start_time": "2023-06-30T03:43:56.353Z"
      },
      {
        "duration": 446,
        "start_time": "2023-06-30T03:43:56.359Z"
      },
      {
        "duration": 406555,
        "start_time": "2023-06-30T03:43:56.806Z"
      },
      {
        "duration": 15,
        "start_time": "2023-06-30T03:50:43.363Z"
      },
      {
        "duration": 229,
        "start_time": "2023-06-30T03:50:43.380Z"
      },
      {
        "duration": 8080,
        "start_time": "2023-06-30T03:50:43.612Z"
      },
      {
        "duration": 2,
        "start_time": "2023-06-30T03:50:51.694Z"
      },
      {
        "duration": 51593,
        "start_time": "2023-06-30T03:50:51.697Z"
      },
      {
        "duration": 5,
        "start_time": "2023-06-30T03:51:43.291Z"
      },
      {
        "duration": 494289,
        "start_time": "2023-06-30T03:51:43.298Z"
      },
      {
        "duration": 12,
        "start_time": "2023-06-30T04:08:00.784Z"
      },
      {
        "duration": 146,
        "start_time": "2023-06-30T04:08:00.798Z"
      },
      {
        "duration": 1287,
        "start_time": "2023-06-30T04:08:00.946Z"
      },
      {
        "duration": 3,
        "start_time": "2023-06-30T04:08:02.235Z"
      },
      {
        "duration": 6794,
        "start_time": "2023-06-30T04:08:02.239Z"
      },
      {
        "duration": 8,
        "start_time": "2023-06-30T04:08:09.036Z"
      },
      {
        "duration": 112690,
        "start_time": "2023-06-30T04:08:09.048Z"
      },
      {
        "duration": 5,
        "start_time": "2023-06-30T04:20:31.875Z"
      },
      {
        "duration": 358860,
        "start_time": "2023-06-30T04:20:34.278Z"
      },
      {
        "duration": 5,
        "start_time": "2023-06-30T04:28:44.151Z"
      },
      {
        "duration": 796848,
        "start_time": "2023-06-30T04:28:45.994Z"
      },
      {
        "duration": 3,
        "start_time": "2023-06-30T04:44:46.568Z"
      },
      {
        "duration": 19448,
        "start_time": "2023-06-30T04:44:50.093Z"
      },
      {
        "duration": 6,
        "start_time": "2023-06-30T04:47:18.599Z"
      },
      {
        "duration": 423727,
        "start_time": "2023-06-30T04:47:20.710Z"
      },
      {
        "duration": 20085,
        "start_time": "2023-06-30T04:55:10.561Z"
      },
      {
        "duration": 7,
        "start_time": "2023-06-30T04:56:36.043Z"
      },
      {
        "duration": 5,
        "start_time": "2023-06-30T04:56:55.622Z"
      },
      {
        "duration": 476290,
        "start_time": "2023-06-30T04:56:57.949Z"
      },
      {
        "duration": 5,
        "start_time": "2023-06-30T05:09:13.778Z"
      },
      {
        "duration": 46988,
        "start_time": "2023-06-30T05:09:16.448Z"
      },
      {
        "duration": 5,
        "start_time": "2023-06-30T05:16:36.318Z"
      },
      {
        "duration": 682170,
        "start_time": "2023-06-30T05:16:37.244Z"
      },
      {
        "duration": 8,
        "start_time": "2023-06-30T05:34:21.013Z"
      },
      {
        "duration": 6,
        "start_time": "2023-06-30T05:34:46.052Z"
      },
      {
        "duration": 684532,
        "start_time": "2023-06-30T05:34:46.807Z"
      },
      {
        "duration": 5,
        "start_time": "2023-06-30T05:51:22.289Z"
      },
      {
        "duration": 372875,
        "start_time": "2023-06-30T05:51:26.258Z"
      },
      {
        "duration": 98,
        "start_time": "2023-06-30T05:57:39.138Z"
      },
      {
        "duration": 8,
        "start_time": "2023-06-30T05:57:39.238Z"
      },
      {
        "duration": 8,
        "start_time": "2023-06-30T06:09:34.900Z"
      },
      {
        "duration": 8,
        "start_time": "2023-06-30T06:10:09.964Z"
      },
      {
        "duration": 8,
        "start_time": "2023-06-30T06:11:07.854Z"
      },
      {
        "duration": 8,
        "start_time": "2023-06-30T06:11:13.452Z"
      },
      {
        "duration": 8,
        "start_time": "2023-06-30T06:11:27.622Z"
      },
      {
        "duration": 6,
        "start_time": "2023-06-30T06:12:20.052Z"
      },
      {
        "duration": 413595,
        "start_time": "2023-06-30T06:12:22.243Z"
      },
      {
        "duration": 97,
        "start_time": "2023-06-30T06:19:15.841Z"
      },
      {
        "duration": 16,
        "start_time": "2023-06-30T06:19:15.940Z"
      },
      {
        "duration": 5,
        "start_time": "2023-06-30T06:22:16.481Z"
      },
      {
        "duration": 462821,
        "start_time": "2023-06-30T06:22:19.511Z"
      },
      {
        "duration": 96,
        "start_time": "2023-06-30T06:30:02.340Z"
      },
      {
        "duration": 5,
        "start_time": "2023-06-30T06:35:51.779Z"
      },
      {
        "duration": 939,
        "start_time": "2023-06-30T06:35:51.786Z"
      },
      {
        "duration": 274,
        "start_time": "2023-06-30T06:35:52.733Z"
      },
      {
        "duration": 34,
        "start_time": "2023-06-30T06:35:53.009Z"
      },
      {
        "duration": 42,
        "start_time": "2023-06-30T06:35:53.045Z"
      },
      {
        "duration": 494,
        "start_time": "2023-06-30T06:35:53.089Z"
      },
      {
        "duration": 2476135,
        "start_time": "2023-06-30T06:35:53.585Z"
      },
      {
        "duration": 62,
        "start_time": "2023-06-30T07:17:09.721Z"
      },
      {
        "duration": 224,
        "start_time": "2023-06-30T07:17:09.786Z"
      },
      {
        "duration": 8062,
        "start_time": "2023-06-30T07:17:10.012Z"
      },
      {
        "duration": 3,
        "start_time": "2023-06-30T07:17:18.076Z"
      },
      {
        "duration": 14,
        "start_time": "2023-06-30T07:17:18.081Z"
      },
      {
        "duration": 2893158,
        "start_time": "2023-06-30T07:17:18.097Z"
      },
      {
        "duration": 84,
        "start_time": "2023-06-30T08:05:31.257Z"
      },
      {
        "duration": 100,
        "start_time": "2023-06-30T08:05:31.343Z"
      },
      {
        "duration": 4,
        "start_time": "2023-06-30T08:07:36.471Z"
      },
      {
        "duration": 911,
        "start_time": "2023-06-30T08:07:36.477Z"
      },
      {
        "duration": 277,
        "start_time": "2023-06-30T08:07:37.390Z"
      },
      {
        "duration": 42,
        "start_time": "2023-06-30T08:07:37.669Z"
      },
      {
        "duration": 4,
        "start_time": "2023-06-30T08:07:37.713Z"
      },
      {
        "duration": 593,
        "start_time": "2023-06-30T08:07:37.719Z"
      },
      {
        "duration": 3759,
        "start_time": "2023-06-30T08:09:07.555Z"
      },
      {
        "duration": 943,
        "start_time": "2023-06-30T08:09:11.316Z"
      },
      {
        "duration": 297,
        "start_time": "2023-06-30T08:09:12.261Z"
      },
      {
        "duration": 21,
        "start_time": "2023-06-30T08:09:12.560Z"
      },
      {
        "duration": 4,
        "start_time": "2023-06-30T08:09:12.583Z"
      },
      {
        "duration": 684,
        "start_time": "2023-06-30T08:09:12.588Z"
      },
      {
        "duration": 467219,
        "start_time": "2023-06-30T08:09:13.274Z"
      },
      {
        "duration": 13,
        "start_time": "2023-06-30T08:17:00.494Z"
      },
      {
        "duration": 211,
        "start_time": "2023-06-30T08:17:00.508Z"
      },
      {
        "duration": 1449,
        "start_time": "2023-06-30T08:17:00.721Z"
      },
      {
        "duration": 5,
        "start_time": "2023-06-30T08:17:02.172Z"
      },
      {
        "duration": 750762,
        "start_time": "2023-06-30T08:17:02.178Z"
      },
      {
        "duration": 14,
        "start_time": "2023-06-30T08:29:32.941Z"
      },
      {
        "duration": 110,
        "start_time": "2023-06-30T08:29:32.963Z"
      },
      {
        "duration": 144,
        "start_time": "2023-06-30T13:01:47.381Z"
      },
      {
        "duration": 45,
        "start_time": "2023-06-30T13:03:03.146Z"
      },
      {
        "duration": 4287,
        "start_time": "2023-06-30T13:03:13.686Z"
      },
      {
        "duration": 314,
        "start_time": "2023-06-30T13:03:20.226Z"
      },
      {
        "duration": 4,
        "start_time": "2023-06-30T13:03:50.129Z"
      },
      {
        "duration": 2370,
        "start_time": "2023-06-30T13:03:50.135Z"
      },
      {
        "duration": 364,
        "start_time": "2023-06-30T13:03:52.509Z"
      },
      {
        "duration": 25,
        "start_time": "2023-06-30T13:03:52.876Z"
      },
      {
        "duration": 9,
        "start_time": "2023-06-30T13:03:52.903Z"
      },
      {
        "duration": 750,
        "start_time": "2023-06-30T13:03:52.914Z"
      },
      {
        "duration": 513341,
        "start_time": "2023-06-30T13:03:53.666Z"
      },
      {
        "duration": 14,
        "start_time": "2023-06-30T13:12:27.010Z"
      },
      {
        "duration": 246,
        "start_time": "2023-06-30T13:12:27.027Z"
      },
      {
        "duration": 1637,
        "start_time": "2023-06-30T13:12:27.275Z"
      },
      {
        "duration": 7,
        "start_time": "2023-06-30T13:12:28.913Z"
      },
      {
        "duration": 20,
        "start_time": "2023-06-30T13:12:28.923Z"
      },
      {
        "duration": 37,
        "start_time": "2023-06-30T13:23:22.651Z"
      },
      {
        "duration": 7,
        "start_time": "2023-06-30T13:24:49.322Z"
      },
      {
        "duration": 5,
        "start_time": "2023-06-30T13:25:34.420Z"
      },
      {
        "duration": 8,
        "start_time": "2023-06-30T13:26:12.778Z"
      },
      {
        "duration": 7,
        "start_time": "2023-06-30T13:26:37.139Z"
      },
      {
        "duration": 109,
        "start_time": "2023-06-30T13:26:42.736Z"
      },
      {
        "duration": 161,
        "start_time": "2023-06-30T13:26:52.445Z"
      },
      {
        "duration": 12,
        "start_time": "2023-06-30T13:27:04.476Z"
      },
      {
        "duration": 10,
        "start_time": "2023-06-30T13:29:38.679Z"
      },
      {
        "duration": 670540,
        "start_time": "2023-06-30T13:30:44.836Z"
      },
      {
        "duration": 107,
        "start_time": "2023-06-30T13:42:27.623Z"
      },
      {
        "duration": 410,
        "start_time": "2023-06-30T13:43:44.119Z"
      }
    ],
    "kernelspec": {
      "display_name": "Python 3 (ipykernel)",
      "language": "python",
      "name": "python3"
    },
    "language_info": {
      "codemirror_mode": {
        "name": "ipython",
        "version": 3
      },
      "file_extension": ".py",
      "mimetype": "text/x-python",
      "name": "python",
      "nbconvert_exporter": "python",
      "pygments_lexer": "ipython3",
      "version": "3.9.5"
    },
    "toc": {
      "base_numbering": 1,
      "nav_menu": {},
      "number_sections": true,
      "sideBar": true,
      "skip_h1_title": true,
      "title_cell": "Содержание",
      "title_sidebar": "Contents",
      "toc_cell": true,
      "toc_position": {
        "height": "calc(100% - 180px)",
        "left": "10px",
        "top": "150px",
        "width": "302.391px"
      },
      "toc_section_display": true,
      "toc_window_display": true
    },
    "colab": {
      "provenance": []
    }
  },
  "nbformat": 4,
  "nbformat_minor": 0
}